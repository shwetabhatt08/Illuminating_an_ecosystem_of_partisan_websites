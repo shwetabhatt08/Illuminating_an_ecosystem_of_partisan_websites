{
 "cells": [
  {
   "cell_type": "markdown",
   "metadata": {},
   "source": [
    "# Analysis of Alexa top 5 alexa sites linked for partisan websites"
   ]
  },
  {
   "cell_type": "code",
   "execution_count": 93,
   "metadata": {
    "collapsed": true
   },
   "outputs": [],
   "source": [
    "import json\n",
    "\n",
    "json_data = open(\"data/sites_linked.json\").read()\n",
    "s_data = json.loads(json_data)"
   ]
  },
  {
   "cell_type": "code",
   "execution_count": 94,
   "metadata": {
    "collapsed": true
   },
   "outputs": [],
   "source": [
    "from urlparse import urlparse\n",
    "\n",
    "gmail_count = 0\n",
    "gplus_count = 0\n",
    "fb_count = 0 \n",
    "netloc_dict = {}  #urls for which domain name is captured by netloc\n",
    "path_dict = []    #urls for which domain name is captured by path\n",
    "for key, val in s_data.items():\n",
    "    s_data[key] = [urlparse(str(x)) for x in val]\n",
    "    "
   ]
  },
  {
   "cell_type": "code",
   "execution_count": 95,
   "metadata": {
    "collapsed": true
   },
   "outputs": [],
   "source": [
    "from partisan_sites_parser import *\n",
    "\n",
    "partisan_websites = sites  #list of all the 679 partisan sites\n",
    "left_sites = left          # left leaning partisan websites\n",
    "right_sites = right        # right leaning partisan websites\n"
   ]
  },
  {
   "cell_type": "code",
   "execution_count": 96,
   "metadata": {},
   "outputs": [
    {
     "data": {
      "text/plain": [
       "701"
      ]
     },
     "execution_count": 96,
     "metadata": {},
     "output_type": "execute_result"
    }
   ],
   "source": [
    "len(s_data.keys())"
   ]
  },
  {
   "cell_type": "code",
   "execution_count": 97,
   "metadata": {
    "collapsed": true
   },
   "outputs": [],
   "source": [
    "for key, val in s_data.items():\n",
    "    if key not in partisan_websites:\n",
    "        s_data.pop(key)\n",
    "        "
   ]
  },
  {
   "cell_type": "code",
   "execution_count": 98,
   "metadata": {
    "collapsed": true
   },
   "outputs": [],
   "source": [
    "total_linked_sites = 0\n",
    "for key, val in s_data.items():\n",
    "    for each_val in val:\n",
    "        total_linked_sites += 1\n",
    "        "
   ]
  },
  {
   "cell_type": "code",
   "execution_count": 99,
   "metadata": {},
   "outputs": [
    {
     "data": {
      "text/plain": [
       "2960"
      ]
     },
     "execution_count": 99,
     "metadata": {},
     "output_type": "execute_result"
    }
   ],
   "source": [
    "total_linked_sites"
   ]
  },
  {
   "cell_type": "code",
   "execution_count": 100,
   "metadata": {},
   "outputs": [
    {
     "data": {
      "text/plain": [
       "628"
      ]
     },
     "execution_count": 100,
     "metadata": {},
     "output_type": "execute_result"
    }
   ],
   "source": [
    "len(data.keys())"
   ]
  },
  {
   "cell_type": "code",
   "execution_count": 101,
   "metadata": {
    "collapsed": true
   },
   "outputs": [],
   "source": [
    "data_left = []\n",
    "data_right = []\n",
    "\n",
    "for each_key in data.keys():\n",
    "    if each_key in left:\n",
    "        data_left.append(each_key)\n",
    "    if each_key in right:\n",
    "        data_right.append(each_key)"
   ]
  },
  {
   "cell_type": "code",
   "execution_count": 102,
   "metadata": {},
   "outputs": [
    {
     "data": {
      "text/plain": [
       "168"
      ]
     },
     "execution_count": 102,
     "metadata": {},
     "output_type": "execute_result"
    }
   ],
   "source": [
    "len(data_left)"
   ]
  },
  {
   "cell_type": "code",
   "execution_count": 103,
   "metadata": {},
   "outputs": [
    {
     "data": {
      "text/plain": [
       "460"
      ]
     },
     "execution_count": 103,
     "metadata": {},
     "output_type": "execute_result"
    }
   ],
   "source": [
    "len(data_right)"
   ]
  },
  {
   "cell_type": "code",
   "execution_count": 104,
   "metadata": {
    "collapsed": true
   },
   "outputs": [],
   "source": [
    "from collections import Counter\n",
    "external_dict = {}\n",
    "internal_dict = {}  #contains the mapping internal sites linking to each other\n",
    "for key, val in data.items():\n",
    "    for each_val in val:\n",
    "        if each_val.netloc in partisan_websites:\n",
    "            if key not in internal_dict.keys():\n",
    "                internal_dict[key] = []\n",
    "                internal_dict[key].append(each_val.netloc)\n",
    "            else:\n",
    "                internal_dict[key].append(each_val.netloc)\n",
    "        if each_val.path.split('/')[0] in partisan_websites:\n",
    "            if key not in internal_dict.keys():\n",
    "                internal_dict[key] = []\n",
    "                internal_dict[key].append(each_val.path.split('/')[0])\n",
    "            else:\n",
    "                internal_dict[key].append(each_val.path.split('/')[0])  \n",
    "        if each_val.netloc != '':\n",
    "            if external_dict.has_key(key) == False:\n",
    "                external_dict[key] = []\n",
    "                external_dict[key].append(each_val.netloc)\n",
    "            else:\n",
    "                external_dict[key].append(each_val.netloc)\n",
    "        if each_val.path.split('/')[0] != '' and each_val.path.split('/')[0] not in partisan_websites:\n",
    "            if external_dict.has_key(key) == False:\n",
    "                external_dict[key] = []\n",
    "                external_dict[key].append(each_val.path.split('/')[0])\n",
    "            else:\n",
    "                external_dict[key].append(each_val.path.split('/')[0])\n",
    "#len(external_dict.keys())\n"
   ]
  },
  {
   "cell_type": "code",
   "execution_count": 105,
   "metadata": {
    "collapsed": true
   },
   "outputs": [],
   "source": [
    "internal_sites = internal_dict.keys()  #keys: list of partisan sites with atleast one internal site linked to them\n",
    "#len(internal_sites)"
   ]
  },
  {
   "cell_type": "code",
   "execution_count": 122,
   "metadata": {},
   "outputs": [
    {
     "data": {
      "text/plain": [
       "255"
      ]
     },
     "execution_count": 122,
     "metadata": {},
     "output_type": "execute_result"
    }
   ],
   "source": [
    "len(internal_sites)"
   ]
  },
  {
   "cell_type": "code",
   "execution_count": 107,
   "metadata": {
    "collapsed": true
   },
   "outputs": [],
   "source": [
    "internal_left = [x for x in internal_sites if x in left_sites] #left leaning internal sites\n",
    "#internal_left \n",
    "#len(internal_left)"
   ]
  },
  {
   "cell_type": "code",
   "execution_count": 108,
   "metadata": {
    "collapsed": true
   },
   "outputs": [],
   "source": [
    "internal_right = [x for x in internal_sites if x in right_sites] #right leaning internal sites\n",
    "#len(internal_right)"
   ]
  },
  {
   "cell_type": "code",
   "execution_count": 109,
   "metadata": {},
   "outputs": [
    {
     "data": {
      "text/plain": [
       "{'left': 46, 'right': 209}"
      ]
     },
     "execution_count": 109,
     "metadata": {},
     "output_type": "execute_result"
    }
   ],
   "source": [
    "plot_left_right = {}\n",
    "plot_left_right['left'] = len(internal_left)\n",
    "plot_left_right['right'] = len(internal_right)\n",
    "plot_left_right"
   ]
  },
  {
   "cell_type": "code",
   "execution_count": 110,
   "metadata": {
    "collapsed": true
   },
   "outputs": [],
   "source": [
    "internal_count = {}   #dictionary with value as internally linked partisan sites and value\n",
    "#as number of internal sites linked to them\n",
    "for key, val in internal_dict.items():\n",
    "    internal_count[key] = len(val)\n",
    "#internal_count"
   ]
  },
  {
   "cell_type": "code",
   "execution_count": 111,
   "metadata": {
    "collapsed": true
   },
   "outputs": [],
   "source": [
    "import operator\n",
    "#sorted in decreasing order of value\n",
    "internal_count = sorted(internal_count.items(), key=operator.itemgetter(1), reverse=True) \n",
    "#internal_count"
   ]
  },
  {
   "cell_type": "code",
   "execution_count": 112,
   "metadata": {
    "collapsed": true
   },
   "outputs": [],
   "source": [
    "internal_linked_sites = []   #values: list of internal sites that are linking to the 'internal_sites'\n",
    "for key, val in internal_dict.items():\n",
    "    for each_val in val:\n",
    "        internal_linked_sites.append(each_val)\n",
    "linked_sites_counter = Counter(internal_linked_sites) #number of occurrences of each site in the top 5 sites linked\n",
    "#linked_sites_counter.most_common(10)\n",
    "\n",
    "external_linked_sites = []\n",
    "for key, val in external_dict.items():\n",
    "    for each_val in val:\n",
    "        external_linked_sites.append(each_val)\n",
    "external_sites_counter = Counter(external_linked_sites)\n",
    "#external_sites_counter.most_common(25)\n",
    "#len(external_sites_counter)\n",
    "#len(set(internal_linked_sites))"
   ]
  },
  {
   "cell_type": "code",
   "execution_count": 113,
   "metadata": {},
   "outputs": [
    {
     "data": {
      "text/plain": [
       "370"
      ]
     },
     "execution_count": 113,
     "metadata": {},
     "output_type": "execute_result"
    }
   ],
   "source": [
    "len(internal_linked_sites)"
   ]
  },
  {
   "cell_type": "code",
   "execution_count": 121,
   "metadata": {},
   "outputs": [
    {
     "data": {
      "text/plain": [
       "80"
      ]
     },
     "execution_count": 121,
     "metadata": {},
     "output_type": "execute_result"
    }
   ],
   "source": [
    "len(set(internal_linked_sites))"
   ]
  },
  {
   "cell_type": "code",
   "execution_count": 123,
   "metadata": {},
   "outputs": [
    {
     "data": {
      "text/plain": [
       "[('huffingtonpost.com', 124),\n",
       " ('msn.com', 95),\n",
       " ('stuffgate.com', 74),\n",
       " ('cnn.com', 63),\n",
       " ('finance.yahoo.com', 57),\n",
       " ('url.show', 55),\n",
       " ('bbc.co.uk', 49),\n",
       " ('prprovider.com', 48),\n",
       " ('zerohedge.com', 45),\n",
       " ('nytimes.com', 44),\n",
       " ('imgur.com', 39),\n",
       " ('websitelist.in', 38),\n",
       " ('ip-173-201-142-193.ip.secureserver.net...', 35),\n",
       " ('politifact.com', 35),\n",
       " ('diply.com', 32),\n",
       " ('wykop.pl', 30),\n",
       " ('rankank.com', 30),\n",
       " ('freerepublic.com', 27),\n",
       " ('baidu.com', 26),\n",
       " ('to', 25)]"
      ]
     },
     "execution_count": 123,
     "metadata": {},
     "output_type": "execute_result"
    }
   ],
   "source": [
    "external_sites_counter.most_common(20)"
   ]
  },
  {
   "cell_type": "code",
   "execution_count": 124,
   "metadata": {
    "collapsed": true
   },
   "outputs": [],
   "source": [
    "#len(linked_sites_counter)\n",
    "linked_left = [x for x in list(set(internal_linked_sites)) if x in left_sites]\n",
    "#len(linked_left)"
   ]
  },
  {
   "cell_type": "code",
   "execution_count": 125,
   "metadata": {
    "collapsed": true
   },
   "outputs": [],
   "source": [
    "linked_right = [x for x in list(set(internal_linked_sites)) if x in right_sites]\n",
    "#len(linked_right)"
   ]
  },
  {
   "cell_type": "code",
   "execution_count": 126,
   "metadata": {},
   "outputs": [
    {
     "data": {
      "text/plain": [
       "{'left': 21, 'right': 59}"
      ]
     },
     "execution_count": 126,
     "metadata": {},
     "output_type": "execute_result"
    }
   ],
   "source": [
    "plot_linked_sites = {}\n",
    "plot_linked_sites['left'] = len(linked_left)\n",
    "plot_linked_sites['right'] = len(linked_right)\n",
    "plot_linked_sites"
   ]
  },
  {
   "cell_type": "code",
   "execution_count": 127,
   "metadata": {},
   "outputs": [
    {
     "data": {
      "text/plain": [
       "19"
      ]
     },
     "execution_count": 127,
     "metadata": {},
     "output_type": "execute_result"
    }
   ],
   "source": [
    "intersection = set(internal_sites).intersection(set(internal_linked_sites))\n",
    "len(intersection)"
   ]
  },
  {
   "cell_type": "code",
   "execution_count": 129,
   "metadata": {},
   "outputs": [
    {
     "data": {
      "text/plain": [
       "{u'alternet.org',\n",
       " u'americannewsx.com',\n",
       " u'americanthinker.com',\n",
       " u'breitbart.com',\n",
       " u'conservativefighters.com',\n",
       " u'conservativetribune.com',\n",
       " u'dailycaller.com',\n",
       " u'dailykos.com',\n",
       " u'dailynewscycle.com',\n",
       " u'dailywire.com',\n",
       " u'drudgereport.com',\n",
       " u'foxnews.com',\n",
       " u'hotair.com',\n",
       " u'investmentwatchblog.com',\n",
       " u'madworldnews.com',\n",
       " u'motherjones.com',\n",
       " u'newsbusters.org',\n",
       " u'occupydemocrats.com',\n",
       " u'salon.com',\n",
       " u'thegatewaypundit.com',\n",
       " u'thepoliticalinsider.com',\n",
       " u'townhall.com',\n",
       " u'trumptrainnews.com',\n",
       " u'truthfeed.com',\n",
       " u'washingtonjournal.com',\n",
       " u'westernjournalism.com',\n",
       " u'wnd.com'}"
      ]
     },
     "execution_count": 129,
     "metadata": {},
     "output_type": "execute_result"
    }
   ],
   "source": [
    "#intersection of internal sites_linked and internal referers \n",
    "from referer_parser import *\n",
    "\n",
    "intersection_authorities  = set(internal_sites).intersection(set(authorities))\n",
    "#len(intersection_set)\n",
    "intersection_hubs = set(internal_linked_sites).intersection(set(hubs))\n",
    "intersection_hubs"
   ]
  },
  {
   "cell_type": "code",
   "execution_count": 120,
   "metadata": {},
   "outputs": [
    {
     "name": "stdout",
     "output_type": "stream",
     "text": [
      "# Partisan sites with top internal linked sites:  255\n",
      "# Left:  46\n",
      "# Right:  209\n",
      "# Partisan sites in the top 5 sites linked:  80\n",
      "# Left:  21\n",
      "# Right:  59\n",
      "# intersection of above two sets:  19\n",
      "# External sites in the top 5 sites linked:  749\n"
     ]
    },
    {
     "data": {
      "text/plain": [
       "'To do: Create box plots of rank'"
      ]
     },
     "execution_count": 120,
     "metadata": {},
     "output_type": "execute_result"
    }
   ],
   "source": [
    "#Results:\n",
    "print \"# Partisan sites with top internal linked sites: \", len(internal_sites)\n",
    "print \"# Left: \", len(internal_left)\n",
    "print \"# Right: \", len(internal_right)\n",
    "print \"# Partisan sites in the top 5 sites linked: \", len(linked_sites_counter)\n",
    "print \"# Left: \", len(linked_left)\n",
    "print \"# Right: \", len(linked_right)\n",
    "print \"# intersection of above two sets: \", len(intersection)\n",
    "print \"# External sites in the top 5 sites linked: \", len(external_sites_counter)"
   ]
  },
  {
   "cell_type": "code",
   "execution_count": null,
   "metadata": {
    "collapsed": true
   },
   "outputs": [],
   "source": []
  }
 ],
 "metadata": {
  "kernelspec": {
   "display_name": "Python 2",
   "language": "python",
   "name": "python2"
  },
  "language_info": {
   "codemirror_mode": {
    "name": "ipython",
    "version": 2
   },
   "file_extension": ".py",
   "mimetype": "text/x-python",
   "name": "python",
   "nbconvert_exporter": "python",
   "pygments_lexer": "ipython2",
   "version": "2.7.13"
  }
 },
 "nbformat": 4,
 "nbformat_minor": 2
}
