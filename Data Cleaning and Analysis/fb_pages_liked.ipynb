{
 "cells": [
  {
   "cell_type": "markdown",
   "metadata": {},
   "source": [
    "# Analysis of Page followers of Partisan Facebook pages"
   ]
  },
  {
   "cell_type": "code",
   "execution_count": null,
   "metadata": {
    "collapsed": true
   },
   "outputs": [],
   "source": [
    "import pandas\n",
    "import pandas as pd\n",
    "import numpy as np\n",
    "import operator\n",
    "import glob\n",
    "from os.path import expanduser as ospath\n",
    "from urlparse import urlparse\n",
    "import os\n",
    "import requests\n",
    "from requests_toolbelt.utils import dump\n",
    "import unicodedata\n",
    "import facebook\n",
    "from collections import Counter\n",
    "import json\n",
    "import time\n",
    "\n",
    "\n",
    "dir_name = 'follower_pages/'\n",
    "json_pattern = os.path.join(dir_name,'*.json')\n",
    "file_list = glob.glob(json_pattern)\n"
   ]
  },
  {
   "cell_type": "code",
   "execution_count": 2,
   "metadata": {},
   "outputs": [
    {
     "data": {
      "text/plain": [
       "487"
      ]
     },
     "execution_count": 2,
     "metadata": {},
     "output_type": "execute_result"
    }
   ],
   "source": [
    "len(file_list)"
   ]
  },
  {
   "cell_type": "code",
   "execution_count": 3,
   "metadata": {
    "collapsed": true
   },
   "outputs": [],
   "source": [
    "active_ids = []"
   ]
  },
  {
   "cell_type": "code",
   "execution_count": 4,
   "metadata": {
    "collapsed": true
   },
   "outputs": [],
   "source": [
    "map_df = pandas.read_csv('data/fb_pages_mapping.csv')\n",
    "active_ids = list(map_df['id'])\n",
    "active_ids = [str(x) for x in active_ids]"
   ]
  },
  {
   "cell_type": "code",
   "execution_count": 5,
   "metadata": {},
   "outputs": [
    {
     "data": {
      "text/plain": [
       "487"
      ]
     },
     "execution_count": 5,
     "metadata": {},
     "output_type": "execute_result"
    }
   ],
   "source": [
    "len(active_ids)"
   ]
  },
  {
   "cell_type": "code",
   "execution_count": 6,
   "metadata": {
    "collapsed": true
   },
   "outputs": [],
   "source": [
    "json_data = open(file_list[0]).read()\n",
    "page = json.loads(json_data)\n",
    "page_id = file_list[0].split(\"/\")[1].split(\".\")[0]"
   ]
  },
  {
   "cell_type": "code",
   "execution_count": 7,
   "metadata": {
    "collapsed": true
   },
   "outputs": [],
   "source": [
    "active_file_list = []\n",
    "for each_file in file_list:\n",
    "    page_id = each_file.split(\"/\")[1].split(\".\")[0]\n",
    "    #print type(page_id)\n",
    "    if page_id in active_ids:\n",
    "        active_file_list.append(each_file)\n",
    "  "
   ]
  },
  {
   "cell_type": "code",
   "execution_count": 8,
   "metadata": {},
   "outputs": [
    {
     "data": {
      "text/plain": [
       "487"
      ]
     },
     "execution_count": 8,
     "metadata": {},
     "output_type": "execute_result"
    }
   ],
   "source": [
    "len(active_ids)"
   ]
  },
  {
   "cell_type": "code",
   "execution_count": 9,
   "metadata": {},
   "outputs": [
    {
     "name": "stdout",
     "output_type": "stream",
     "text": [
      "{u'error': {u'message': u\"Unsupported get request. Object with ID '269815666696444' does not exist, cannot be loaded due to missing permissions, or does not support this operation. Please read the Graph API documentation at https://developers.facebook.com/docs/graph-api\", u'code': 100, u'type': u'GraphMethodException', u'fbtrace_id': u'CvmFM/QUX6v'}}\n",
      "{u'error': {u'message': u\"Unsupported get request. Object with ID '590630060984225' does not exist, cannot be loaded due to missing permissions, or does not support this operation. Please read the Graph API documentation at https://developers.facebook.com/docs/graph-api\", u'code': 100, u'type': u'GraphMethodException', u'fbtrace_id': u'HV1cvwkiNZb'}}\n"
     ]
    }
   ],
   "source": [
    "follower_dict = {}\n",
    "for each_file in active_file_list:\n",
    "    json_data = open(each_file).read()\n",
    "    page = json.loads(json_data)\n",
    "    page_id = each_file.split(\"/\")[1].split(\".\")[0]\n",
    "    try:\n",
    "        for each_page in page['data']:\n",
    "            if each_page['id'] in active_ids:\n",
    "                if follower_dict.has_key(page_id) == False:\n",
    "                    follower_dict[page_id] = []\n",
    "                    follower_dict[page_id].append(each_page)\n",
    "                else:\n",
    "                    follower_dict[page_id].append(each_page)\n",
    "    except:\n",
    "        print page"
   ]
  },
  {
   "cell_type": "code",
   "execution_count": 10,
   "metadata": {
    "collapsed": true
   },
   "outputs": [],
   "source": [
    "#follower_dict\n",
    "follower_count_dict = {}\n",
    "for key, val in follower_dict.items():\n",
    "    follower_count_dict[key] = len(val)\n"
   ]
  },
  {
   "cell_type": "code",
   "execution_count": 18,
   "metadata": {},
   "outputs": [
    {
     "data": {
      "text/plain": [
       "205"
      ]
     },
     "execution_count": 18,
     "metadata": {},
     "output_type": "execute_result"
    }
   ],
   "source": [
    "len(follower_count_dict)"
   ]
  },
  {
   "cell_type": "code",
   "execution_count": 12,
   "metadata": {},
   "outputs": [
    {
     "name": "stdout",
     "output_type": "stream",
     "text": [
      "282\n"
     ]
    }
   ],
   "source": [
    "c = 0\n",
    "for each_id in active_ids:\n",
    "    if each_id not in follower_dict.keys():\n",
    "        #print each_id\n",
    "        c+=1\n",
    "print c"
   ]
  },
  {
   "cell_type": "code",
   "execution_count": 13,
   "metadata": {},
   "outputs": [
    {
     "data": {
      "text/plain": [
       "205"
      ]
     },
     "execution_count": 13,
     "metadata": {},
     "output_type": "execute_result"
    }
   ],
   "source": [
    "len(follower_count_dict)\n"
   ]
  },
  {
   "cell_type": "code",
   "execution_count": null,
   "metadata": {
    "collapsed": true
   },
   "outputs": [],
   "source": [
    "active_ids"
   ]
  },
  {
   "cell_type": "code",
   "execution_count": 15,
   "metadata": {
    "collapsed": true
   },
   "outputs": [],
   "source": [
    "internal_follower_dict = {}\n",
    "for key, val in follower_dict.items():\n",
    "    for each_val in val:\n",
    "        if each_val['id'] in active_ids:\n",
    "            if internal_follower_dict.has_key(key) == False:\n",
    "                internal_follower_dict[key] = []\n",
    "                internal_follower_dict[key].append(each_val)\n",
    "            else:\n",
    "                internal_follower_dict[key].append(each_val)\n",
    "                "
   ]
  },
  {
   "cell_type": "code",
   "execution_count": 16,
   "metadata": {
    "collapsed": true
   },
   "outputs": [],
   "source": [
    "int_follower_count_dict = {}\n",
    "for key, val in internal_follower_dict.items():\n",
    "    int_follower_count_dict[key] = len(val)"
   ]
  },
  {
   "cell_type": "code",
   "execution_count": 17,
   "metadata": {},
   "outputs": [
    {
     "data": {
      "text/plain": [
       "205"
      ]
     },
     "execution_count": 17,
     "metadata": {},
     "output_type": "execute_result"
    }
   ],
   "source": [
    "len(int_follower_count_dict)"
   ]
  },
  {
   "cell_type": "code",
   "execution_count": 34,
   "metadata": {},
   "outputs": [
    {
     "data": {
      "text/plain": [
       "[('135665053303678', 34),\n",
       " ('123624513983', 28),\n",
       " ('144344708930358', 28),\n",
       " ('119049414803510', 25),\n",
       " ('200137333331078', 21),\n",
       " ('1640832309490921', 21),\n",
       " ('359591544295', 18),\n",
       " ('141741139173942', 17),\n",
       " ('158924294183807', 17),\n",
       " ('10498053716', 16),\n",
       " ('6333396177', 16),\n",
       " ('215148520550', 16),\n",
       " ('19420215926', 16),\n",
       " ('148345978571352', 15),\n",
       " ('183356311699411', 15),\n",
       " ('171190156249770', 15),\n",
       " ('249114388493918', 15),\n",
       " ('208385689205703', 14),\n",
       " ('32109457015', 14),\n",
       " ('695526053890545', 14),\n",
       " ('305986132775543', 14),\n",
       " ('248272551923470', 14),\n",
       " ('222920264405712', 13),\n",
       " ('117899091558228', 13),\n",
       " ('64639136366', 13),\n",
       " ('20239752285', 12),\n",
       " ('44667476574', 12),\n",
       " ('20324257234', 12),\n",
       " ('978296472213431', 11),\n",
       " ('41632789656', 11),\n",
       " ('174133289343084', 11),\n",
       " ('135403221037', 11),\n",
       " ('169204449790211', 10),\n",
       " ('112415152112864', 10),\n",
       " ('253546571389025', 10),\n",
       " ('572064949480977', 9),\n",
       " ('210357995667559', 9),\n",
       " ('387740238090754', 9),\n",
       " ('152308008195941', 9),\n",
       " ('749061648443344', 9),\n",
       " ('102413723172970', 9),\n",
       " ('134176153323755', 9),\n",
       " ('15779440092', 8),\n",
       " ('32125256650', 8),\n",
       " ('49867377595', 8),\n",
       " ('228565633877379', 8),\n",
       " ('186473214703370', 8),\n",
       " ('180213475460766', 8),\n",
       " ('731244080298286', 8),\n",
       " ('95475020353', 8),\n",
       " ('283521255350943', 8),\n",
       " ('201956993160690', 8),\n",
       " ('8936818385', 8),\n",
       " ('100434040001314', 7),\n",
       " ('92925746942', 7),\n",
       " ('239225158893', 7),\n",
       " ('195442743826815', 7),\n",
       " ('230537773698519', 7),\n",
       " ('114528955231791', 7),\n",
       " ('46587884802', 7),\n",
       " ('357615034424156', 7),\n",
       " ('17108852506', 7),\n",
       " ('268311603350722', 7),\n",
       " ('456512747696523', 7),\n",
       " ('357239084310002', 7),\n",
       " ('182615891752277', 6),\n",
       " ('392570397445248', 6),\n",
       " ('216931248339739', 6),\n",
       " ('21375324480', 6),\n",
       " ('160260190686110', 6),\n",
       " ('114364638621903', 6),\n",
       " ('352859651422892', 6),\n",
       " ('533719316792782', 6),\n",
       " ('249924365130007', 6),\n",
       " ('344637645551128', 6),\n",
       " ('7292655492', 6),\n",
       " ('106547192707583', 6),\n",
       " ('217722751695604', 6),\n",
       " ('363572153995471', 5),\n",
       " ('208763874023', 5),\n",
       " ('16512617979', 5),\n",
       " ('1089660871073245', 5),\n",
       " ('7629206115', 5),\n",
       " ('1129007383778921', 5),\n",
       " ('16775672689', 5),\n",
       " ('14510925609', 5),\n",
       " ('83865976093', 5),\n",
       " ('1564924110429668', 5),\n",
       " ('26595441166', 5),\n",
       " ('346937065399354', 5),\n",
       " ('245481491808', 5),\n",
       " ('137026356326120', 5),\n",
       " ('479687202044787', 4),\n",
       " ('107546629279454', 4),\n",
       " ('142432192446984', 4),\n",
       " ('1036253643101134', 4),\n",
       " ('114517875225866', 4),\n",
       " ('114345125931', 4),\n",
       " ('542681229094582', 4),\n",
       " ('269123710083', 4)]"
      ]
     },
     "execution_count": 34,
     "metadata": {},
     "output_type": "execute_result"
    }
   ],
   "source": [
    "Counter(int_follower_count_dict).most_common(100)"
   ]
  },
  {
   "cell_type": "code",
   "execution_count": 21,
   "metadata": {
    "collapsed": true
   },
   "outputs": [],
   "source": [
    "total_pages = []\n",
    "for val in follower_dict.values():\n",
    "    for each_val in val:\n",
    "        total_pages.append(each_val['name']) "
   ]
  },
  {
   "cell_type": "code",
   "execution_count": 22,
   "metadata": {},
   "outputs": [
    {
     "data": {
      "text/plain": [
       "241"
      ]
     },
     "execution_count": 22,
     "metadata": {},
     "output_type": "execute_result"
    }
   ],
   "source": [
    "len(set(total_pages))"
   ]
  },
  {
   "cell_type": "code",
   "execution_count": 23,
   "metadata": {
    "collapsed": true
   },
   "outputs": [],
   "source": [
    "total_int_pages = []\n",
    "for val in internal_follower_dict.values():\n",
    "    for each_val in val:\n",
    "        total_int_pages.append(each_val['name'])"
   ]
  },
  {
   "cell_type": "code",
   "execution_count": 24,
   "metadata": {
    "collapsed": true
   },
   "outputs": [],
   "source": [
    "page_keys = list(map_df[map_df['id'].isin(internal_follower_dict.keys())]['page_name'])"
   ]
  },
  {
   "cell_type": "code",
   "execution_count": 25,
   "metadata": {},
   "outputs": [
    {
     "data": {
      "text/plain": [
       "205"
      ]
     },
     "execution_count": 25,
     "metadata": {},
     "output_type": "execute_result"
    }
   ],
   "source": [
    "len(page_keys)"
   ]
  },
  {
   "cell_type": "code",
   "execution_count": 26,
   "metadata": {
    "collapsed": true
   },
   "outputs": [],
   "source": [
    "total_nodes = list(set(total_int_pages)) + page_keys"
   ]
  },
  {
   "cell_type": "code",
   "execution_count": 27,
   "metadata": {
    "collapsed": true
   },
   "outputs": [],
   "source": [
    "total_unique_nodes = list(set(total_nodes))"
   ]
  },
  {
   "cell_type": "code",
   "execution_count": 29,
   "metadata": {},
   "outputs": [
    {
     "data": {
      "text/plain": [
       "289"
      ]
     },
     "execution_count": 29,
     "metadata": {},
     "output_type": "execute_result"
    }
   ],
   "source": [
    "len(total_unique_nodes)"
   ]
  },
  {
   "cell_type": "code",
   "execution_count": 30,
   "metadata": {
    "collapsed": true
   },
   "outputs": [],
   "source": [
    "total_edges = 0\n",
    "for key, val in int_follower_count_dict.items():\n",
    "    total_edges += val"
   ]
  },
  {
   "cell_type": "code",
   "execution_count": 31,
   "metadata": {},
   "outputs": [
    {
     "data": {
      "text/plain": [
       "[(u'Mother Jones', 29),\n",
       " (u'The Heritage Foundation', 26),\n",
       " (u'Mark Levin', 26),\n",
       " (u'Fox News', 21),\n",
       " (u'ThinkProgress', 18),\n",
       " (u'Media Matters for America', 18),\n",
       " (u'Sean Hannity', 17),\n",
       " (u'Daily Kos', 16),\n",
       " (u'Allen West', 16),\n",
       " (u'Rush Limbaugh', 16)]"
      ]
     },
     "execution_count": 31,
     "metadata": {},
     "output_type": "execute_result"
    }
   ],
   "source": [
    "Counter(total_int_pages).most_common(10)"
   ]
  },
  {
   "cell_type": "code",
   "execution_count": null,
   "metadata": {
    "collapsed": true
   },
   "outputs": [],
   "source": [
    "Counter(int_follower_count_dict).most_common(10)"
   ]
  },
  {
   "cell_type": "code",
   "execution_count": 32,
   "metadata": {},
   "outputs": [
    {
     "data": {
      "text/plain": [
       "289"
      ]
     },
     "execution_count": 32,
     "metadata": {},
     "output_type": "execute_result"
    }
   ],
   "source": [
    "len(total_unique_nodes)"
   ]
  },
  {
   "cell_type": "code",
   "execution_count": 35,
   "metadata": {},
   "outputs": [
    {
     "data": {
      "text/plain": [
       "1163"
      ]
     },
     "execution_count": 35,
     "metadata": {},
     "output_type": "execute_result"
    }
   ],
   "source": [
    "total_edges"
   ]
  },
  {
   "cell_type": "code",
   "execution_count": null,
   "metadata": {
    "collapsed": true
   },
   "outputs": [],
   "source": []
  }
 ],
 "metadata": {
  "kernelspec": {
   "display_name": "Python 2",
   "language": "python",
   "name": "python2"
  },
  "language_info": {
   "codemirror_mode": {
    "name": "ipython",
    "version": 2
   },
   "file_extension": ".py",
   "mimetype": "text/x-python",
   "name": "python",
   "nbconvert_exporter": "python",
   "pygments_lexer": "ipython2",
   "version": "2.7.13"
  }
 },
 "nbformat": 4,
 "nbformat_minor": 2
}
