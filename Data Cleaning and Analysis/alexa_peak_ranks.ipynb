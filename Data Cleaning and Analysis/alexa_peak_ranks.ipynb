{
 "cells": [
  {
   "cell_type": "markdown",
   "metadata": {},
   "source": [
    "# Analysis of longitudinal Alexa ranks of partisan websites to find their popularity trends"
   ]
  },
  {
   "cell_type": "code",
   "execution_count": 1,
   "metadata": {
    "collapsed": true
   },
   "outputs": [],
   "source": [
    "\n",
    "import json\n",
    "import os\n",
    "import glob\n",
    "import time\n",
    "import datetime\n",
    "from email.Utils import formatdate\n",
    "import pandas as pd\n",
    "dir_name = 'data/Alexa_rank_charts'\n",
    "json_pattern = os.path.join(dir_name,'*.json')\n",
    "file_list = glob.glob(json_pattern)"
   ]
  },
  {
   "cell_type": "code",
   "execution_count": 2,
   "metadata": {
    "collapsed": true
   },
   "outputs": [],
   "source": [
    "def get_formatted_list(rank_list):\n",
    "    for each_dict in rank_list:\n",
    "        for key, val in each_dict.items():\n",
    "            if key == 'x':\n",
    "                val = time.strftime(\"%a %d %b %Y %H:%M:%S GMT\", time.gmtime(float(val) / 1000.0))\n",
    "                each_dict[key] = val\n",
    "    return rank_list"
   ]
  },
  {
   "cell_type": "code",
   "execution_count": 36,
   "metadata": {
    "collapsed": true
   },
   "outputs": [],
   "source": [
    "def get_month_rank_dict(rank_list):\n",
    "    month_rank_dict = {}\n",
    "    for each_dict in rank_list:\n",
    "        for key, val in each_dict.items():\n",
    "            if key == 'x':\n",
    "                if 'Jun 2016' in val or 'July' in val or 'Aug' in val or 'Sep' in val or 'Oct'in val:\n",
    "                    if month_rank_dict.has_key('Before Nov 2016') == False:\n",
    "                        month_rank_dict['Before Nov 2016'] = []\n",
    "                        month_rank_dict['Before Nov 2016'].append(each_dict['y'])\n",
    "                    else:\n",
    "                        month_rank_dict['Before Nov 2016'].append(each_dict['y'])\n",
    "                if 'Nov' in val or 'Dec' in val or 'Jan' in val or 'Feb' in val:\n",
    "                    if month_rank_dict.has_key('Nov-Feb') == False:\n",
    "                        month_rank_dict['Nov-Feb'] = []\n",
    "                        month_rank_dict['Nov-Feb'].append(each_dict['y'])\n",
    "                    else:\n",
    "                        month_rank_dict['Nov-Feb'].append(each_dict['y'])\n",
    "                if 'Mar' in val or 'Apr' in val or 'May' in val or 'Jun 2017' in val:\n",
    "                    if month_rank_dict.has_key('After Feb 2017') == False:\n",
    "                        month_rank_dict['After Feb 2017'] = []\n",
    "                        month_rank_dict['After Feb 2017'].append(each_dict['y'])\n",
    "                    else:\n",
    "                        month_rank_dict['After Feb 2017'].append(each_dict['y'])\n",
    "    return month_rank_dict\n"
   ]
  },
  {
   "cell_type": "code",
   "execution_count": 37,
   "metadata": {
    "collapsed": true
   },
   "outputs": [],
   "source": [
    "rank_dict = {}\n",
    "\n",
    "for each_file in file_list:\n",
    "    json_data = open(each_file).read()\n",
    "    try:\n",
    "        data = json.loads(json_data)\n",
    "        url = data['chartData'].keys()[0]\n",
    "        #print url\n",
    "        rank_list = get_formatted_list(data['chartData'][url]['rank'])\n",
    "        rank_dict[url] = rank_list\n",
    "    except ValueError, e:\n",
    "        print e, each_file\n",
    "        "
   ]
  },
  {
   "cell_type": "code",
   "execution_count": 38,
   "metadata": {
    "collapsed": true
   },
   "outputs": [],
   "source": [
    "directory = \"data/Temporal_data/\"\n",
    "\n",
    "for key in rank_dict.keys():\n",
    "    each_df = pd.DataFrame(rank_dict[key])\n",
    "    filename = directory + key + \".csv\"\n",
    "    each_df.to_csv(filename, index=False, encoding='utf-8')\n"
   ]
  },
  {
   "cell_type": "code",
   "execution_count": 39,
   "metadata": {
    "collapsed": true
   },
   "outputs": [],
   "source": [
    "month_rank_dict = {}\n",
    "for key, val in rank_dict.items():\n",
    "    month_rank_dict[key] = get_month_rank_dict(val)\n",
    "no_rank_list = []\n",
    "for key, val in month_rank_dict.items():\n",
    "    if val == {}:\n",
    "        no_rank_list.append(key)"
   ]
  },
  {
   "cell_type": "code",
   "execution_count": 40,
   "metadata": {
    "collapsed": true
   },
   "outputs": [],
   "source": [
    "def get_top_rank_dict(month_dict):\n",
    "    top_rank_dict = {}\n",
    "    for key, val in month_dict.items():\n",
    "        top_rank_dict[key] = min(val)\n",
    "    return top_rank_dict\n",
    "    "
   ]
  },
  {
   "cell_type": "code",
   "execution_count": 41,
   "metadata": {
    "collapsed": true
   },
   "outputs": [],
   "source": [
    "import operator\n",
    "from partisan_sites_parser import *\n",
    "\n",
    "top_rank_dict = {}\n",
    "max_rank_dict = {}\n",
    "for key, val in month_rank_dict.items():\n",
    "    top_rank_dict[key] = get_top_rank_dict(val)"
   ]
  },
  {
   "cell_type": "code",
   "execution_count": 43,
   "metadata": {
    "scrolled": true
   },
   "outputs": [
    {
     "data": {
      "text/plain": [
       "586"
      ]
     },
     "execution_count": 43,
     "metadata": {},
     "output_type": "execute_result"
    }
   ],
   "source": [
    "len(top_rank_dict)"
   ]
  },
  {
   "cell_type": "code",
   "execution_count": 44,
   "metadata": {
    "collapsed": true
   },
   "outputs": [],
   "source": [
    "no_rank_list = []\n",
    "for key, val in top_rank_dict.items():\n",
    "    #print val\n",
    "    if val == {}:\n",
    "        top_rank_dict.pop(key)\n",
    "        no_rank_list.append(key)"
   ]
  },
  {
   "cell_type": "code",
   "execution_count": 46,
   "metadata": {},
   "outputs": [
    {
     "data": {
      "text/plain": [
       "179"
      ]
     },
     "execution_count": 46,
     "metadata": {},
     "output_type": "execute_result"
    }
   ],
   "source": [
    "len(left)"
   ]
  },
  {
   "cell_type": "code",
   "execution_count": 47,
   "metadata": {},
   "outputs": [
    {
     "data": {
      "text/plain": [
       "489"
      ]
     },
     "execution_count": 47,
     "metadata": {},
     "output_type": "execute_result"
    }
   ],
   "source": [
    "len(right)"
   ]
  },
  {
   "cell_type": "code",
   "execution_count": 48,
   "metadata": {
    "collapsed": true
   },
   "outputs": [],
   "source": [
    "rank_chart_left = []\n",
    "rank_chart_right = []\n",
    "from partisan_sites_parser import *\n",
    "for each_key in top_rank_dict.keys():\n",
    "    if each_key in left:\n",
    "        rank_chart_left.append(each_key)\n",
    "    if each_key in right:\n",
    "        rank_chart_right.append(each_key)"
   ]
  },
  {
   "cell_type": "code",
   "execution_count": 49,
   "metadata": {},
   "outputs": [
    {
     "data": {
      "text/plain": [
       "389"
      ]
     },
     "execution_count": 49,
     "metadata": {},
     "output_type": "execute_result"
    }
   ],
   "source": [
    "len(rank_chart_right)"
   ]
  },
  {
   "cell_type": "code",
   "execution_count": 50,
   "metadata": {},
   "outputs": [
    {
     "data": {
      "text/plain": [
       "159"
      ]
     },
     "execution_count": 50,
     "metadata": {},
     "output_type": "execute_result"
    }
   ],
   "source": [
    "len(rank_chart_left)"
   ]
  },
  {
   "cell_type": "code",
   "execution_count": 52,
   "metadata": {
    "collapsed": true
   },
   "outputs": [],
   "source": [
    "def get_max_rank_dict(rank_chart_dict):\n",
    "    max_rank_dict = {}\n",
    "    for key, val in rank_chart_dict.items():\n",
    "        max_rank = min(val.values())\n",
    "        if 'Nov-Feb' in val.keys():\n",
    "            if max_rank == val['Nov-Feb']:\n",
    "                if max_rank_dict.has_key('Nov-Feb') == False:\n",
    "                    max_rank_dict['Nov-Feb'] = []\n",
    "                    max_rank_dict['Nov-Feb'].append(key)\n",
    "                else:\n",
    "                    max_rank_dict['Nov-Feb'].append(key)\n",
    "        if 'After Feb 2017' in val.keys():\n",
    "            if max_rank == val['After Feb 2017']:\n",
    "                if max_rank_dict.has_key('After Feb 2017') == False:\n",
    "                    max_rank_dict['After Feb 2017'] = []\n",
    "                    max_rank_dict['After Feb 2017'].append(key)\n",
    "                else:\n",
    "                    max_rank_dict['After Feb 2017'].append(key)\n",
    "        if 'Before Nov 2016' in val.keys():\n",
    "            if max_rank == val['Before Nov 2016']:\n",
    "                if max_rank_dict.has_key('Before Nov 2016') == False:\n",
    "                    max_rank_dict['Before Nov 2016'] = []\n",
    "                    max_rank_dict['Before Nov 2016'].append(key)\n",
    "                else:\n",
    "                    max_rank_dict['Before Nov 2016'].append(key)\n",
    "    return max_rank_dict"
   ]
  },
  {
   "cell_type": "code",
   "execution_count": 53,
   "metadata": {
    "collapsed": true
   },
   "outputs": [],
   "source": [
    "max_rank_dict = get_max_rank_dict(top_rank_dict)"
   ]
  },
  {
   "cell_type": "code",
   "execution_count": 54,
   "metadata": {
    "collapsed": true
   },
   "outputs": [],
   "source": [
    "max_rank_left = {}\n",
    "max_rank_right = {}"
   ]
  },
  {
   "cell_type": "code",
   "execution_count": 55,
   "metadata": {
    "collapsed": true
   },
   "outputs": [],
   "source": [
    "for key, val in max_rank_dict.items():\n",
    "    for each_val in val:\n",
    "        if each_val in rank_chart_left:\n",
    "            if key not in max_rank_left.keys():\n",
    "                max_rank_left[key] = []\n",
    "                max_rank_left[key].append(each_val)\n",
    "            else:\n",
    "                max_rank_left[key].append(each_val)\n",
    "        if each_val in rank_chart_right:\n",
    "            if key not in max_rank_right.keys():\n",
    "                max_rank_right[key] = []\n",
    "                max_rank_right[key].append(each_val)\n",
    "            else:\n",
    "                max_rank_right[key].append(each_val)"
   ]
  },
  {
   "cell_type": "code",
   "execution_count": 56,
   "metadata": {
    "collapsed": true
   },
   "outputs": [],
   "source": [
    "def get_max_rank_plot_data(max_rank_dict):\n",
    "    max_rank_plot_data = {}\n",
    "    for key, val in max_rank_dict.items():\n",
    "        max_rank_plot_data[key] = len(set(val))\n",
    "    return max_rank_plot_data"
   ]
  },
  {
   "cell_type": "code",
   "execution_count": 57,
   "metadata": {
    "collapsed": true
   },
   "outputs": [],
   "source": [
    "max_rank_plot_left = {}\n",
    "max_rank_plot_right = {}"
   ]
  },
  {
   "cell_type": "code",
   "execution_count": 58,
   "metadata": {
    "collapsed": true
   },
   "outputs": [],
   "source": [
    "max_rank_plot_left = get_max_rank_plot_data(max_rank_left)\n",
    "max_rank_plot_right = get_max_rank_plot_data(max_rank_right)"
   ]
  },
  {
   "cell_type": "code",
   "execution_count": 59,
   "metadata": {},
   "outputs": [
    {
     "data": {
      "text/plain": [
       "{'After Feb 2017': 40, 'Before Nov 2016': 54, 'Nov-Feb': 65}"
      ]
     },
     "execution_count": 59,
     "metadata": {},
     "output_type": "execute_result"
    }
   ],
   "source": [
    "max_rank_plot_left"
   ]
  },
  {
   "cell_type": "code",
   "execution_count": 60,
   "metadata": {},
   "outputs": [
    {
     "data": {
      "text/plain": [
       "{'After Feb 2017': 86, 'Before Nov 2016': 116, 'Nov-Feb': 188}"
      ]
     },
     "execution_count": 60,
     "metadata": {},
     "output_type": "execute_result"
    }
   ],
   "source": [
    "max_rank_plot_right"
   ]
  },
  {
   "cell_type": "code",
   "execution_count": null,
   "metadata": {
    "collapsed": true
   },
   "outputs": [],
   "source": [
    "election_websites = {}\n",
    "\n",
    "for key, val in top_rank_dict.items():\n",
    "    if len(val.values()) > 5:\n",
    "        max_rank = min(val.values())\n",
    "        if max_rank == val['Nov'] or max_rank == val['Dec'] or max_rank == val['Jan']:\n",
    "            delta_before = val['Before'] - max_rank\n",
    "            delta_after = max_rank - val['After']\n",
    "            election_websites[key] = {}\n",
    "            election_websites[key]['max_rank'] = max_rank\n",
    "            election_websites[key]['delta_before'] = delta_before\n",
    "            election_websites[key]['delta_after'] = delta_after"
   ]
  },
  {
   "cell_type": "code",
   "execution_count": null,
   "metadata": {
    "collapsed": true
   },
   "outputs": [],
   "source": [
    "import pandas as pd\n",
    "df = pd.DataFrame(election_websites)\n"
   ]
  }
 ],
 "metadata": {
  "kernelspec": {
   "display_name": "Python 2",
   "language": "python",
   "name": "python2"
  },
  "language_info": {
   "codemirror_mode": {
    "name": "ipython",
    "version": 2
   },
   "file_extension": ".py",
   "mimetype": "text/x-python",
   "name": "python",
   "nbconvert_exporter": "python",
   "pygments_lexer": "ipython2",
   "version": "2.7.13"
  }
 },
 "nbformat": 4,
 "nbformat_minor": 2
}
