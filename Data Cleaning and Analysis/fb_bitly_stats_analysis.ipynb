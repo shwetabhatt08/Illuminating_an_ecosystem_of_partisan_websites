{
 "cells": [
  {
   "cell_type": "markdown",
   "metadata": {},
   "source": [
    "# Analysis of Bitly URL posts of Partisan Facebook pages "
   ]
  },
  {
   "cell_type": "code",
   "execution_count": 1,
   "metadata": {
    "collapsed": true
   },
   "outputs": [],
   "source": [
    "import pandas\n",
    "import pandas as pd\n",
    "import numpy as np\n",
    "import operator\n",
    "import glob\n",
    "from os.path import expanduser as ospath\n",
    "from urlparse import urlparse\n",
    "import os\n",
    "import requests\n",
    "from requests_toolbelt.utils import dump\n",
    "import unicodedata\n",
    "import facebook\n",
    "from collections import Counter\n",
    "import json\n",
    "\n",
    "\n",
    "bitly_dir = 'bitly_cumulative_stats/'\n",
    "dir_pattern = os.path.join(bitly_dir, '*')\n",
    "bitly_sub_dir_list = glob.glob(dir_pattern)\n",
    "\n",
    "status_dir = 'data/statuses'\n",
    "csv_pattern = os.path.join(status_dir,'*.csv')\n",
    "status_file_list = glob.glob(csv_pattern)\n"
   ]
  },
  {
   "cell_type": "code",
   "execution_count": 2,
   "metadata": {},
   "outputs": [
    {
     "data": {
      "text/plain": [
       "229"
      ]
     },
     "execution_count": 2,
     "metadata": {},
     "output_type": "execute_result"
    }
   ],
   "source": [
    "len(bitly_sub_dir_list)"
   ]
  },
  {
   "cell_type": "code",
   "execution_count": 3,
   "metadata": {},
   "outputs": [
    {
     "data": {
      "text/plain": [
       "'data/statuses/100434040001314_facebook_statuses.csv'"
      ]
     },
     "execution_count": 3,
     "metadata": {},
     "output_type": "execute_result"
    }
   ],
   "source": [
    "status_file_list[0]"
   ]
  },
  {
   "cell_type": "code",
   "execution_count": 4,
   "metadata": {
    "collapsed": true
   },
   "outputs": [],
   "source": [
    "bitly_status_dict = {}\n",
    "for each_file in status_file_list:\n",
    "    for each_dir in bitly_sub_dir_list:\n",
    "        if str(each_dir.split(\"/\")[1]) in each_file:\n",
    "            bitly_status_dict[each_dir] = each_file"
   ]
  },
  {
   "cell_type": "code",
   "execution_count": 6,
   "metadata": {
    "collapsed": true
   },
   "outputs": [],
   "source": [
    "total_files = 0\n",
    "\n",
    "for each_dir in bitly_sub_dir_list:\n",
    "    json_pattern = os.path.join(each_dir, '*.json')\n",
    "    file_list = glob.glob(json_pattern)\n",
    "    #print len(file_list)\n",
    "    total_files += len(file_list)"
   ]
  },
  {
   "cell_type": "code",
   "execution_count": 247,
   "metadata": {},
   "outputs": [
    {
     "data": {
      "text/plain": [
       "27379"
      ]
     },
     "execution_count": 247,
     "metadata": {},
     "output_type": "execute_result"
    }
   ],
   "source": [
    "total_files"
   ]
  },
  {
   "cell_type": "code",
   "execution_count": 180,
   "metadata": {},
   "outputs": [
    {
     "data": {
      "text/plain": [
       "'bitly_cumulative_stats/102838533577/bit.ly_1dMtfRv_48.json'"
      ]
     },
     "execution_count": 180,
     "metadata": {},
     "output_type": "execute_result"
    }
   ],
   "source": [
    "json_pattern = os.path.join('bitly_cumulative_stats/102838533577', '*.json')\n",
    "file_list = glob.glob(json_pattern)\n",
    "file_list[0]"
   ]
  },
  {
   "cell_type": "code",
   "execution_count": null,
   "metadata": {
    "collapsed": true
   },
   "outputs": [],
   "source": [
    "num_reactions = 0\n",
    "for each_link in list(df['status_link']):\n",
    "    print each_link\n",
    "    if 'http://bit.ly/1dMtfRv' == each_link:\n",
    "        r_list = df[df['status_link'] == each_link]['num_reactions'].values.astype(int)\n",
    "        print True\n",
    "np.sum(r_list)"
   ]
  },
  {
   "cell_type": "code",
   "execution_count": 334,
   "metadata": {
    "collapsed": true
   },
   "outputs": [],
   "source": [
    "bitly_clicks_dict = {}\n",
    "for each_dir, each_status in bitly_status_dict.items():\n",
    "    json_pattern = os.path.join(each_dir, '*.json')\n",
    "    bitly_file_list = glob.glob(json_pattern)\n",
    "    for each_file in bitly_file_list:\n",
    "        short_url_string = each_file.split(\"/\")[2][0:14]\n",
    "        short_url = 'http://'+short_url_string.split(\"_\")[0] +\"/\"+short_url_string.split(\"_\")[1]\n",
    "        bitly_clicks_dict[short_url] = {'clicks': None, 'num_reactions':None, 'fan_count': None, 'page_name': None}\n",
    "        "
   ]
  },
  {
   "cell_type": "code",
   "execution_count": 294,
   "metadata": {
    "collapsed": true
   },
   "outputs": [],
   "source": [
    "fb_df = pandas.read_csv('data/Fb_Pages.csv')"
   ]
  },
  {
   "cell_type": "code",
   "execution_count": 336,
   "metadata": {
    "collapsed": true
   },
   "outputs": [],
   "source": [
    "\n",
    "for each_dir, each_status in bitly_status_dict.items():\n",
    "    json_pattern = os.path.join(each_dir, '*.json')\n",
    "    bitly_file_list = glob.glob(json_pattern)\n",
    "    df = pandas.read_csv(each_status)\n",
    "    page_id = each_status.split(\"/\")[2].split(\"_\")[0]\n",
    "    for each_file in bitly_file_list:\n",
    "        short_url_string = each_file.split(\"/\")[2][0:14]\n",
    "        short_url = 'http://'+short_url_string.split(\"_\")[0] +\"/\"+short_url_string.split(\"_\")[1]\n",
    "        json_data = open(each_file).read()\n",
    "        page = json.loads(json_data)\n",
    "        if 'data' in page.keys():\n",
    "            clicks = page['data']['link_clicks']\n",
    "            bitly_clicks_dict[short_url]['clicks'] = clicks\n",
    "        else:\n",
    "            pass\n",
    "        for each_link in list(df['status_link']):\n",
    "            if short_url == each_link:\n",
    "                reaction_list = df[df['status_link'] == each_link]['num_reactions'].values.astype(int)\n",
    "                bitly_clicks_dict[short_url]['num_reactions'] = np.sum(reaction_list)\n",
    "        fan_count = fb_df[fb_df['id'] == int(page_id)]['fan_count'].values[0].astype(float)\n",
    "        bitly_clicks_dict[short_url]['fan_count'] = fan_count\n",
    "        page_name = fb_df[fb_df['id'] == int(page_id)]['name'].values[0]\n",
    "        bitly_clicks_dict[short_url]['page_name'] = page_name"
   ]
  },
  {
   "cell_type": "code",
   "execution_count": 338,
   "metadata": {},
   "outputs": [
    {
     "data": {
      "text/plain": [
       "26243"
      ]
     },
     "execution_count": 338,
     "metadata": {},
     "output_type": "execute_result"
    }
   ],
   "source": [
    "len(bitly_clicks_dict)"
   ]
  },
  {
   "cell_type": "code",
   "execution_count": 339,
   "metadata": {
    "collapsed": true
   },
   "outputs": [],
   "source": [
    "bitly_clicks_data = {}"
   ]
  },
  {
   "cell_type": "code",
   "execution_count": 340,
   "metadata": {
    "collapsed": true
   },
   "outputs": [],
   "source": [
    "for key, val in bitly_clicks_dict.items():\n",
    "    if 'url' not in bitly_clicks_data.keys():\n",
    "        bitly_clicks_data['url'] = []\n",
    "        bitly_clicks_data['url'].append(key)\n",
    "    else:\n",
    "        bitly_clicks_data['url'].append(key)\n",
    "    if 'clicks' not in bitly_clicks_data.keys():\n",
    "        bitly_clicks_data['clicks'] = []\n",
    "        bitly_clicks_data['clicks'].append(val['clicks'])\n",
    "    else:\n",
    "        bitly_clicks_data['clicks'].append(val['clicks'])\n",
    "    if 'num_reactions' not in bitly_clicks_data.keys():\n",
    "        bitly_clicks_data['num_reactions'] = []\n",
    "        bitly_clicks_data['num_reactions'].append(val['num_reactions'])\n",
    "    else:\n",
    "        bitly_clicks_data['num_reactions'].append(val['num_reactions'])\n",
    "    if 'fan_count' not in bitly_clicks_data.keys():\n",
    "        bitly_clicks_data['fan_count'] = []\n",
    "        bitly_clicks_data['fan_count'].append(val['fan_count'])\n",
    "    else:\n",
    "        bitly_clicks_data['fan_count'].append(val['fan_count'])\n",
    "    if 'page_name' not in bitly_clicks_data.keys():\n",
    "        bitly_clicks_data['page_name'] = []\n",
    "        bitly_clicks_data['page_name'].append(val['page_name'])\n",
    "    else:\n",
    "        bitly_clicks_data['page_name'].append(val['page_name'])\n",
    "    "
   ]
  },
  {
   "cell_type": "code",
   "execution_count": 358,
   "metadata": {},
   "outputs": [
    {
     "data": {
      "text/plain": [
       "5"
      ]
     },
     "execution_count": 358,
     "metadata": {},
     "output_type": "execute_result"
    }
   ],
   "source": [
    "len(bitly_clicks_data)"
   ]
  },
  {
   "cell_type": "code",
   "execution_count": 359,
   "metadata": {
    "collapsed": true
   },
   "outputs": [],
   "source": [
    "bitly_df = pd.DataFrame(bitly_clicks_data, columns=['url', 'clicks', 'num_reactions', 'fan_count','page_name'])"
   ]
  },
  {
   "cell_type": "code",
   "execution_count": null,
   "metadata": {
    "collapsed": true
   },
   "outputs": [],
   "source": [
    "bitly_df.sort_values('clicks', ascending=False)"
   ]
  },
  {
   "cell_type": "code",
   "execution_count": 347,
   "metadata": {
    "collapsed": true
   },
   "outputs": [],
   "source": [
    "final_bitly_df = bitly_df.dropna()"
   ]
  },
  {
   "cell_type": "code",
   "execution_count": null,
   "metadata": {
    "collapsed": true
   },
   "outputs": [],
   "source": [
    "final_bitly_df.sort_values('clicks', ascending=False)"
   ]
  },
  {
   "cell_type": "code",
   "execution_count": 352,
   "metadata": {
    "collapsed": true
   },
   "outputs": [],
   "source": [
    "filename = 'data/bitly_data.csv'\n",
    "final_bitly_df.to_csv(filename, index=False, encoding='utf-8')"
   ]
  },
  {
   "cell_type": "code",
   "execution_count": 357,
   "metadata": {},
   "outputs": [
    {
     "data": {
      "text/plain": [
       "0.26193615197753939"
      ]
     },
     "execution_count": 357,
     "metadata": {},
     "output_type": "execute_result"
    }
   ],
   "source": [
    "import numpy\n",
    "numpy.corrcoef(list(final_bitly_df['clicks']), list(final_bitly_df['num_reactions']))[0, 1]"
   ]
  },
  {
   "cell_type": "code",
   "execution_count": 362,
   "metadata": {
    "collapsed": true
   },
   "outputs": [],
   "source": [
    "filename = 'data/bitly_data_2.csv'"
   ]
  },
  {
   "cell_type": "code",
   "execution_count": 363,
   "metadata": {
    "collapsed": true
   },
   "outputs": [],
   "source": [
    "final_bitly_df.to_csv(filename, index=False, encoding='utf-8')"
   ]
  },
  {
   "cell_type": "code",
   "execution_count": 7,
   "metadata": {
    "collapsed": true
   },
   "outputs": [],
   "source": [
    "bitly_dataframe = pandas.read_csv('data/bitly_data_2.csv')"
   ]
  },
  {
   "cell_type": "code",
   "execution_count": null,
   "metadata": {
    "collapsed": true
   },
   "outputs": [],
   "source": [
    "bitly_dataframe"
   ]
  },
  {
   "cell_type": "code",
   "execution_count": 59,
   "metadata": {},
   "outputs": [
    {
     "data": {
      "text/plain": [
       "216"
      ]
     },
     "execution_count": 59,
     "metadata": {},
     "output_type": "execute_result"
    }
   ],
   "source": [
    "len(set(bitly_dataframe['page_name']))"
   ]
  },
  {
   "cell_type": "code",
   "execution_count": 66,
   "metadata": {},
   "outputs": [
    {
     "data": {
      "text/plain": [
       "0.26193615197753939"
      ]
     },
     "execution_count": 66,
     "metadata": {},
     "output_type": "execute_result"
    }
   ],
   "source": [
    "import numpy as np\n",
    "np.corrcoef(list(bitly_dataframe['clicks']), list(bitly_dataframe['num_reactions']))[0, 1]"
   ]
  },
  {
   "cell_type": "code",
   "execution_count": 67,
   "metadata": {},
   "outputs": [
    {
     "data": {
      "text/plain": [
       "0.20983427305841809"
      ]
     },
     "execution_count": 67,
     "metadata": {},
     "output_type": "execute_result"
    }
   ],
   "source": [
    "np.corrcoef(list(bitly_dataframe['clicks']), list(bitly_dataframe['fan_count']))[0, 1]"
   ]
  },
  {
   "cell_type": "code",
   "execution_count": 68,
   "metadata": {},
   "outputs": [
    {
     "data": {
      "text/plain": [
       "0.42899234300225098"
      ]
     },
     "execution_count": 68,
     "metadata": {},
     "output_type": "execute_result"
    }
   ],
   "source": [
    "np.corrcoef(list(bitly_dataframe['num_reactions']), list(bitly_dataframe['fan_count']))[0, 1]"
   ]
  },
  {
   "cell_type": "code",
   "execution_count": 7,
   "metadata": {
    "collapsed": true
   },
   "outputs": [],
   "source": [
    "clicks_list = list(bitly_dataframe['clicks'])"
   ]
  },
  {
   "cell_type": "code",
   "execution_count": 8,
   "metadata": {},
   "outputs": [
    {
     "data": {
      "text/plain": [
       "25420"
      ]
     },
     "execution_count": 8,
     "metadata": {},
     "output_type": "execute_result"
    }
   ],
   "source": [
    "len(clicks_list)"
   ]
  },
  {
   "cell_type": "code",
   "execution_count": 39,
   "metadata": {
    "collapsed": true
   },
   "outputs": [],
   "source": [
    "fan_count_list = list(bitly_dataframe['fan_count'])"
   ]
  },
  {
   "cell_type": "code",
   "execution_count": 40,
   "metadata": {},
   "outputs": [
    {
     "data": {
      "text/plain": [
       "25420"
      ]
     },
     "execution_count": 40,
     "metadata": {},
     "output_type": "execute_result"
    }
   ],
   "source": [
    "len(fan_count_list)"
   ]
  },
  {
   "cell_type": "code",
   "execution_count": 11,
   "metadata": {
    "collapsed": true
   },
   "outputs": [],
   "source": [
    "clicks_fan_ratio = [0]*len(clicks_list)"
   ]
  },
  {
   "cell_type": "code",
   "execution_count": 12,
   "metadata": {
    "collapsed": true
   },
   "outputs": [],
   "source": [
    "for i in range(0, len(clicks_list)):\n",
    "    clicks_fan_ratio[i] = clicks_list[i]/fan_count_list[i]"
   ]
  },
  {
   "cell_type": "code",
   "execution_count": 13,
   "metadata": {
    "collapsed": true
   },
   "outputs": [],
   "source": [
    "sorted_ratio = np.sort(clicks_fan_ratio)"
   ]
  },
  {
   "cell_type": "code",
   "execution_count": null,
   "metadata": {
    "collapsed": true
   },
   "outputs": [],
   "source": [
    "sorted(clicks_fan_ratio, reverse=True)"
   ]
  },
  {
   "cell_type": "code",
   "execution_count": 42,
   "metadata": {
    "collapsed": true
   },
   "outputs": [],
   "source": [
    "bitly_dataframe['clicks/fans'] = bitly_dataframe['clicks'] / bitly_dataframe['fan_count']"
   ]
  },
  {
   "cell_type": "code",
   "execution_count": 43,
   "metadata": {},
   "outputs": [
    {
     "data": {
      "text/plain": [
       "25420"
      ]
     },
     "execution_count": 43,
     "metadata": {},
     "output_type": "execute_result"
    }
   ],
   "source": [
    "len(bitly_dataframe['clicks/fans'])"
   ]
  },
  {
   "cell_type": "code",
   "execution_count": null,
   "metadata": {
    "collapsed": true
   },
   "outputs": [],
   "source": [
    "Counter(bitly_dataframe.sort_values('clicks/fans', ascending=False)['page_name'].head(66))"
   ]
  },
  {
   "cell_type": "code",
   "execution_count": null,
   "metadata": {
    "collapsed": true
   },
   "outputs": [],
   "source": [
    "bitly_dataframe.sort_values('clicks/fans', ascending=False).head(66)"
   ]
  },
  {
   "cell_type": "code",
   "execution_count": 24,
   "metadata": {},
   "outputs": [
    {
     "data": {
      "text/plain": [
       "25420"
      ]
     },
     "execution_count": 24,
     "metadata": {},
     "output_type": "execute_result"
    }
   ],
   "source": [
    "len(bitly_dataframe)"
   ]
  },
  {
   "cell_type": "code",
   "execution_count": null,
   "metadata": {
    "collapsed": true
   },
   "outputs": [],
   "source": [
    "Counter(bitly_dataframe['page_name']).most_common(20)"
   ]
  },
  {
   "cell_type": "code",
   "execution_count": 10,
   "metadata": {
    "collapsed": true
   },
   "outputs": [],
   "source": [
    "bitly_dataframe['num_reactions/clicks'] = bitly_dataframe['num_reactions'] / bitly_dataframe['clicks']"
   ]
  },
  {
   "cell_type": "code",
   "execution_count": 75,
   "metadata": {
    "collapsed": true
   },
   "outputs": [],
   "source": [
    "bitly_dataframe['num_reactions/fan_count'] = bitly_dataframe['num_reactions']/ bitly_dataframe['fan_count']"
   ]
  },
  {
   "cell_type": "code",
   "execution_count": null,
   "metadata": {
    "collapsed": true
   },
   "outputs": [],
   "source": [
    "bitly_dataframe.sort_values('num_reactions/fan_count', ascending=False).head(10)"
   ]
  },
  {
   "cell_type": "code",
   "execution_count": 69,
   "metadata": {},
   "outputs": [
    {
     "data": {
      "text/plain": [
       "0.0012706480304955528"
      ]
     },
     "execution_count": 69,
     "metadata": {},
     "output_type": "execute_result"
    }
   ],
   "source": [
    "np.median(list(bitly_dataframe['clicks/fans']))"
   ]
  },
  {
   "cell_type": "code",
   "execution_count": 73,
   "metadata": {},
   "outputs": [
    {
     "data": {
      "text/plain": [
       "0.040355322224551772"
      ]
     },
     "execution_count": 73,
     "metadata": {},
     "output_type": "execute_result"
    }
   ],
   "source": [
    "np.mean(list(bitly_dataframe['clicks/fans']))"
   ]
  },
  {
   "cell_type": "code",
   "execution_count": 77,
   "metadata": {},
   "outputs": [
    {
     "data": {
      "text/plain": [
       "0.001091565994354258"
      ]
     },
     "execution_count": 77,
     "metadata": {},
     "output_type": "execute_result"
    }
   ],
   "source": [
    "np.mean(bitly_dataframe['num_reactions/fan_count'])"
   ]
  },
  {
   "cell_type": "code",
   "execution_count": 96,
   "metadata": {
    "collapsed": true
   },
   "outputs": [],
   "source": [
    "bitly_dataframe['clicks/reactions'] = bitly_dataframe['clicks'] / bitly_dataframe['num_reactions']"
   ]
  },
  {
   "cell_type": "code",
   "execution_count": null,
   "metadata": {
    "collapsed": true
   },
   "outputs": [],
   "source": [
    "bitly_dataframe.dropna().sort_values('clicks/reactions', ascending=True).head(2000)"
   ]
  },
  {
   "cell_type": "code",
   "execution_count": null,
   "metadata": {
    "collapsed": true
   },
   "outputs": [],
   "source": [
    "bitly_dataframe['clicks/reactions']"
   ]
  },
  {
   "cell_type": "code",
   "execution_count": null,
   "metadata": {
    "collapsed": true
   },
   "outputs": [],
   "source": [
    "bitly_dataframe.replace([np.inf, -np.inf], np.nan)"
   ]
  },
  {
   "cell_type": "code",
   "execution_count": 115,
   "metadata": {},
   "outputs": [
    {
     "data": {
      "text/plain": [
       "inf"
      ]
     },
     "execution_count": 115,
     "metadata": {},
     "output_type": "execute_result"
    }
   ],
   "source": [
    "np.mean(bitly_dataframe['clicks/reactions'].dropna())"
   ]
  },
  {
   "cell_type": "code",
   "execution_count": 116,
   "metadata": {},
   "outputs": [
    {
     "data": {
      "text/plain": [
       "4238.2691581431945"
      ]
     },
     "execution_count": 116,
     "metadata": {},
     "output_type": "execute_result"
    }
   ],
   "source": [
    "np.mean(bitly_dataframe['clicks'])"
   ]
  },
  {
   "cell_type": "code",
   "execution_count": 117,
   "metadata": {},
   "outputs": [
    {
     "data": {
      "text/plain": [
       "1052.183359559402"
      ]
     },
     "execution_count": 117,
     "metadata": {},
     "output_type": "execute_result"
    }
   ],
   "source": [
    "np.mean(bitly_dataframe['num_reactions'])"
   ]
  },
  {
   "cell_type": "code",
   "execution_count": 118,
   "metadata": {},
   "outputs": [
    {
     "data": {
      "text/plain": [
       "436.0"
      ]
     },
     "execution_count": 118,
     "metadata": {},
     "output_type": "execute_result"
    }
   ],
   "source": [
    "np.median(bitly_dataframe['clicks'])"
   ]
  },
  {
   "cell_type": "code",
   "execution_count": 119,
   "metadata": {},
   "outputs": [
    {
     "data": {
      "text/plain": [
       "124.0"
      ]
     },
     "execution_count": 119,
     "metadata": {},
     "output_type": "execute_result"
    }
   ],
   "source": [
    "np.median(bitly_dataframe['num_reactions'])"
   ]
  },
  {
   "cell_type": "code",
   "execution_count": 32,
   "metadata": {},
   "outputs": [
    {
     "data": {
      "text/plain": [
       "15614839.0"
      ]
     },
     "execution_count": 32,
     "metadata": {},
     "output_type": "execute_result"
    }
   ],
   "source": [
    "np.max(bitly_dataframe['fan_count'])"
   ]
  },
  {
   "cell_type": "code",
   "execution_count": null,
   "metadata": {
    "collapsed": true
   },
   "outputs": [],
   "source": [
    "list(bitly_dataframe['fan_count'])"
   ]
  },
  {
   "cell_type": "code",
   "execution_count": 32,
   "metadata": {},
   "outputs": [
    {
     "data": {
      "text/plain": [
       "171958.0"
      ]
     },
     "execution_count": 32,
     "metadata": {},
     "output_type": "execute_result"
    }
   ],
   "source": [
    "np.max(bitly_dataframe['num_reactions'])"
   ]
  },
  {
   "cell_type": "code",
   "execution_count": null,
   "metadata": {
    "collapsed": true
   },
   "outputs": [],
   "source": [
    "sorted(bitly_dataframe['clicks'])"
   ]
  },
  {
   "cell_type": "code",
   "execution_count": 15,
   "metadata": {},
   "outputs": [
    {
     "data": {
      "text/html": [
       "<div>\n",
       "<style>\n",
       "    .dataframe thead tr:only-child th {\n",
       "        text-align: right;\n",
       "    }\n",
       "\n",
       "    .dataframe thead th {\n",
       "        text-align: left;\n",
       "    }\n",
       "\n",
       "    .dataframe tbody tr th {\n",
       "        vertical-align: top;\n",
       "    }\n",
       "</style>\n",
       "<table border=\"1\" class=\"dataframe\">\n",
       "  <thead>\n",
       "    <tr style=\"text-align: right;\">\n",
       "      <th></th>\n",
       "      <th>url</th>\n",
       "      <th>clicks</th>\n",
       "      <th>num_reactions</th>\n",
       "      <th>fan_count</th>\n",
       "      <th>page_name</th>\n",
       "    </tr>\n",
       "  </thead>\n",
       "  <tbody>\n",
       "    <tr>\n",
       "      <th>0</th>\n",
       "      <td>http://bit.ly/1puOcXl</td>\n",
       "      <td>581</td>\n",
       "      <td>186.0</td>\n",
       "      <td>63470.0</td>\n",
       "      <td>Rick Wells' Free Speech Patriots</td>\n",
       "    </tr>\n",
       "    <tr>\n",
       "      <th>1</th>\n",
       "      <td>http://bit.ly/1RIIWaY</td>\n",
       "      <td>1252</td>\n",
       "      <td>191.0</td>\n",
       "      <td>434986.0</td>\n",
       "      <td>Tea Party</td>\n",
       "    </tr>\n",
       "    <tr>\n",
       "      <th>2</th>\n",
       "      <td>http://bit.ly/2gy5FLv</td>\n",
       "      <td>682</td>\n",
       "      <td>164.0</td>\n",
       "      <td>434986.0</td>\n",
       "      <td>Tea Party</td>\n",
       "    </tr>\n",
       "    <tr>\n",
       "      <th>3</th>\n",
       "      <td>http://bit.ly/2aUWk0h</td>\n",
       "      <td>14</td>\n",
       "      <td>3.0</td>\n",
       "      <td>1668552.0</td>\n",
       "      <td>The Revolution</td>\n",
       "    </tr>\n",
       "    <tr>\n",
       "      <th>4</th>\n",
       "      <td>http://bit.ly/2d3qn47</td>\n",
       "      <td>292</td>\n",
       "      <td>35.0</td>\n",
       "      <td>116662.0</td>\n",
       "      <td>American Thinker</td>\n",
       "    </tr>\n",
       "    <tr>\n",
       "      <th>5</th>\n",
       "      <td>http://bit.ly/1GirA2D</td>\n",
       "      <td>169</td>\n",
       "      <td>51.0</td>\n",
       "      <td>434986.0</td>\n",
       "      <td>Tea Party</td>\n",
       "    </tr>\n",
       "    <tr>\n",
       "      <th>6</th>\n",
       "      <td>http://bit.ly/29UrfcT</td>\n",
       "      <td>88</td>\n",
       "      <td>7.0</td>\n",
       "      <td>1668552.0</td>\n",
       "      <td>The Revolution</td>\n",
       "    </tr>\n",
       "    <tr>\n",
       "      <th>7</th>\n",
       "      <td>http://bit.ly/29IIFJ9</td>\n",
       "      <td>393</td>\n",
       "      <td>0.0</td>\n",
       "      <td>430826.0</td>\n",
       "      <td>Dc Gazette</td>\n",
       "    </tr>\n",
       "    <tr>\n",
       "      <th>8</th>\n",
       "      <td>http://bit.ly/2kYu5jA</td>\n",
       "      <td>189</td>\n",
       "      <td>198.0</td>\n",
       "      <td>63470.0</td>\n",
       "      <td>Rick Wells' Free Speech Patriots</td>\n",
       "    </tr>\n",
       "    <tr>\n",
       "      <th>9</th>\n",
       "      <td>http://bit.ly/1GpjvVv</td>\n",
       "      <td>580</td>\n",
       "      <td>63.0</td>\n",
       "      <td>116662.0</td>\n",
       "      <td>American Thinker</td>\n",
       "    </tr>\n",
       "  </tbody>\n",
       "</table>\n",
       "</div>"
      ],
      "text/plain": [
       "                     url  clicks  num_reactions  fan_count  \\\n",
       "0  http://bit.ly/1puOcXl     581          186.0    63470.0   \n",
       "1  http://bit.ly/1RIIWaY    1252          191.0   434986.0   \n",
       "2  http://bit.ly/2gy5FLv     682          164.0   434986.0   \n",
       "3  http://bit.ly/2aUWk0h      14            3.0  1668552.0   \n",
       "4  http://bit.ly/2d3qn47     292           35.0   116662.0   \n",
       "5  http://bit.ly/1GirA2D     169           51.0   434986.0   \n",
       "6  http://bit.ly/29UrfcT      88            7.0  1668552.0   \n",
       "7  http://bit.ly/29IIFJ9     393            0.0   430826.0   \n",
       "8  http://bit.ly/2kYu5jA     189          198.0    63470.0   \n",
       "9  http://bit.ly/1GpjvVv     580           63.0   116662.0   \n",
       "\n",
       "                          page_name  \n",
       "0  Rick Wells' Free Speech Patriots  \n",
       "1                         Tea Party  \n",
       "2                         Tea Party  \n",
       "3                    The Revolution  \n",
       "4                  American Thinker  \n",
       "5                         Tea Party  \n",
       "6                    The Revolution  \n",
       "7                        Dc Gazette  \n",
       "8  Rick Wells' Free Speech Patriots  \n",
       "9                  American Thinker  "
      ]
     },
     "execution_count": 15,
     "metadata": {},
     "output_type": "execute_result"
    }
   ],
   "source": [
    "bitly_dataframe.head(10)"
   ]
  },
  {
   "cell_type": "code",
   "execution_count": 144,
   "metadata": {},
   "outputs": [
    {
     "data": {
      "image/png": "[encoded data removed]",
      "text/plain": [
       "<matplotlib.figure.Figure at 0x121044310>"
      ]
     },
     "metadata": {},
     "output_type": "display_data"
    }
   ],
   "source": [
    "import numpy as np\n",
    "import math\n",
    "import matplotlib.pyplot as plt\n",
    "\n",
    "data = list(bitly_dataframe['clicks'])\n",
    "sorted_data = np.sort(data)\n",
    "sorted_data = [np.log10(x+1) for x in sorted_data]\n",
    "yvals=np.arange(len(sorted_data[0:24148]))/float(len(sorted_data)-1)\n",
    "p1 = plt.plot(sorted_data[0:24148], yvals, marker='.', linestyle= 'none', label=\"# clicks\")\n",
    "#plt.xlabel('No. of clicks')\n",
    "\n",
    "data2 = list(bitly_dataframe['num_reactions'])\n",
    "sorted_data2 = np.sort(data2)\n",
    "sorted_data2 = [np.log10(x+1) for x in sorted_data2]\n",
    "yvals2=np.arange(len(sorted_data2[0:24148]))/float(len(sorted_data2)-1)\n",
    "p2 = plt.plot(sorted_data2[0:24148], yvals2,  marker='.', linestyle= 'none', label=\"# reactions\")\n",
    "\n",
    "#data3 = list(bitly_dataframe['fan_count'])\n",
    "#sorted_data3 = np.sort(data3)\n",
    "#yvals3=np.arange(len(sorted_data3))/float(len(sorted_data3)-1)\n",
    "#p3 = plt.plot(sorted_data3,yvals3,  marker='.', linestyle= 'none', label=\"# subscribers\")\n",
    "#plt.legend([p1, p2, p3], [\"reactions\", \"clicks\", \"subscribers\"])\n",
    "#plt.legend(bbox_to_anchor=(1.05, 1), loc=2, borderaxespad=0.)\n",
    "plt.legend(bbox_to_anchor=(0., 1.02, 1., .102), loc=3,\n",
    "       ncol=2, mode=\"expand\", borderaxespad=0.5)\n",
    "#plt.xlabel('log1')\n",
    "plt.xticks(range(5),[0,10,100,1000,10000])\n",
    "plt.show()\n"
   ]
  },
  {
   "cell_type": "code",
   "execution_count": 104,
   "metadata": {},
   "outputs": [
    {
     "data": {
      "text/plain": [
       "16544.499999999993"
      ]
     },
     "execution_count": 104,
     "metadata": {},
     "output_type": "execute_result"
    }
   ],
   "source": [
    "clicks_arr = np.array(sorted_data)\n",
    "p_clicks = np.percentile(clicks_arr, 95) \n",
    "p_clicks"
   ]
  },
  {
   "cell_type": "code",
   "execution_count": 98,
   "metadata": {},
   "outputs": [
    {
     "data": {
      "text/plain": [
       "4713.0"
      ]
     },
     "execution_count": 98,
     "metadata": {},
     "output_type": "execute_result"
    }
   ],
   "source": [
    "reactions_arr = np.array(sorted_data2)\n",
    "p_reactions = np.percentile(reactions_arr, 95) \n",
    "p_reactions"
   ]
  },
  {
   "cell_type": "code",
   "execution_count": 106,
   "metadata": {},
   "outputs": [
    {
     "data": {
      "text/plain": [
       "24148"
      ]
     },
     "execution_count": 106,
     "metadata": {},
     "output_type": "execute_result"
    }
   ],
   "source": [
    "clicks_95 = []\n",
    "reactions_95 = []\n",
    "\n",
    "i_clicks = list(clicks_arr).index(16544)\n",
    "i_clicks"
   ]
  },
  {
   "cell_type": "code",
   "execution_count": 108,
   "metadata": {},
   "outputs": [
    {
     "data": {
      "text/plain": [
       "24148"
      ]
     },
     "execution_count": 108,
     "metadata": {},
     "output_type": "execute_result"
    }
   ],
   "source": [
    "i_reactions = list(reactions_arr).index(4713)\n",
    "i_reactions"
   ]
  },
  {
   "cell_type": "code",
   "execution_count": null,
   "metadata": {
    "collapsed": true
   },
   "outputs": [],
   "source": [
    "import numpy as np\n",
    "\n",
    "import matplotlib.pyplot as plt\n",
    "\n",
    "data2 = list(bitly_dataframe['num_reactions'])\n",
    "\n",
    "sorted_data2 = np.sort(data2)\n",
    "\n",
    "yvals2=np.arange(len(sorted_data2))/float(len(sorted_data2)-1)\n",
    "\n",
    "plt.plot(sorted_data2[0:24148] ,yvals2,  marker='.', linestyle= 'none')\n",
    "\n",
    "plt.xlabel('No. of reactions')\n",
    "plt.show()"
   ]
  },
  {
   "cell_type": "code",
   "execution_count": 36,
   "metadata": {},
   "outputs": [
    {
     "data": {
      "image/png": "[encoded data removed]",
      "text/plain": [
       "<matplotlib.figure.Figure at 0x11ff7f8d0>"
      ]
     },
     "metadata": {},
     "output_type": "display_data"
    }
   ],
   "source": [
    "plt.plot(sorted_data, np.linspace(0,1,sorted_data.size))\n",
    "plt.show()"
   ]
  },
  {
   "cell_type": "code",
   "execution_count": 130,
   "metadata": {
    "collapsed": true
   },
   "outputs": [],
   "source": [
    "clicks_groupby_page = bitly_dataframe['clicks'].groupby(bitly_dataframe['page_name'])"
   ]
  },
  {
   "cell_type": "code",
   "execution_count": 131,
   "metadata": {
    "collapsed": true
   },
   "outputs": [],
   "source": [
    "fancount_groupby_page = bitly_dataframe['fan_count'].groupby(bitly_dataframe['page_name'])"
   ]
  },
  {
   "cell_type": "code",
   "execution_count": 140,
   "metadata": {
    "collapsed": true
   },
   "outputs": [],
   "source": [
    "reactions_grouby_page = bitly_dataframe['num_reactions'].groupby(bitly_dataframe['page_name'])"
   ]
  },
  {
   "cell_type": "code",
   "execution_count": null,
   "metadata": {
    "collapsed": true
   },
   "outputs": [],
   "source": [
    "mean_click_per_page = clicks_groupby_page.mean()"
   ]
  },
  {
   "cell_type": "code",
   "execution_count": 133,
   "metadata": {
    "collapsed": true
   },
   "outputs": [],
   "source": [
    "median_clicks_per_page = clicks_groupby_page.median()"
   ]
  },
  {
   "cell_type": "code",
   "execution_count": null,
   "metadata": {
    "collapsed": true
   },
   "outputs": [],
   "source": [
    "np.mean(clicks_groupby_page.median() / fan_count_per_page)"
   ]
  },
  {
   "cell_type": "code",
   "execution_count": 135,
   "metadata": {},
   "outputs": [
    {
     "data": {
      "text/plain": [
       "216"
      ]
     },
     "execution_count": 135,
     "metadata": {},
     "output_type": "execute_result"
    }
   ],
   "source": [
    "len(mean_click_per_page)"
   ]
  },
  {
   "cell_type": "code",
   "execution_count": 136,
   "metadata": {
    "collapsed": true
   },
   "outputs": [],
   "source": [
    "fan_count_per_page = fancount_groupby_page.mean()"
   ]
  },
  {
   "cell_type": "code",
   "execution_count": 137,
   "metadata": {},
   "outputs": [
    {
     "data": {
      "text/plain": [
       "216"
      ]
     },
     "execution_count": 137,
     "metadata": {},
     "output_type": "execute_result"
    }
   ],
   "source": [
    "len(fan_count_per_page)"
   ]
  },
  {
   "cell_type": "code",
   "execution_count": 138,
   "metadata": {
    "collapsed": true
   },
   "outputs": [],
   "source": [
    "mean_clicks_per_subscribers = mean_click_per_page/fan_count_per_page\n"
   ]
  },
  {
   "cell_type": "code",
   "execution_count": 86,
   "metadata": {
    "collapsed": true
   },
   "outputs": [],
   "source": [
    "median_clicks_per_subscribers = median_clicks_per_page/fan_count_per_page"
   ]
  },
  {
   "cell_type": "code",
   "execution_count": null,
   "metadata": {
    "collapsed": true
   },
   "outputs": [],
   "source": [
    "mean_clicks_per_subscribers"
   ]
  },
  {
   "cell_type": "code",
   "execution_count": 106,
   "metadata": {},
   "outputs": [
    {
     "data": {
      "text/plain": [
       "51.109523809523807"
      ]
     },
     "execution_count": 106,
     "metadata": {},
     "output_type": "execute_result"
    }
   ],
   "source": [
    "max(mean_clicks_per_subscribers)"
   ]
  },
  {
   "cell_type": "code",
   "execution_count": 105,
   "metadata": {},
   "outputs": [
    {
     "data": {
      "text/plain": [
       "0.0048643870960598211"
      ]
     },
     "execution_count": 105,
     "metadata": {},
     "output_type": "execute_result"
    }
   ],
   "source": [
    "np.median(mean_clicks_per_subscribers)"
   ]
  },
  {
   "cell_type": "code",
   "execution_count": 88,
   "metadata": {},
   "outputs": [
    {
     "data": {
      "text/plain": [
       "0.0026325383363770961"
      ]
     },
     "execution_count": 88,
     "metadata": {},
     "output_type": "execute_result"
    }
   ],
   "source": [
    "np.median(median_clicks_per_subscribers)"
   ]
  },
  {
   "cell_type": "code",
   "execution_count": 91,
   "metadata": {},
   "outputs": [
    {
     "data": {
      "text/plain": [
       "0.2924418464030654"
      ]
     },
     "execution_count": 91,
     "metadata": {},
     "output_type": "execute_result"
    }
   ],
   "source": [
    "np.mean(median_clicks_per_subscribers)"
   ]
  },
  {
   "cell_type": "code",
   "execution_count": 104,
   "metadata": {},
   "outputs": [
    {
     "data": {
      "image/png": "[encoded data removed]",
      "text/plain": [
       "<matplotlib.figure.Figure at 0x114383f10>"
      ]
     },
     "metadata": {},
     "output_type": "display_data"
    }
   ],
   "source": [
    "import numpy as np\n",
    "\n",
    "import matplotlib.pyplot as plt\n",
    "\n",
    "data3 = list(mean_clicks_per_subscribers)\n",
    "\n",
    "sorted_data3 = np.sort(data3)\n",
    "\n",
    "yvals3=np.arange(len(sorted_data3))/float(len(sorted_data3)-1)\n",
    "\n",
    "plt.plot(sorted_data3, yvals3,  marker='.', linestyle= 'none')\n",
    "\n",
    "plt.xlabel('mean clicks per subscriber')\n",
    "plt.show()"
   ]
  },
  {
   "cell_type": "code",
   "execution_count": 97,
   "metadata": {},
   "outputs": [
    {
     "data": {
      "image/png": "[encoded data removed]",
      "text/plain": [
       "<matplotlib.figure.Figure at 0x112191d50>"
      ]
     },
     "metadata": {},
     "output_type": "display_data"
    }
   ],
   "source": []
  },
  {
   "cell_type": "code",
   "execution_count": null,
   "metadata": {
    "collapsed": true
   },
   "outputs": [],
   "source": []
  }
 ],
 "metadata": {
  "kernelspec": {
   "display_name": "Python 2",
   "language": "python",
   "name": "python2"
  },
  "language_info": {
   "codemirror_mode": {
    "name": "ipython",
    "version": 2
   },
   "file_extension": ".py",
   "mimetype": "text/x-python",
   "name": "python",
   "nbconvert_exporter": "python",
   "pygments_lexer": "ipython2",
   "version": "2.7.13"
  }
 },
 "nbformat": 4,
 "nbformat_minor": 2
}
