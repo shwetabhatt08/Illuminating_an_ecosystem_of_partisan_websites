{
 "cells": [
  {
   "cell_type": "markdown",
   "metadata": {},
   "source": [
    "# Analysis of Partisan Facebook pages"
   ]
  },
  {
   "cell_type": "code",
   "execution_count": 10,
   "metadata": {
    "collapsed": true
   },
   "outputs": [],
   "source": [
    "import pandas\n",
    "import pandas as pd\n",
    "import numpy as np\n",
    "import operator\n",
    "import glob\n",
    "from os.path import expanduser as ospath\n",
    "from urlparse import urlparse\n",
    "import os\n",
    "import requests\n",
    "from requests_toolbelt.utils import dump\n",
    "import unicodedata\n",
    "import facebook\n",
    "from collections import Counter\n",
    "import json\n",
    "\n",
    "\n",
    "json_data1 = open('data/fb_pages_metrics.json').read()\n",
    "partisan_data = json.loads(json_data1)\n",
    "active_page_ids = []\n",
    "dir_name = 'data/statuses'\n",
    "json_pattern = os.path.join(dir_name,'*.csv')\n",
    "file_list = glob.glob(json_pattern)"
   ]
  },
  {
   "cell_type": "code",
   "execution_count": 19,
   "metadata": {
    "collapsed": true
   },
   "outputs": [],
   "source": [
    "json_data2 = open('data/fb_mainstream_pages.json').read()\n",
    "mainstream_data = json.loads(json_data2)"
   ]
  },
  {
   "cell_type": "code",
   "execution_count": 11,
   "metadata": {},
   "outputs": [
    {
     "data": {
      "text/plain": [
       "487"
      ]
     },
     "execution_count": 11,
     "metadata": {},
     "output_type": "execute_result"
    }
   ],
   "source": [
    "map_df = pandas.read_csv('data/fb_pages_mapping.csv')\n",
    "active_ids = list(map_df['id'])\n",
    "len(map_df)"
   ]
  },
  {
   "cell_type": "code",
   "execution_count": 20,
   "metadata": {
    "collapsed": true
   },
   "outputs": [],
   "source": [
    "\n",
    "def get_frame_data(fb_data):\n",
    "    data = {}\n",
    "    category_list = []\n",
    "    id_list = []\n",
    "    verification_list = []\n",
    "    name_list = []\n",
    "    fan_count_list = []\n",
    "    website_list = []\n",
    "    link_list = []\n",
    "    start_type_list = []\n",
    "    start_date_list = []\n",
    "    for key,val in fb_data.items():\n",
    "        id_list.append(val['id'])\n",
    "        if 'category' in val.keys():\n",
    "            category_list.append(val['category'])\n",
    "        else:\n",
    "            category_list.append(0)\n",
    "        if 'verification_status' in val.keys():\n",
    "            verification_list.append(val['verification_status'])\n",
    "        else:\n",
    "            verification_list.append(0)\n",
    "        if 'name' in val.keys():\n",
    "            name_list.append(val['name'])\n",
    "        else:\n",
    "            name_list.append(0)\n",
    "        if 'fan_count' in val.keys():\n",
    "            fan_count_list.append(val['fan_count'])\n",
    "        else:\n",
    "            fan_count_list.append(0)\n",
    "        if 'website' in val.keys():\n",
    "            website_list.append(val['website'])\n",
    "        else:\n",
    "            website_list.append(0)\n",
    "        if 'link' in val.keys():\n",
    "            link_list.append(val['link'])\n",
    "        else:\n",
    "            link_list.append(0)\n",
    "        if 'start_info' in val.keys():\n",
    "            if 'type' in val['start_info'].keys():\n",
    "                start_type_list.append(val['start_info']['type'])\n",
    "            else:\n",
    "                start_type_list.append(0)\n",
    "            if 'date' in val['start_info'].keys():\n",
    "                if len(val['start_info']['date'].keys()) > 2:\n",
    "                    start_date_list.append(str(val['start_info']['date']['day'])+\"/\"+str(val['start_info']['date']['month'])+\"/\"+str(val['start_info']['date']['day']))\n",
    "                elif len(val['start_info']['date'].keys()) > 1:\n",
    "                    start_date_list.append(str(val['start_info']['date']['month'])+\"/\"+str(val['start_info']['date']['year']))\n",
    "                elif len(val['start_info']['date'].keys()) == 1:\n",
    "                    start_date_list.append(str(val['start_info']['date']['year']))\n",
    "                else:\n",
    "                    start_date_list.append(0)\n",
    "            else:\n",
    "                start_date_list.append(0)\n",
    "        else:\n",
    "            start_type_list.append(0)\n",
    "            start_date_list.append(0) \n",
    "    data['id'] = id_list\n",
    "    data['name'] = name_list\n",
    "    data['category'] = category_list\n",
    "    data['fan_count'] = fan_count_list\n",
    "    data['link'] = link_list\n",
    "    data['website'] = website_list\n",
    "    data['verification_status'] = verification_list\n",
    "    data['start_type'] = start_type_list\n",
    "    data['start_date'] = start_date_list\n",
    "    return data"
   ]
  },
  {
   "cell_type": "code",
   "execution_count": 21,
   "metadata": {
    "collapsed": true
   },
   "outputs": [],
   "source": [
    "partisan_frame_data = get_frame_data(partisan_data)"
   ]
  },
  {
   "cell_type": "code",
   "execution_count": 25,
   "metadata": {
    "collapsed": true
   },
   "outputs": [],
   "source": [
    "mainstream_frame_data = get_frame_data(mainstream_data)"
   ]
  },
  {
   "cell_type": "code",
   "execution_count": 29,
   "metadata": {
    "collapsed": true
   },
   "outputs": [],
   "source": [
    "fb_df = pd.DataFrame(partisan_frame_data, columns=['name', 'id', 'category', 'verification_status', 'fan_count' , 'start_type', 'start_date','website', 'link' ])\n"
   ]
  },
  {
   "cell_type": "code",
   "execution_count": 30,
   "metadata": {
    "collapsed": true
   },
   "outputs": [],
   "source": [
    "mainstream_df = pd.DataFrame(mainstream_frame_data, columns=['name', 'id', 'category', 'verification_status', 'fan_count' , 'start_type', 'start_date','website', 'link' ])\n"
   ]
  },
  {
   "cell_type": "code",
   "execution_count": 35,
   "metadata": {
    "collapsed": true
   },
   "outputs": [],
   "source": [
    "filename = 'data/mainstream_pages.csv'\n",
    "mainstream_df.to_csv(filename, index=False, encoding='utf-8')"
   ]
  },
  {
   "cell_type": "code",
   "execution_count": 8,
   "metadata": {
    "collapsed": true
   },
   "outputs": [],
   "source": [
    "# separate status.csv files into active and inactive files\n",
    "active_file_list = []\n",
    "inactive_file_list = []\n",
    "for each_file in file_list:\n",
    "    page_id = each_file.split('/')[2].split('_')[0]\n",
    "    if page_id in list(fb_df['id']):\n",
    "        active_file_list.append(each_file)\n",
    "    else:\n",
    "        inactive_file_list.append(each_file)"
   ]
  },
  {
   "cell_type": "code",
   "execution_count": 14,
   "metadata": {
    "collapsed": true
   },
   "outputs": [],
   "source": [
    "mean_loves_dict = {}\n",
    "mean_sads_dict = {}\n",
    "mean_wows_dict = {}\n",
    "mean_hahas_dict = {}\n",
    "mean_comments_dict = {}\n",
    "mean_reactions_dict = {}\n",
    "mean_shares_dict = {}\n",
    "mean_likes_dict = {}\n",
    "mean_angrys_dict = {}\n",
    "for each_file in active_file_list:\n",
    "    file_df = pandas.read_csv(each_file)\n",
    "    page_id = each_file.split('/')[2].split('_')[0]\n",
    "    mean_reactions_dict[page_id] = file_df['num_reactions'].mean()\n",
    "    mean_comments_dict[page_id] = file_df['num_comments'].mean()\n",
    "    mean_shares_dict[page_id] = file_df['num_shares'].mean()\n",
    "    mean_likes_dict[page_id] = file_df['num_likes'].mean()\n",
    "    mean_loves_dict[page_id] = file_df['num_loves'].mean()\n",
    "    mean_wows_dict[page_id] = file_df['num_wows'].mean()\n",
    "    mean_hahas_dict[page_id] = file_df['num_hahas'].mean()\n",
    "    mean_sads_dict[page_id] = file_df['num_sads'].mean()\n",
    "    mean_angrys_dict[page_id] = file_df['num_angrys'].mean()\n",
    "   "
   ]
  },
  {
   "cell_type": "code",
   "execution_count": 154,
   "metadata": {
    "collapsed": true
   },
   "outputs": [],
   "source": [
    "engagement_data = {}\n",
    "engagement_data['id'] = mean_reactions_dict.keys()\n",
    "engagement_data['mean_reactions'] = mean_reactions_dict.values()\n",
    "engagement_data['mean_comments'] = mean_reactions_dict.values()\n",
    "engagement_data['mean_shares'] = mean_shares_dict.values()\n",
    "engagement_data['mean_likes'] = mean_likes_dict.values()\n",
    "engagement_data['mean_loves'] = mean_loves_dict.values()\n",
    "engagement_data['mean_wows'] = mean_wows_dict.values()\n",
    "engagement_data['mean_hahas'] = mean_hahas_dict.values()\n",
    "engagement_data['mean_sads'] = mean_sads_dict.values()\n",
    "engagement_data['mean_angrys'] = mean_angrys_dict.values()\n"
   ]
  },
  {
   "cell_type": "code",
   "execution_count": 155,
   "metadata": {
    "collapsed": true
   },
   "outputs": [],
   "source": [
    "eng_df = pd.DataFrame(engagement_data, columns=['id','mean_reactions','mean_comments','mean_shares','mean_likes','mean_loves','mean_wows','mean_hahas','mean_sads','mean_angrys'])"
   ]
  },
  {
   "cell_type": "code",
   "execution_count": 158,
   "metadata": {
    "collapsed": true
   },
   "outputs": [],
   "source": [
    "page_df = pd.merge(fb_df, eng_df, on='id')"
   ]
  },
  {
   "cell_type": "code",
   "execution_count": null,
   "metadata": {
    "collapsed": true
   },
   "outputs": [],
   "source": [
    "filename = 'data/Fb_Pages.csv'\n",
    "page_df.to_csv(filename, index=False, encoding='utf-8')"
   ]
  },
  {
   "cell_type": "code",
   "execution_count": 3,
   "metadata": {
    "collapsed": true
   },
   "outputs": [],
   "source": [
    "Fb_page_df = pandas.read_csv('data/Fb_pages.csv')"
   ]
  },
  {
   "cell_type": "code",
   "execution_count": 18,
   "metadata": {},
   "outputs": [
    {
     "data": {
      "text/plain": [
       "485"
      ]
     },
     "execution_count": 18,
     "metadata": {},
     "output_type": "execute_result"
    }
   ],
   "source": [
    "len(fb_data)"
   ]
  },
  {
   "cell_type": "code",
   "execution_count": null,
   "metadata": {
    "collapsed": true
   },
   "outputs": [],
   "source": [
    "Fb_page_df.sort_values(['fan_count'], ascending=False)"
   ]
  },
  {
   "cell_type": "code",
   "execution_count": 20,
   "metadata": {
    "collapsed": true
   },
   "outputs": [],
   "source": [
    "count = 0\n",
    "page_website_dict = {}\n",
    "websites = []\n",
    "for key, val in fb_data.items():\n",
    "    if val.has_key('website') == False: \n",
    "        count += 1\n",
    "    else:\n",
    "        page_website_dict[key] = val['website'].split(\" \")\n"
   ]
  },
  {
   "cell_type": "code",
   "execution_count": 22,
   "metadata": {},
   "outputs": [
    {
     "data": {
      "text/plain": [
       "668"
      ]
     },
     "execution_count": 22,
     "metadata": {},
     "output_type": "execute_result"
    }
   ],
   "source": [
    "# find intersection of partisan sites & fb sites\n",
    "from partisan_sites_parser import *\n",
    "len(sites)"
   ]
  },
  {
   "cell_type": "code",
   "execution_count": 23,
   "metadata": {
    "collapsed": true
   },
   "outputs": [],
   "source": [
    "fb_websites = []\n",
    "for val in page_website_dict.values():\n",
    "    for each_val in val:\n",
    "        fb_websites.append(each_val)\n",
    "        "
   ]
  },
  {
   "cell_type": "code",
   "execution_count": 24,
   "metadata": {
    "collapsed": true
   },
   "outputs": [],
   "source": [
    "for each_site in fb_websites:\n",
    "    if each_site == '':\n",
    "        fb_websites.remove(each_site)"
   ]
  },
  {
   "cell_type": "code",
   "execution_count": 25,
   "metadata": {},
   "outputs": [
    {
     "data": {
      "text/plain": [
       "513"
      ]
     },
     "execution_count": 25,
     "metadata": {},
     "output_type": "execute_result"
    }
   ],
   "source": [
    "len(set(fb_websites))"
   ]
  },
  {
   "cell_type": "code",
   "execution_count": 26,
   "metadata": {
    "collapsed": true
   },
   "outputs": [],
   "source": [
    "from urlparse import urlparse\n",
    "\n",
    "fb_page_websites = []\n",
    "fb_websites\n",
    "\n",
    "for each_site in fb_websites:\n",
    "    if 'http' in each_site:\n",
    "        if 'www' in urlparse(each_site).netloc:\n",
    "            fb_page_websites.append(urlparse(each_site).netloc[4:])\n",
    "        #print urlparse(each_site).netloc\n",
    "        else:\n",
    "            if urlparse(each_site).netloc != '':\n",
    "                fb_page_websites.append(urlparse(each_site).netloc)\n",
    "            else:\n",
    "                fb_page_websites.append(urlparse(each_site).path)\n",
    "        #pass\n",
    "    elif 'www' in each_site:\n",
    "        fb_page_websites.append(each_site[4:])\n",
    "    else:\n",
    "        fb_page_websites.append(each_site)"
   ]
  },
  {
   "cell_type": "code",
   "execution_count": 27,
   "metadata": {},
   "outputs": [
    {
     "data": {
      "text/plain": [
       "506"
      ]
     },
     "execution_count": 27,
     "metadata": {},
     "output_type": "execute_result"
    }
   ],
   "source": [
    "len(set(fb_page_websites ))"
   ]
  },
  {
   "cell_type": "code",
   "execution_count": 22,
   "metadata": {
    "collapsed": true
   },
   "outputs": [],
   "source": [
    "for each_site in fb_page_websites:\n",
    "    if 'rightpundits' in each_site or 'www' in each_site or each_site == \":\" or each_site == \" \":\n",
    "        fb_page_websites.remove(each_site)\n",
    "   "
   ]
  },
  {
   "cell_type": "code",
   "execution_count": 23,
   "metadata": {
    "collapsed": true
   },
   "outputs": [],
   "source": [
    "xlist = ['rightpundits.com','military.rightpundits.com','food.rightpundits.com', 'law.rightpundits.com','celebrity.rightpundits.com','sports.rightpundits.com','lauraingraham.com','twitter.com/ingrahamangle']\n",
    "for each_site in xlist:\n",
    "    fb_page_websites.append(each_site)\n"
   ]
  },
  {
   "cell_type": "code",
   "execution_count": 24,
   "metadata": {},
   "outputs": [
    {
     "data": {
      "text/plain": [
       "510"
      ]
     },
     "execution_count": 24,
     "metadata": {},
     "output_type": "execute_result"
    }
   ],
   "source": [
    "#total fb websites\n",
    "len(set(fb_page_websites)) "
   ]
  },
  {
   "cell_type": "code",
   "execution_count": 25,
   "metadata": {},
   "outputs": [
    {
     "data": {
      "text/plain": [
       "518"
      ]
     },
     "execution_count": 25,
     "metadata": {},
     "output_type": "execute_result"
    }
   ],
   "source": [
    "fb_page_websites = [x.lower() for x in fb_page_websites]\n",
    "len(fb_page_websites)"
   ]
  },
  {
   "cell_type": "code",
   "execution_count": 26,
   "metadata": {},
   "outputs": [
    {
     "data": {
      "text/plain": [
       "[(u'twitter.com', 5),\n",
       " (u'frontpagemag.com', 3),\n",
       " (u'cscmediagroupus.com', 2),\n",
       " (u'thetruthdivision.com', 2),\n",
       " (u'foxnews.com', 2),\n",
       " (u'twitter.com/hudsoninstitute', 1),\n",
       " (u'deadstate.org', 1),\n",
       " (u'redflagnews.com', 1),\n",
       " (u'uspoliticsinfo.com', 1),\n",
       " (u'ahtribune.com', 1)]"
      ]
     },
     "execution_count": 26,
     "metadata": {},
     "output_type": "execute_result"
    }
   ],
   "source": [
    "Counter(fb_page_websites).most_common(10)"
   ]
  },
  {
   "cell_type": "code",
   "execution_count": 27,
   "metadata": {
    "collapsed": true
   },
   "outputs": [],
   "source": [
    "# intersection of partisan sites and fb sites\n",
    "from partisan_sites_parser import *\n",
    "partisan_websites  = sites\n",
    "common_partisan_sites = set(partisan_websites).intersection(set(fb_page_websites))"
   ]
  },
  {
   "cell_type": "code",
   "execution_count": 28,
   "metadata": {},
   "outputs": [
    {
     "data": {
      "text/plain": [
       "372"
      ]
     },
     "execution_count": 28,
     "metadata": {},
     "output_type": "execute_result"
    }
   ],
   "source": [
    "len(common_partisan_sites)"
   ]
  },
  {
   "cell_type": "code",
   "execution_count": 29,
   "metadata": {
    "collapsed": true
   },
   "outputs": [],
   "source": [
    "fb_left = []\n",
    "fb_right = []\n",
    "fb_undecided = []\n",
    "for each_site in list(set(fb_page_websites)):\n",
    "    if each_site in left:\n",
    "        fb_left.append(each_site)\n",
    "    elif each_site in right:\n",
    "        fb_right.append(each_site)\n",
    "    else:\n",
    "        fb_undecided.append(each_site)"
   ]
  },
  {
   "cell_type": "code",
   "execution_count": 54,
   "metadata": {
    "collapsed": true
   },
   "outputs": [],
   "source": [
    "page_names = list(Fb_page_df['name'])"
   ]
  },
  {
   "cell_type": "code",
   "execution_count": 62,
   "metadata": {
    "collapsed": true
   },
   "outputs": [],
   "source": [
    "fb_website_list = list(Fb_page_df['website'])"
   ]
  },
  {
   "cell_type": "code",
   "execution_count": 108,
   "metadata": {
    "collapsed": true
   },
   "outputs": [],
   "source": [
    "for each_site in fb_website_list:\n",
    "    for each_val in fb_left:\n",
    "        if each_val in each_site:\n",
    "            category_dict[each_site] = 'left'\n",
    "    for each_val in fb_right:\n",
    "        if each_val in each_site:\n",
    "            category_dict[each_site] = 'right'\n",
    "    for each_val in fb_undecided:\n",
    "        if each_val in each_site:\n",
    "            category_dict[each_site] = 'uncategorized'\n",
    "        "
   ]
  },
  {
   "cell_type": "code",
   "execution_count": 110,
   "metadata": {},
   "outputs": [
    {
     "data": {
      "text/plain": [
       "459"
      ]
     },
     "execution_count": 110,
     "metadata": {},
     "output_type": "execute_result"
    }
   ],
   "source": [
    "len(category_dict)"
   ]
  },
  {
   "cell_type": "code",
   "execution_count": 111,
   "metadata": {
    "collapsed": true
   },
   "outputs": [],
   "source": [
    "category_data = {}\n",
    "category_data['website'] = category_dict.keys()\n",
    "category_data['political_category'] = category_dict.values()"
   ]
  },
  {
   "cell_type": "code",
   "execution_count": 112,
   "metadata": {
    "collapsed": true
   },
   "outputs": [],
   "source": [
    "category_df = pd.DataFrame(category_data, columns=['website', 'political_category'])"
   ]
  },
  {
   "cell_type": "code",
   "execution_count": 113,
   "metadata": {
    "collapsed": true
   },
   "outputs": [],
   "source": [
    "new_page_df = pd.merge(Fb_page_df, category_df, on='website')"
   ]
  },
  {
   "cell_type": "code",
   "execution_count": null,
   "metadata": {
    "collapsed": true
   },
   "outputs": [],
   "source": [
    "filename = 'data/fb_Pages_2.csv'\n",
    "new_page_df.to_csv(filename, index=False, encoding='utf-8')"
   ]
  },
  {
   "cell_type": "code",
   "execution_count": 4,
   "metadata": {
    "collapsed": true
   },
   "outputs": [],
   "source": [
    "new_pg_df = pandas.read_csv('data/Fb_pages_2.csv')"
   ]
  },
  {
   "cell_type": "code",
   "execution_count": 64,
   "metadata": {},
   "outputs": [
    {
     "data": {
      "text/plain": [
       "112"
      ]
     },
     "execution_count": 64,
     "metadata": {},
     "output_type": "execute_result"
    }
   ],
   "source": [
    "len(new_pg_df[new_pg_df['political_category'] =='left'])"
   ]
  },
  {
   "cell_type": "code",
   "execution_count": 65,
   "metadata": {},
   "outputs": [
    {
     "data": {
      "text/plain": [
       "236"
      ]
     },
     "execution_count": 65,
     "metadata": {},
     "output_type": "execute_result"
    }
   ],
   "source": [
    "len(new_pg_df[new_pg_df['political_category'] =='right'])"
   ]
  },
  {
   "cell_type": "code",
   "execution_count": 50,
   "metadata": {},
   "outputs": [
    {
     "data": {
      "text/plain": [
       "[354522044588660,\n",
       " 346937065399354,\n",
       " 114517875225866,\n",
       " 160389977329803,\n",
       " 610045389164725,\n",
       " 273864989376427,\n",
       " 210277954204,\n",
       " 200137333331078,\n",
       " 1672814509645693,\n",
       " 7642602143]"
      ]
     },
     "execution_count": 50,
     "metadata": {},
     "output_type": "execute_result"
    }
   ],
   "source": [
    "list(new_pg_df[new_pg_df['political_category']=='left'].sort_values('fan_count', ascending=False).head(10)['id'])"
   ]
  },
  {
   "cell_type": "code",
   "execution_count": 51,
   "metadata": {},
   "outputs": [
    {
     "data": {
      "text/plain": [
       "[184859785026060,\n",
       " 179035672287016,\n",
       " 123624513983,\n",
       " 182919686769,\n",
       " 133961323610549,\n",
       " 389658314427637,\n",
       " 95475020353,\n",
       " 201956993160690,\n",
       " 69813760388,\n",
       " 112723252096438]"
      ]
     },
     "execution_count": 51,
     "metadata": {},
     "output_type": "execute_result"
    }
   ],
   "source": [
    "list(new_pg_df[new_pg_df['political_category']=='right'].sort_values('fan_count', ascending=False).head(10)['id'])"
   ]
  },
  {
   "cell_type": "code",
   "execution_count": 47,
   "metadata": {},
   "outputs": [
    {
     "data": {
      "text/html": [
       "<div>\n",
       "<style>\n",
       "    .dataframe thead tr:only-child th {\n",
       "        text-align: right;\n",
       "    }\n",
       "\n",
       "    .dataframe thead th {\n",
       "        text-align: left;\n",
       "    }\n",
       "\n",
       "    .dataframe tbody tr th {\n",
       "        vertical-align: top;\n",
       "    }\n",
       "</style>\n",
       "<table border=\"1\" class=\"dataframe\">\n",
       "  <thead>\n",
       "    <tr style=\"text-align: right;\">\n",
       "      <th></th>\n",
       "      <th>name</th>\n",
       "      <th>id</th>\n",
       "      <th>category</th>\n",
       "      <th>verification_status</th>\n",
       "      <th>fan_count</th>\n",
       "      <th>start_type</th>\n",
       "      <th>start_date</th>\n",
       "      <th>website</th>\n",
       "      <th>link</th>\n",
       "      <th>mean_reactions</th>\n",
       "      <th>mean_comments</th>\n",
       "      <th>mean_shares</th>\n",
       "      <th>mean_likes</th>\n",
       "      <th>mean_loves</th>\n",
       "      <th>mean_wows</th>\n",
       "      <th>mean_hahas</th>\n",
       "      <th>mean_sads</th>\n",
       "      <th>mean_angrys</th>\n",
       "      <th>political_category</th>\n",
       "    </tr>\n",
       "  </thead>\n",
       "  <tbody>\n",
       "    <tr>\n",
       "      <th>342</th>\n",
       "      <td>Fox News</td>\n",
       "      <td>15704546335</td>\n",
       "      <td>Media/News Company</td>\n",
       "      <td>blue_verified</td>\n",
       "      <td>15614839</td>\n",
       "      <td>Founded</td>\n",
       "      <td>7/10/7</td>\n",
       "      <td>http://foxnews.com/, http://insider.foxnews.com</td>\n",
       "      <td>https://www.facebook.com/FoxNews/</td>\n",
       "      <td>19609.953890</td>\n",
       "      <td>19609.953890</td>\n",
       "      <td>5534.918118</td>\n",
       "      <td>16838.592555</td>\n",
       "      <td>929.569362</td>\n",
       "      <td>208.332993</td>\n",
       "      <td>460.854554</td>\n",
       "      <td>317.919494</td>\n",
       "      <td>854.313377</td>\n",
       "      <td>uncategorized</td>\n",
       "    </tr>\n",
       "    <tr>\n",
       "      <th>347</th>\n",
       "      <td>NowThis</td>\n",
       "      <td>341163402640457</td>\n",
       "      <td>News &amp; Media Website</td>\n",
       "      <td>blue_verified</td>\n",
       "      <td>11776185</td>\n",
       "      <td>Founded</td>\n",
       "      <td>2012</td>\n",
       "      <td>http://weibo.com/NowThis</td>\n",
       "      <td>https://www.facebook.com/NowThisNews/</td>\n",
       "      <td>16220.240654</td>\n",
       "      <td>16220.240654</td>\n",
       "      <td>11827.127377</td>\n",
       "      <td>13510.533194</td>\n",
       "      <td>1281.515952</td>\n",
       "      <td>338.161537</td>\n",
       "      <td>278.946906</td>\n",
       "      <td>463.802046</td>\n",
       "      <td>346.765147</td>\n",
       "      <td>uncategorized</td>\n",
       "    </tr>\n",
       "    <tr>\n",
       "      <th>286</th>\n",
       "      <td>Upworthy</td>\n",
       "      <td>354522044588660</td>\n",
       "      <td>Media/News Company</td>\n",
       "      <td>blue_verified</td>\n",
       "      <td>11285519</td>\n",
       "      <td>Launched</td>\n",
       "      <td>3/2012</td>\n",
       "      <td>http://www.upworthy.com</td>\n",
       "      <td>https://www.facebook.com/Upworthy/</td>\n",
       "      <td>10321.425824</td>\n",
       "      <td>10321.425824</td>\n",
       "      <td>4287.502177</td>\n",
       "      <td>9285.294019</td>\n",
       "      <td>719.738278</td>\n",
       "      <td>90.462549</td>\n",
       "      <td>44.765641</td>\n",
       "      <td>135.773988</td>\n",
       "      <td>44.680723</td>\n",
       "      <td>left</td>\n",
       "    </tr>\n",
       "    <tr>\n",
       "      <th>455</th>\n",
       "      <td>ForAmerica</td>\n",
       "      <td>114364638621903</td>\n",
       "      <td>Nonprofit Organization</td>\n",
       "      <td>blue_verified</td>\n",
       "      <td>7919038</td>\n",
       "      <td>Launched</td>\n",
       "      <td>1/9/1</td>\n",
       "      <td>www.ForAmerica.org</td>\n",
       "      <td>https://www.facebook.com/ForAmerica/</td>\n",
       "      <td>39389.349192</td>\n",
       "      <td>39389.349192</td>\n",
       "      <td>12294.727630</td>\n",
       "      <td>38043.266696</td>\n",
       "      <td>301.254038</td>\n",
       "      <td>87.677870</td>\n",
       "      <td>319.701440</td>\n",
       "      <td>177.975557</td>\n",
       "      <td>459.401571</td>\n",
       "      <td>uncategorized</td>\n",
       "    </tr>\n",
       "    <tr>\n",
       "      <th>100</th>\n",
       "      <td>Occupy Democrats</td>\n",
       "      <td>346937065399354</td>\n",
       "      <td>Political Organization</td>\n",
       "      <td>blue_verified</td>\n",
       "      <td>6718910</td>\n",
       "      <td>Founded</td>\n",
       "      <td>21/9/21</td>\n",
       "      <td>www.occupydemocrats.com</td>\n",
       "      <td>https://www.facebook.com/OccupyDemocrats/</td>\n",
       "      <td>29131.514028</td>\n",
       "      <td>29131.514028</td>\n",
       "      <td>22710.509483</td>\n",
       "      <td>24022.561285</td>\n",
       "      <td>1215.064890</td>\n",
       "      <td>433.397100</td>\n",
       "      <td>1712.826411</td>\n",
       "      <td>424.911129</td>\n",
       "      <td>1322.481505</td>\n",
       "      <td>left</td>\n",
       "    </tr>\n",
       "    <tr>\n",
       "      <th>325</th>\n",
       "      <td>Faith Family America</td>\n",
       "      <td>184859785026060</td>\n",
       "      <td>Publisher</td>\n",
       "      <td>not_verified</td>\n",
       "      <td>5963753</td>\n",
       "      <td>Unspecified</td>\n",
       "      <td>0</td>\n",
       "      <td>http://www.faithfamilyamerica.com/</td>\n",
       "      <td>https://www.facebook.com/faithfamilyamerica/</td>\n",
       "      <td>3639.677304</td>\n",
       "      <td>3639.677304</td>\n",
       "      <td>2204.573683</td>\n",
       "      <td>3413.712095</td>\n",
       "      <td>126.166423</td>\n",
       "      <td>20.235740</td>\n",
       "      <td>17.500022</td>\n",
       "      <td>24.325223</td>\n",
       "      <td>37.679165</td>\n",
       "      <td>right</td>\n",
       "    </tr>\n",
       "    <tr>\n",
       "      <th>360</th>\n",
       "      <td>American News</td>\n",
       "      <td>179035672287016</td>\n",
       "      <td>Other</td>\n",
       "      <td>gray_verified</td>\n",
       "      <td>5565048</td>\n",
       "      <td>Unspecified</td>\n",
       "      <td>0</td>\n",
       "      <td>http://americannews.com</td>\n",
       "      <td>https://www.facebook.com/ThePatriotReview/</td>\n",
       "      <td>14886.489606</td>\n",
       "      <td>14886.489606</td>\n",
       "      <td>4494.879024</td>\n",
       "      <td>14314.091844</td>\n",
       "      <td>184.432525</td>\n",
       "      <td>31.990197</td>\n",
       "      <td>90.172704</td>\n",
       "      <td>51.829521</td>\n",
       "      <td>212.831259</td>\n",
       "      <td>right</td>\n",
       "    </tr>\n",
       "    <tr>\n",
       "      <th>44</th>\n",
       "      <td>Western Journalism</td>\n",
       "      <td>123624513983</td>\n",
       "      <td>News &amp; Media Website</td>\n",
       "      <td>blue_verified</td>\n",
       "      <td>5227316</td>\n",
       "      <td>Launched</td>\n",
       "      <td>25/9/25</td>\n",
       "      <td>http://www.westernjournalism.com</td>\n",
       "      <td>https://www.facebook.com/WesternJournalism/</td>\n",
       "      <td>5291.808890</td>\n",
       "      <td>5291.808890</td>\n",
       "      <td>1785.777467</td>\n",
       "      <td>5010.206077</td>\n",
       "      <td>75.476669</td>\n",
       "      <td>35.089446</td>\n",
       "      <td>54.567603</td>\n",
       "      <td>22.134214</td>\n",
       "      <td>94.298679</td>\n",
       "      <td>right</td>\n",
       "    </tr>\n",
       "    <tr>\n",
       "      <th>199</th>\n",
       "      <td>NRA Institute for Legislative Action</td>\n",
       "      <td>22561081832</td>\n",
       "      <td>Nonprofit Organization</td>\n",
       "      <td>blue_verified</td>\n",
       "      <td>5118919</td>\n",
       "      <td>Founded</td>\n",
       "      <td>1871</td>\n",
       "      <td>http://www.NRAILA.org</td>\n",
       "      <td>https://www.facebook.com/NationalRifleAssociat...</td>\n",
       "      <td>9868.035613</td>\n",
       "      <td>9868.035613</td>\n",
       "      <td>2960.681101</td>\n",
       "      <td>9421.320113</td>\n",
       "      <td>100.805342</td>\n",
       "      <td>25.624039</td>\n",
       "      <td>58.378794</td>\n",
       "      <td>16.460138</td>\n",
       "      <td>245.390530</td>\n",
       "      <td>uncategorized</td>\n",
       "    </tr>\n",
       "    <tr>\n",
       "      <th>145</th>\n",
       "      <td>The Other 98%</td>\n",
       "      <td>114517875225866</td>\n",
       "      <td>Broadcasting &amp; Media Production Company</td>\n",
       "      <td>blue_verified</td>\n",
       "      <td>5059627</td>\n",
       "      <td>Born</td>\n",
       "      <td>15/4/15</td>\n",
       "      <td>http://other98.com</td>\n",
       "      <td>https://www.facebook.com/TheOther98/</td>\n",
       "      <td>16855.395029</td>\n",
       "      <td>16855.395029</td>\n",
       "      <td>12862.244034</td>\n",
       "      <td>13714.705048</td>\n",
       "      <td>677.045420</td>\n",
       "      <td>220.759155</td>\n",
       "      <td>1070.292313</td>\n",
       "      <td>314.278346</td>\n",
       "      <td>858.225558</td>\n",
       "      <td>left</td>\n",
       "    </tr>\n",
       "  </tbody>\n",
       "</table>\n",
       "</div>"
      ],
      "text/plain": [
       "                                     name               id  \\\n",
       "342                              Fox News      15704546335   \n",
       "347                               NowThis  341163402640457   \n",
       "286                              Upworthy  354522044588660   \n",
       "455                            ForAmerica  114364638621903   \n",
       "100                      Occupy Democrats  346937065399354   \n",
       "325                  Faith Family America  184859785026060   \n",
       "360                         American News  179035672287016   \n",
       "44                     Western Journalism     123624513983   \n",
       "199  NRA Institute for Legislative Action      22561081832   \n",
       "145                         The Other 98%  114517875225866   \n",
       "\n",
       "                                    category verification_status  fan_count  \\\n",
       "342                       Media/News Company       blue_verified   15614839   \n",
       "347                     News & Media Website       blue_verified   11776185   \n",
       "286                       Media/News Company       blue_verified   11285519   \n",
       "455                   Nonprofit Organization       blue_verified    7919038   \n",
       "100                   Political Organization       blue_verified    6718910   \n",
       "325                                Publisher        not_verified    5963753   \n",
       "360                                    Other       gray_verified    5565048   \n",
       "44                      News & Media Website       blue_verified    5227316   \n",
       "199                   Nonprofit Organization       blue_verified    5118919   \n",
       "145  Broadcasting & Media Production Company       blue_verified    5059627   \n",
       "\n",
       "      start_type start_date                                          website  \\\n",
       "342      Founded     7/10/7  http://foxnews.com/, http://insider.foxnews.com   \n",
       "347      Founded       2012                         http://weibo.com/NowThis   \n",
       "286     Launched     3/2012                          http://www.upworthy.com   \n",
       "455     Launched      1/9/1                              www.ForAmerica.org    \n",
       "100      Founded    21/9/21                          www.occupydemocrats.com   \n",
       "325  Unspecified          0               http://www.faithfamilyamerica.com/   \n",
       "360  Unspecified          0                          http://americannews.com   \n",
       "44      Launched    25/9/25                 http://www.westernjournalism.com   \n",
       "199      Founded       1871                            http://www.NRAILA.org   \n",
       "145         Born    15/4/15                               http://other98.com   \n",
       "\n",
       "                                                  link  mean_reactions  \\\n",
       "342                  https://www.facebook.com/FoxNews/    19609.953890   \n",
       "347              https://www.facebook.com/NowThisNews/    16220.240654   \n",
       "286                 https://www.facebook.com/Upworthy/    10321.425824   \n",
       "455               https://www.facebook.com/ForAmerica/    39389.349192   \n",
       "100          https://www.facebook.com/OccupyDemocrats/    29131.514028   \n",
       "325       https://www.facebook.com/faithfamilyamerica/     3639.677304   \n",
       "360         https://www.facebook.com/ThePatriotReview/    14886.489606   \n",
       "44         https://www.facebook.com/WesternJournalism/     5291.808890   \n",
       "199  https://www.facebook.com/NationalRifleAssociat...     9868.035613   \n",
       "145               https://www.facebook.com/TheOther98/    16855.395029   \n",
       "\n",
       "     mean_comments   mean_shares    mean_likes   mean_loves   mean_wows  \\\n",
       "342   19609.953890   5534.918118  16838.592555   929.569362  208.332993   \n",
       "347   16220.240654  11827.127377  13510.533194  1281.515952  338.161537   \n",
       "286   10321.425824   4287.502177   9285.294019   719.738278   90.462549   \n",
       "455   39389.349192  12294.727630  38043.266696   301.254038   87.677870   \n",
       "100   29131.514028  22710.509483  24022.561285  1215.064890  433.397100   \n",
       "325    3639.677304   2204.573683   3413.712095   126.166423   20.235740   \n",
       "360   14886.489606   4494.879024  14314.091844   184.432525   31.990197   \n",
       "44     5291.808890   1785.777467   5010.206077    75.476669   35.089446   \n",
       "199    9868.035613   2960.681101   9421.320113   100.805342   25.624039   \n",
       "145   16855.395029  12862.244034  13714.705048   677.045420  220.759155   \n",
       "\n",
       "      mean_hahas   mean_sads  mean_angrys political_category  \n",
       "342   460.854554  317.919494   854.313377      uncategorized  \n",
       "347   278.946906  463.802046   346.765147      uncategorized  \n",
       "286    44.765641  135.773988    44.680723               left  \n",
       "455   319.701440  177.975557   459.401571      uncategorized  \n",
       "100  1712.826411  424.911129  1322.481505               left  \n",
       "325    17.500022   24.325223    37.679165              right  \n",
       "360    90.172704   51.829521   212.831259              right  \n",
       "44     54.567603   22.134214    94.298679              right  \n",
       "199    58.378794   16.460138   245.390530      uncategorized  \n",
       "145  1070.292313  314.278346   858.225558               left  "
      ]
     },
     "execution_count": 47,
     "metadata": {},
     "output_type": "execute_result"
    }
   ],
   "source": [
    "new_pg_df.sort_values('fan_count', ascending=False).head(10)"
   ]
  },
  {
   "cell_type": "code",
   "execution_count": 69,
   "metadata": {
    "collapsed": true
   },
   "outputs": [],
   "source": [
    "Hillary_list = []\n",
    "for each_page in list(new_pg_df['name']):\n",
    "    if 'Hillary' in each_page or 'Clinton' in each_page:\n",
    "        Hillary_list.append(each_page)"
   ]
  },
  {
   "cell_type": "code",
   "execution_count": 70,
   "metadata": {
    "collapsed": true
   },
   "outputs": [],
   "source": [
    "Trump_list = []\n",
    "for each_page in list(new_pg_df['name']):\n",
    "    if 'Trump' in each_page or 'Donald' in each_page:\n",
    "        Trump_list.append(each_page)"
   ]
  },
  {
   "cell_type": "code",
   "execution_count": null,
   "metadata": {
    "collapsed": true
   },
   "outputs": [],
   "source": [
    "Trump_list = []\n",
    "for each_page in list(new_pg_df['name']):\n",
    "    if 'America' in each_page or 'American' in each_page:\n",
    "        print each_page"
   ]
  },
  {
   "cell_type": "code",
   "execution_count": null,
   "metadata": {
    "collapsed": true
   },
   "outputs": [],
   "source": [
    "Hillary_list"
   ]
  },
  {
   "cell_type": "code",
   "execution_count": null,
   "metadata": {
    "collapsed": true
   },
   "outputs": [],
   "source": [
    "Trump_list"
   ]
  },
  {
   "cell_type": "code",
   "execution_count": null,
   "metadata": {
    "collapsed": true
   },
   "outputs": [],
   "source": [
    "for each_page in list(new_pg_df['name']):\n",
    "    if 'Right' in each_page or 'Right' in each_page or 'Conservative' in each_page or 'conservative' in each_page or 'republican' in each_page or 'Republican' in each_page:\n",
    "        print each_page\n",
    "        "
   ]
  },
  {
   "cell_type": "code",
   "execution_count": null,
   "metadata": {
    "collapsed": true
   },
   "outputs": [],
   "source": [
    "new_pg_df[new_pg_df['name'].isin(Hillary_list)].sort_values(['fan_count'], ascending=False)"
   ]
  },
  {
   "cell_type": "code",
   "execution_count": null,
   "metadata": {
    "collapsed": true
   },
   "outputs": [],
   "source": [
    "new_pg_df[new_pg_df['name'].isin(Trump_list)].sort_values(['fan_count'], ascending=False)"
   ]
  },
  {
   "cell_type": "code",
   "execution_count": null,
   "metadata": {
    "collapsed": true
   },
   "outputs": [],
   "source": [
    "for each_page in list(new_pg_df['name']):\n",
    "    if 'left' in each_page or 'Left' in each_page or 'Liberal' in each_page or 'liberal' in each_page or 'democrat' in each_page or 'Democrat' in each_page:\n",
    "        print each_page"
   ]
  },
  {
   "cell_type": "code",
   "execution_count": 137,
   "metadata": {
    "collapsed": true
   },
   "outputs": [],
   "source": [
    "domain_dict = {}"
   ]
  },
  {
   "cell_type": "code",
   "execution_count": 228,
   "metadata": {
    "collapsed": true
   },
   "outputs": [],
   "source": [
    "for each_file in file_list:\n",
    "    each_id = each_file.split(\"/\")[2].split(\"_\")[0]\n",
    "    if int(each_id) in active_ids:\n",
    "        page_name = list(map_df[map_df['id'] == int(each_id)]['page_name'])[0]\n",
    "        #print page_name\n",
    "        domain_dict[page_name] = {}\n",
    "        df = pandas.read_csv(each_file)\n",
    "        domain_list = []\n",
    "        link_df = df['status_link']\n",
    "        link_list = list(link_df)\n",
    "        c = 0\n",
    "        for each_link in link_list:\n",
    "            try:\n",
    "                parsed_url = urlparse(each_link)\n",
    "                domain_list.append(parsed_url.netloc)\n",
    "            except:\n",
    "                #print parsed_url.netloc\n",
    "                domain_list.append(parsed_url.netloc)\n",
    "        domain_dict[page_name] = dict(Counter(domain_list))"
   ]
  },
  {
   "cell_type": "code",
   "execution_count": 167,
   "metadata": {
    "collapsed": true
   },
   "outputs": [],
   "source": [
    "from partisan_sites_parser import *\n",
    "partisan_websites = sites"
   ]
  },
  {
   "cell_type": "code",
   "execution_count": 244,
   "metadata": {
    "collapsed": true
   },
   "outputs": [],
   "source": [
    "internal_ref_dict = {}\n",
    "for key, val in domain_dict.items():\n",
    "    for each_key, each_val in val.items():\n",
    "        if 'www' in each_key:\n",
    "            url = each_key[4:]\n",
    "        else:\n",
    "            url = each_key\n",
    "        if url in partisan_websites:\n",
    "            if internal_ref_dict.has_key(key) == False:\n",
    "                internal_ref_dict[key] = each_val\n",
    "            else:\n",
    "                internal_ref_dict[key] += each_val\n",
    "       "
   ]
  },
  {
   "cell_type": "code",
   "execution_count": 211,
   "metadata": {
    "collapsed": true
   },
   "outputs": [],
   "source": [
    "fb_data = pandas.read_csv('data/fb_pages_mapping.csv')"
   ]
  },
  {
   "cell_type": "code",
   "execution_count": 245,
   "metadata": {
    "collapsed": true
   },
   "outputs": [],
   "source": [
    "for key, val in internal_ref_dict.items():\n",
    "    perc = (val/float(fb_data[fb_data['page_name'] == key]['status_count']))*100\n",
    "    internal_perc_dict[key] = perc"
   ]
  },
  {
   "cell_type": "code",
   "execution_count": 251,
   "metadata": {},
   "outputs": [
    {
     "data": {
      "text/plain": [
       "58.918399570635287"
      ]
     },
     "execution_count": 251,
     "metadata": {},
     "output_type": "execute_result"
    }
   ],
   "source": [
    "np.mean(internal_perc_dict.values())"
   ]
  },
  {
   "cell_type": "code",
   "execution_count": 196,
   "metadata": {},
   "outputs": [
    {
     "name": "stdout",
     "output_type": "stream",
     "text": [
      "1\n",
      "3\n",
      "4\n",
      "988\n"
     ]
    }
   ],
   "source": [
    "for x in domain_dict['Proud Liberal'].keys():\n",
    "    if x in partisan_websites:\n",
    "        print domain_dict['Proud Liberal'][x]"
   ]
  },
  {
   "cell_type": "code",
   "execution_count": 198,
   "metadata": {},
   "outputs": [
    {
     "data": {
      "text/plain": [
       "{'10wealthymen.newsvine.com': 1,\n",
       " 'bluedotdaily.com': 4,\n",
       " 'kai0.newsvine.com': 1,\n",
       " 'krishna109.newsvine.com': 1,\n",
       " 'media.giphy.com': 1,\n",
       " 'mic.com': 1,\n",
       " 'mobile.nytimes.com': 2,\n",
       " 'rawprogressive.com': 1,\n",
       " 'thehill.com': 3,\n",
       " 'theproudliberal.org': 988,\n",
       " 'thinkprogress.org': 3,\n",
       " 'www.bluedotdaily.com': 133,\n",
       " 'www.cbsnews.com': 1,\n",
       " 'www.cnbc.com': 1,\n",
       " 'www.cnn.com': 8,\n",
       " 'www.dailykos.com': 1,\n",
       " 'www.esquire.com': 1,\n",
       " 'www.facebook.com': 13,\n",
       " 'www.huffingtonpost.com': 3,\n",
       " 'www.ifyouonlynews.com': 1,\n",
       " 'www.msnbc.com': 1,\n",
       " 'www.nydailynews.com': 1,\n",
       " 'www.rawprogressive.com': 47,\n",
       " 'www.theguardian.com': 1,\n",
       " 'www.washingtonpost.com': 3,\n",
       " 'www.yahoo.com': 2}"
      ]
     },
     "execution_count": 198,
     "metadata": {},
     "output_type": "execute_result"
    }
   ],
   "source": [
    "domain_dict['Proud Liberal']"
   ]
  },
  {
   "cell_type": "code",
   "execution_count": null,
   "metadata": {
    "collapsed": true
   },
   "outputs": [],
   "source": []
  }
 ],
 "metadata": {
  "kernelspec": {
   "display_name": "Python 2",
   "language": "python",
   "name": "python2"
  },
  "language_info": {
   "codemirror_mode": {
    "name": "ipython",
    "version": 2
   },
   "file_extension": ".py",
   "mimetype": "text/x-python",
   "name": "python",
   "nbconvert_exporter": "python",
   "pygments_lexer": "ipython2",
   "version": "2.7.13"
  }
 },
 "nbformat": 4,
 "nbformat_minor": 2
}
