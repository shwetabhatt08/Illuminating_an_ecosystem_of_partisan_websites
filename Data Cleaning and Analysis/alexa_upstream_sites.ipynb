{
 "cells": [
  {
   "cell_type": "markdown",
   "metadata": {},
   "source": [
    "# Analysis of Alexa top 5 upstream sites for finding traffic forwarding patterns of websites"
   ]
  },
  {
   "cell_type": "code",
   "execution_count": 1,
   "metadata": {
    "collapsed": true
   },
   "outputs": [],
   "source": [
    "import json\n",
    "import pandas\n",
    "import numpy as np\n",
    "import operator\n",
    "import unicodedata \n",
    "from partisan_sites_parser import *\n",
    "from collections import Counter\n",
    "import operator\n",
    "\n",
    "owner_cliques = {}\n",
    "owner_dict = {}\n",
    "\n",
    "json_data = open('data/referrers.json').read()\n",
    "m_json_data = open('data/mainstream_referrers.json').read()\n",
    "data = json.loads(json_data)\n",
    "m_data = json.loads(m_json_data)"
   ]
  },
  {
   "cell_type": "code",
   "execution_count": 3,
   "metadata": {
    "collapsed": true
   },
   "outputs": [],
   "source": [
    "#Importing data from partisan_sites_parser\n",
    "\n",
    "data_frame = df\n",
    "partisan_websites = sites\n",
    "right_sites = right\n",
    "left_sites = left\n",
    "owner_company_list = owner_companies"
   ]
  },
  {
   "cell_type": "code",
   "execution_count": 4,
   "metadata": {
    "collapsed": true
   },
   "outputs": [],
   "source": [
    "#data cleaning: removing 'this' as referer\n",
    "referer_dict = {}\n",
    "for key, val in data.items():\n",
    "\tif len(val) > 1:\n",
    "\t\treferer_dict[key] = val\n",
    "\tif len(val) == 1:\n",
    "\t\tif val[0] != 'this':\n",
    "\t\t\treferer_dict[key] = val\n"
   ]
  },
  {
   "cell_type": "code",
   "execution_count": 5,
   "metadata": {},
   "outputs": [
    {
     "data": {
      "text/plain": [
       "484"
      ]
     },
     "execution_count": 5,
     "metadata": {},
     "output_type": "execute_result"
    }
   ],
   "source": [
    "#data cleaning:  removing items whose keys do not belong to partisan websites\n",
    "for key, val in referer_dict.items():\n",
    "    if key not in partisan_websites:\n",
    "        referer_dict.pop(key)\n",
    "len(referer_dict.keys())\n"
   ]
  },
  {
   "cell_type": "code",
   "execution_count": 6,
   "metadata": {},
   "outputs": [
    {
     "data": {
      "text/plain": [
       "145"
      ]
     },
     "execution_count": 6,
     "metadata": {},
     "output_type": "execute_result"
    }
   ],
   "source": [
    "l_count = 0\n",
    "for url in referer_dict.keys():\n",
    "    if url in left_sites:\n",
    "        l_count += 1\n",
    "l_count"
   ]
  },
  {
   "cell_type": "code",
   "execution_count": 7,
   "metadata": {},
   "outputs": [
    {
     "data": {
      "text/plain": [
       "339"
      ]
     },
     "execution_count": 7,
     "metadata": {},
     "output_type": "execute_result"
    }
   ],
   "source": [
    "r_count = 0\n",
    "for url in referer_dict.keys():\n",
    "    if url in right_sites:\n",
    "        r_count += 1\n",
    "r_count"
   ]
  },
  {
   "cell_type": "code",
   "execution_count": 8,
   "metadata": {
    "collapsed": true
   },
   "outputs": [],
   "source": [
    "no_upstream_data_left = []\n",
    "no_upstream_data_right = []\n",
    "for x in partisan_websites:\n",
    "    if x not in referer_dict.keys():\n",
    "        if x in left:\n",
    "            no_upstream_data_left.append(x)\n",
    "        if x in right:\n",
    "            no_upstream_data_right.append(x)"
   ]
  },
  {
   "cell_type": "code",
   "execution_count": 9,
   "metadata": {},
   "outputs": [
    {
     "data": {
      "text/plain": [
       "1842"
      ]
     },
     "execution_count": 9,
     "metadata": {},
     "output_type": "execute_result"
    }
   ],
   "source": [
    "total_referrer_count = 0\n",
    "for key, val in referer_dict.items():\n",
    "\tfor each_val in val:\n",
    "\t\ttotal_referrer_count += 1\n",
    "#total_referrer_count = 1985\n",
    "total_referrer_count\n"
   ]
  },
  {
   "cell_type": "code",
   "execution_count": 14,
   "metadata": {},
   "outputs": [
    {
     "data": {
      "text/plain": [
       "273"
      ]
     },
     "execution_count": 14,
     "metadata": {},
     "output_type": "execute_result"
    }
   ],
   "source": [
    "#Splitting the top 5 referer dictionary into internal and external dictionaries\n",
    "\n",
    "from collections import Counter\n",
    "internal_ref_dict = {}     # keys as partisan websites which are refered by atleast one other partisan websites\n",
    "hubs = []     # partisan websites that are top referers to other partisan websites\n",
    "authorities = []    # partisan websites with atleast one partisan websites as a its top referer\n",
    "external_ref_dict = {}\n",
    "external_referers = []\n",
    "referer_count_dict = {}\n",
    "for key, val in referer_dict.items():\n",
    "    for each_val in val:\n",
    "        if each_val in partisan_websites:\n",
    "            hubs.append(each_val)\n",
    "            if internal_ref_dict.has_key(key) == False:\n",
    "                internal_ref_dict[key] = []\n",
    "                internal_ref_dict[key].append(each_val)\n",
    "            else:\n",
    "                internal_ref_dict[key].append(each_val)\n",
    "        else:\n",
    "            external_referers.append(each_val)       \n",
    "\n",
    "for key, val in internal_ref_dict.items():\n",
    "    referer_count_dict[key] = len(val)\n",
    "    \n",
    "authorities = internal_ref_dict.keys() \n",
    "hubs_counter = Counter(hubs)\n",
    "hubs_counter.most_common(10)\n",
    "most_refererred = sorted(referer_count_dict.items(), key=operator.itemgetter(1), reverse=True) \n",
    "most_refererred = dict(most_refererred)"
   ]
  },
  {
   "cell_type": "code",
   "execution_count": 21,
   "metadata": {
    "collapsed": true
   },
   "outputs": [],
   "source": [
    "l_internal_ref_dict = {}\n",
    "r_internal_ref_dict = {}\n",
    "for key in internal_ref_dict.keys():\n",
    "    if key in left:\n",
    "        l_internal_ref_dict[key] = internal_ref_dict[key]\n",
    "    if key in right:\n",
    "        r_internal_ref_dict[key] = internal_ref_dict[key]"
   ]
  },
  {
   "cell_type": "code",
   "execution_count": 26,
   "metadata": {
    "collapsed": true
   },
   "outputs": [],
   "source": [
    "l_hubs = []\n",
    "r_hubs = []\n",
    "for val in l_internal_ref_dict.values():\n",
    "    for each_val in val:\n",
    "        l_hubs.append(each_val)\n",
    "\n",
    "r_hubs = []\n",
    "for val in r_internal_ref_dict.values():\n",
    "    for each_val in val:\n",
    "        r_hubs.append(each_val)"
   ]
  },
  {
   "cell_type": "code",
   "execution_count": 12,
   "metadata": {
    "collapsed": true
   },
   "outputs": [],
   "source": [
    "left_auth = []\n",
    "right_auth = []\n",
    "for x in internal_ref_dict.keys():\n",
    "    if x in left:\n",
    "        left_auth.append(x)\n",
    "    if x in right:\n",
    "        right_auth.append(x)"
   ]
  },
  {
   "cell_type": "code",
   "execution_count": 10,
   "metadata": {
    "collapsed": true
   },
   "outputs": [],
   "source": [
    "partisan_hubs = []\n",
    "for each_hub in Counter(hubs).most_common(23):\n",
    "    partisan_hubs.append(each_hub[0])"
   ]
  },
  {
   "cell_type": "code",
   "execution_count": 11,
   "metadata": {},
   "outputs": [
    {
     "data": {
      "text/plain": [
       "48"
      ]
     },
     "execution_count": 11,
     "metadata": {},
     "output_type": "execute_result"
    }
   ],
   "source": [
    "len(set(hubs).intersection(set(authorities)))"
   ]
  },
  {
   "cell_type": "code",
   "execution_count": 12,
   "metadata": {},
   "outputs": [
    {
     "data": {
      "text/plain": [
       "214"
      ]
     },
     "execution_count": 12,
     "metadata": {},
     "output_type": "execute_result"
    }
   ],
   "source": [
    "nodes = list(set(authorities + list(set(hubs))))\n",
    "len(nodes)"
   ]
  },
  {
   "cell_type": "code",
   "execution_count": 47,
   "metadata": {
    "collapsed": true
   },
   "outputs": [],
   "source": [
    "top_hubs = []\n",
    "for each_hub in hubs_counter.most_common(16):\n",
    "    top_hubs.append(each_hub[0])"
   ]
  },
  {
   "cell_type": "code",
   "execution_count": 49,
   "metadata": {
    "collapsed": true
   },
   "outputs": [],
   "source": [
    "top_hubs_left = []\n",
    "top_hubs_right = []"
   ]
  },
  {
   "cell_type": "code",
   "execution_count": 50,
   "metadata": {
    "collapsed": true
   },
   "outputs": [],
   "source": [
    "for each_hub in top_hubs:\n",
    "    if each_hub in left:\n",
    "        top_hubs_left.append(each_hub)\n",
    "    if each_hub in right:\n",
    "        top_hubs_right.append(each_hub)"
   ]
  },
  {
   "cell_type": "code",
   "execution_count": 74,
   "metadata": {
    "collapsed": true
   },
   "outputs": [],
   "source": [
    "#authorities referred by top 3 hubs\n",
    "\n",
    "top_authorities = []\n",
    "most_refered = []\n",
    "# authorities that are refered by 3 or more partisan sites\n",
    "most_refered = []\n",
    "for key, val in internal_ref_dict.items():\n",
    "    if len(val) >=3:\n",
    "        most_refered.append(key)\n",
    "    if len(val) > 3:\n",
    "        print key\n",
    "    for each_val in val:\n",
    "        if each_val in top_hubs:\n",
    "            top_authorities.append(key)"
   ]
  },
  {
   "cell_type": "code",
   "execution_count": 40,
   "metadata": {
    "collapsed": true
   },
   "outputs": [],
   "source": [
    "top_left_auth = []\n",
    "top_right_auth = []\n",
    "for each_url in most_refered:\n",
    "    if each_url in left:\n",
    "        top_left_auth.append(each_url)\n",
    "    if each_url in right:\n",
    "        top_right_auth.append(each_url)"
   ]
  },
  {
   "cell_type": "code",
   "execution_count": null,
   "metadata": {
    "collapsed": true
   },
   "outputs": [],
   "source": [
    "key_auth = list(set(top_authorities).intersection(set(most_refered)))"
   ]
  },
  {
   "cell_type": "code",
   "execution_count": null,
   "metadata": {
    "collapsed": true
   },
   "outputs": [],
   "source": [
    "[str(x) for x in key_auth]"
   ]
  },
  {
   "cell_type": "code",
   "execution_count": 47,
   "metadata": {
    "collapsed": true
   },
   "outputs": [],
   "source": [
    "edge_list = []\n",
    "for key, val in internal_ref_dict.items():\n",
    "    for each_val in val:\n",
    "        edge_list.append((key, each_val))\n",
    "            "
   ]
  },
  {
   "cell_type": "code",
   "execution_count": 49,
   "metadata": {},
   "outputs": [
    {
     "data": {
      "text/plain": [
       "61"
      ]
     },
     "execution_count": 49,
     "metadata": {},
     "output_type": "execute_result"
    }
   ],
   "source": [
    "#mainstream sites referrer analysis\n",
    "\n",
    "\n",
    "from collections import Counter\n",
    "mainstream_dict = {}\n",
    "mainstream_ext = []\n",
    "mainstream_hubs = []\n",
    "from collections import Counter\n",
    "for key, val in m_data.items():\n",
    "    for each_val in val:\n",
    "        if each_val in m_data.keys():\n",
    "            mainstream_hubs.append(each_val)\n",
    "            if mainstream_dict.has_key(key) == False:\n",
    "                mainstream_dict[key] = []\n",
    "                mainstream_dict[key].append(each_val)\n",
    "            else:\n",
    "                mainstream_dict[key].append(each_val)\n",
    "        else:\n",
    "            mainstream_ext.append(each_val)\n",
    "\n",
    "mainstream_hubs_counter = Counter(mainstream_hubs)\n",
    "mainstream_ext_counter = Counter(mainstream_ext)\n",
    "len(set(mainstream_hubs))"
   ]
  },
  {
   "cell_type": "code",
   "execution_count": 82,
   "metadata": {
    "collapsed": true
   },
   "outputs": [],
   "source": [
    "internal_mainstream_hubs = []\n",
    "for each_hub in mainstream_hubs:\n",
    "    if 'google' not in each_hub and 'bing' not in each_hub and 'yahoo' not in each_hub and 'reddit' not in each_hub:\n",
    "        internal_mainstream_hubs.append(each_hub)"
   ]
  },
  {
   "cell_type": "code",
   "execution_count": 70,
   "metadata": {},
   "outputs": [
    {
     "data": {
      "text/plain": [
       "{u'alternet.org',\n",
       " u'beforeitsnews.com',\n",
       " u'commondreams.org',\n",
       " u'consortiumnews.com',\n",
       " u'dailycaller.com',\n",
       " u'drudgereport.com',\n",
       " u'foxnews.com',\n",
       " u'frontpagemag.com',\n",
       " u'mediamatters.org',\n",
       " u'newsmax.com',\n",
       " u'therealnews.com',\n",
       " u'truthdig.com',\n",
       " u'unionleader.com',\n",
       " u'washingtonexaminer.com',\n",
       " u'washingtonmonthly.com',\n",
       " u'washingtontimes.com'}"
      ]
     },
     "execution_count": 70,
     "metadata": {},
     "output_type": "execute_result"
    }
   ],
   "source": [
    "set(partisan_websites).intersection(set(mainstream_dict.keys()))"
   ]
  },
  {
   "cell_type": "code",
   "execution_count": 71,
   "metadata": {},
   "outputs": [
    {
     "data": {
      "text/plain": [
       "662"
      ]
     },
     "execution_count": 71,
     "metadata": {},
     "output_type": "execute_result"
    }
   ],
   "source": [
    "non_google_mainstream_hubs_count = 0\n",
    "for key, val in mainstream_hubs_counter.items():\n",
    "    if key != 'google.com':\n",
    "        non_google_mainstream_hubs_count += val\n",
    "non_google_mainstream_hubs_count"
   ]
  },
  {
   "cell_type": "code",
   "execution_count": 72,
   "metadata": {},
   "outputs": [
    {
     "data": {
      "text/plain": [
       "662"
      ]
     },
     "execution_count": 72,
     "metadata": {},
     "output_type": "execute_result"
    }
   ],
   "source": [
    "non_google_mainstream_hubs = []\n",
    "for key, val in mainstream_dict.items():\n",
    "    for each_val in val:\n",
    "        if each_val == 'google.com':\n",
    "            val.remove(each_val)\n",
    "        else:\n",
    "            non_google_mainstream_hubs.append(each_val)\n",
    "len(non_google_mainstream_hubs)"
   ]
  },
  {
   "cell_type": "code",
   "execution_count": 57,
   "metadata": {
    "collapsed": true
   },
   "outputs": [],
   "source": [
    "auth_search_social_counter = {}\n",
    "for each_url in authorities:\n",
    "    auth_search_social_counter[each_url] = 0\n",
    "    \n",
    "for each_url in authorities:\n",
    "    referers = referer_dict[each_url]\n",
    "    for each_referer in referers:\n",
    "        if 'google' in each_referer:\n",
    "            if auth_search_social_counter.has_key(each_url) == False:\n",
    "                auth_search_social_counter[each_url] = 1\n",
    "            else:\n",
    "                auth_search_social_counter[each_url] += 1\n",
    "        if 'yahoo' in each_referer:\n",
    "            if auth_search_social_counter.has_key(each_url) == False:\n",
    "                auth_search_social_counter[each_url] = 1\n",
    "            else:\n",
    "                auth_search_social_counter[each_url] += 1\n",
    "        if 'bing' in each_referer:\n",
    "            if auth_search_social_counter.has_key(each_url) == False:\n",
    "                auth_search_social_counter[each_url] = 1\n",
    "            else:\n",
    "                auth_search_social_counter[each_url] += 1\n",
    "        if 'facebook' in each_referer:\n",
    "            if auth_search_social_counter.has_key(each_url) == False:\n",
    "                auth_search_social_counter[each_url] = 1\n",
    "            else:\n",
    "                auth_search_social_counter[each_url] += 1\n",
    "        if 'twitter' in each_referer:\n",
    "            if auth_search_social_counter.has_key(each_url) == False:\n",
    "                auth_search_social_counter[each_url] = 1\n",
    "            else:\n",
    "                auth_search_social_counter[each_url] += 1\n",
    "        if 'reddit' in each_referer:\n",
    "            if auth_search_social_counter.has_key(each_url) == False:\n",
    "                auth_search_social_counter[each_url] = 1\n",
    "            else:\n",
    "                auth_search_social_counter[each_url] += 1\n",
    "        if 't.co' == each_referer:\n",
    "            if auth_search_social_counter.has_key(each_url) == False:\n",
    "                auth_search_social_counter[each_url] = 1\n",
    "            else:\n",
    "                auth_search_social_counter[each_url] += 1"
   ]
  },
  {
   "cell_type": "code",
   "execution_count": null,
   "metadata": {
    "collapsed": true
   },
   "outputs": [],
   "source": [
    "percentage_dict = {}\n",
    "\n",
    "for key, val in most_refererred.items():\n",
    "    if key in auth_search_social_counter.keys():\n",
    "        percentage_dict[key] =  float((float(val) + float(auth_search_social_counter[key])) / 5)\n",
    "percentage_dict\n"
   ]
  },
  {
   "cell_type": "code",
   "execution_count": 59,
   "metadata": {
    "collapsed": true
   },
   "outputs": [],
   "source": [
    "_100_percent_refered = []\n",
    "_80_percent_refered = []\n",
    "_60_percent_refered = []\n",
    "_40_percent_refered = []\n",
    "_20_percent_refered = []\n",
    "for key, val in percentage_dict.items():\n",
    "    if val == 1.0:\n",
    "        _100_percent_refered.append(key)\n",
    "    if val == 0.8:\n",
    "        _80_percent_refered.append(key)\n",
    "    if val == 0.6:\n",
    "        _60_percent_refered.append(key)\n",
    "    if val == 0.4:\n",
    "        _40_percent_refered.append(key)\n",
    "    if val == 0.2:\n",
    "        _20_percent_refered.append(key)\n",
    "        "
   ]
  },
  {
   "cell_type": "code",
   "execution_count": 60,
   "metadata": {},
   "outputs": [
    {
     "data": {
      "text/plain": [
       "{'100': 66, '20': 1, '40': 8, '60': 29, '80': 81}"
      ]
     },
     "execution_count": 60,
     "metadata": {},
     "output_type": "execute_result"
    }
   ],
   "source": [
    "percent_internal_refered = {}\n",
    "percent_internal_refered['100'] = len(_100_percent_refered)\n",
    "percent_internal_refered['80'] = len(_80_percent_refered)\n",
    "percent_internal_refered['60'] = len(_60_percent_refered)\n",
    "percent_internal_refered['40'] = len(_40_percent_refered)\n",
    "percent_internal_refered['20'] = len(_20_percent_refered)\n",
    "\n",
    "percent_internal_refered"
   ]
  },
  {
   "cell_type": "code",
   "execution_count": null,
   "metadata": {
    "collapsed": true
   },
   "outputs": [],
   "source": [
    "external_referers_counter = Counter(external_referers)"
   ]
  },
  {
   "cell_type": "code",
   "execution_count": 101,
   "metadata": {},
   "outputs": [
    {
     "data": {
      "text/plain": [
       "{'external': 134,\n",
       " 'internal': 273,\n",
       " 'search': 578,\n",
       " 'social': 692,\n",
       " 'youtube': 165}"
      ]
     },
     "execution_count": 101,
     "metadata": {},
     "output_type": "execute_result"
    }
   ],
   "source": [
    "#Splitting the top 5 referer instances into social, search, youtube, internal and external categories\n",
    "referer_category_dict = {}\n",
    "for key, val in external_referers_counter.items():\n",
    "    if 'google' in key or 'yahoo' in key or 'bing' in key:\n",
    "        if referer_category_dict.has_key('search') == False:\n",
    "            referer_category_dict['search'] = val\n",
    "        else:\n",
    "            referer_category_dict['search'] += val\n",
    "    if 'facebook' in key or 'twitter' in key or 'reddit'in key or key == 't.co':\n",
    "        if referer_category_dict.has_key('social') == False:\n",
    "            referer_category_dict['social'] = val\n",
    "        else:\n",
    "            referer_category_dict['social'] += val\n",
    "    if 'youtube' in key:\n",
    "        referer_category_dict['youtube'] = val\n",
    "    else:\n",
    "        if 'google' not in key and 'yahoo' not in key and 'bing' not in key and \\\n",
    "        'facebook' not in key and 'twitter' not in key and 'youtube' not in key and \\\n",
    "        'reddit' not in key and key != 't.co':\n",
    "            if referer_category_dict.has_key('external') == False:\n",
    "                referer_category_dict['external'] = val\n",
    "            else:\n",
    "                referer_category_dict['external'] += val\n",
    "                \n",
    "referer_category_dict['internal'] = len(hubs)\n",
    "external_referers_counter.keys()\n",
    "referer_category_dict"
   ]
  },
  {
   "cell_type": "code",
   "execution_count": 62,
   "metadata": {
    "collapsed": true
   },
   "outputs": [],
   "source": [
    "#left vs right analysis\n",
    "\n",
    "left_left = {}\n",
    "left_right = {}\n",
    "right_right = {}\n",
    "right_left = {}\n",
    "\n",
    "def get_mapping_dict(parent_dict, child_dict, list1, list2):\n",
    "    for key, val in parent_dict.items():\n",
    "        for each_val in val:\n",
    "            if key in list1 and each_val in list2:\n",
    "                if child_dict.has_key(key) == False:\n",
    "                    child_dict[key] = []\n",
    "                    child_dict[key].append(each_val)\n",
    "                else:\n",
    "                    child_dict[key].append(each_val)\n",
    "    return child_dict\n",
    "\n",
    "\n",
    "left_left = get_mapping_dict(internal_ref_dict, left_left, left_sites, left_sites)\n",
    "right_right = get_mapping_dict(internal_ref_dict, right_right, right_sites, right_sites)\n",
    "left_right = get_mapping_dict(internal_ref_dict, left_right, left_sites, right_sites)\n",
    "right_left = get_mapping_dict(internal_ref_dict, right_left, right_sites, left_sites)\n",
    "            "
   ]
  },
  {
   "cell_type": "code",
   "execution_count": 63,
   "metadata": {},
   "outputs": [
    {
     "data": {
      "text/plain": [
       "{'left_left': 59, 'left_right': 5, 'right_left': 1, 'right_right': 208}"
      ]
     },
     "execution_count": 63,
     "metadata": {},
     "output_type": "execute_result"
    }
   ],
   "source": [
    "mapping_count_dict = {}\n",
    "\n",
    "def get_count(dict1):\n",
    "    total_count = 0\n",
    "    for key, val in dict1.items():\n",
    "        total_count += len(val)\n",
    "    return total_count\n",
    "\n",
    "mapping_count_dict['left_left'] = get_count(left_left)\n",
    "mapping_count_dict['right_right'] = get_count(right_right)\n",
    "mapping_count_dict['left_right'] = get_count(left_right)\n",
    "mapping_count_dict['right_left'] = get_count(right_left)  \n",
    "\n",
    "mapping_count_dict\n"
   ]
  },
  {
   "cell_type": "code",
   "execution_count": 105,
   "metadata": {},
   "outputs": [
    {
     "data": {
      "text/plain": [
       "{'left': 22, 'right': 55}"
      ]
     },
     "execution_count": 105,
     "metadata": {},
     "output_type": "execute_result"
    }
   ],
   "source": [
    "left_hubs = []\n",
    "right_hubs = []\n",
    "left_right_hubs = {}\n",
    "for url in list(set(hubs)):\n",
    "    if url in left_sites:\n",
    "        left_hubs.append(url)\n",
    "    else:\n",
    "        right_hubs.append(url)\n",
    "\n",
    "left_right_hubs['left'] = len(left_hubs)\n",
    "left_right_hubs['right'] = len(right_hubs)\n",
    "left_right_hubs"
   ]
  },
  {
   "cell_type": "code",
   "execution_count": 106,
   "metadata": {},
   "outputs": [
    {
     "data": {
      "text/plain": [
       "{'left': 46, 'right': 139}"
      ]
     },
     "execution_count": 106,
     "metadata": {},
     "output_type": "execute_result"
    }
   ],
   "source": [
    "left_authorities = []\n",
    "right_authorities = []\n",
    "left_right_authorities = {}\n",
    "for url in list(set(authorities)):\n",
    "    if url in left_sites:\n",
    "        left_authorities.append(url)\n",
    "    else:\n",
    "        right_authorities.append(url)\n",
    "\n",
    "left_right_authorities['left'] = len(left_authorities)\n",
    "left_right_authorities['right'] = len(right_authorities)\n",
    "left_right_authorities"
   ]
  },
  {
   "cell_type": "code",
   "execution_count": 107,
   "metadata": {
    "collapsed": true
   },
   "outputs": [],
   "source": [
    "intersection_list = set(hubs).intersection(set(authorities))\n",
    "#len(intersection_list)"
   ]
  }
 ],
 "metadata": {
  "kernelspec": {
   "display_name": "Python 2",
   "language": "python",
   "name": "python2"
  },
  "language_info": {
   "codemirror_mode": {
    "name": "ipython",
    "version": 2
   },
   "file_extension": ".py",
   "mimetype": "text/x-python",
   "name": "python",
   "nbconvert_exporter": "python",
   "pygments_lexer": "ipython2",
   "version": "2.7.13"
  }
 },
 "nbformat": 4,
 "nbformat_minor": 2
}
