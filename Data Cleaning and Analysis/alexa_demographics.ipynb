{
 "cells": [
  {
   "cell_type": "markdown",
   "metadata": {},
   "source": [
    "# Analysis of demographic patterns of partisan websites"
   ]
  },
  {
   "cell_type": "code",
   "execution_count": 1,
   "metadata": {
    "collapsed": true
   },
   "outputs": [],
   "source": [
    "import json\n",
    "import os\n",
    "import glob\n",
    "\n",
    "\n",
    "dir_name = 'data/Alexa_rank_charts'\n",
    "json_pattern = os.path.join(dir_name,'*.json')\n",
    "file_list = glob.glob(json_pattern)\n",
    "demographics_categories = ['age', 'education', 'ethnicity', 'income']\n",
    "demographics_dict = {}"
   ]
  },
  {
   "cell_type": "code",
   "execution_count": 2,
   "metadata": {
    "collapsed": true
   },
   "outputs": [],
   "source": [
    "# Populating age, education, ethnicity, income and gender categories from the data \n",
    "first_json = json.loads(open(file_list[0]).read())\n",
    "first_url = first_json['metrics'].keys()\n",
    "age_ranges = first_json['metrics'][first_url[0]]['demographics']['age'].keys()\n",
    "education_types = first_json['metrics'][first_url[0]]['demographics']['education'].keys()\n",
    "ethnicity_types = first_json['metrics'][first_url[0]]['demographics']['ethnicity'].keys()\n",
    "income_ranges = first_json['metrics'][first_url[0]]['demographics']['income'].keys()\n",
    "gender_types = ['male', 'female']"
   ]
  },
  {
   "cell_type": "code",
   "execution_count": 3,
   "metadata": {
    "collapsed": true
   },
   "outputs": [],
   "source": [
    "from partisan_sites_parser import *\n",
    "from referer_parser import *\n",
    "partisan_websites = sites\n",
    "left_sites = left\n",
    "right_sites = right\n",
    "\n",
    "# gender dict contains Alexa's representation based on gender\n",
    "gender_dict = {}\n",
    "for each_file in file_list:\n",
    "    json_data = open(each_file).read()\n",
    "    try:\n",
    "        data = json.loads(json_data)\n",
    "        url = data['metrics'].keys()[0]\n",
    "        if data['metrics'][url]['demographics']['gender'] != []:\n",
    "            gender_dict[url] = {}\n",
    "            if data['metrics'][url]['demographics']['gender']['m']['score'] != {}:\n",
    "                gender_dict[url]['male'] = data['metrics'][url]['demographics']['gender']['m']['score']\n",
    "            if data['metrics'][url]['demographics']['gender']['f']['score'] != '':\n",
    "                gender_dict[url]['female'] = data['metrics'][url]['demographics']['gender']['f']['score'] \n",
    "    except  ValueError, e:\n",
    "        print e, each_file"
   ]
  },
  {
   "cell_type": "code",
   "execution_count": 4,
   "metadata": {
    "collapsed": true
   },
   "outputs": [],
   "source": [
    "for key in gender_dict.keys():\n",
    "    if key not in partisan_websites:\n",
    "        gender_dict.pop(key)"
   ]
  },
  {
   "cell_type": "code",
   "execution_count": 63,
   "metadata": {
    "collapsed": true
   },
   "outputs": [],
   "source": [
    "no_demo_data = []\n",
    "for x in partisan_websites:\n",
    "    if x not in gender_dict.keys():\n",
    "        no_demo_data.append(x)\n",
    "        "
   ]
  },
  {
   "cell_type": "code",
   "execution_count": 65,
   "metadata": {},
   "outputs": [
    {
     "data": {
      "text/plain": [
       "247"
      ]
     },
     "execution_count": 65,
     "metadata": {},
     "output_type": "execute_result"
    }
   ],
   "source": [
    "len(no_demo_data)"
   ]
  },
  {
   "cell_type": "code",
   "execution_count": 6,
   "metadata": {
    "collapsed": true
   },
   "outputs": [],
   "source": [
    "gender_left = {}\n",
    "gender_right = {}\n",
    "for key, val in gender_dict.items():\n",
    "    if key in left:\n",
    "        gender_left[key] = val\n",
    "    if key in right:\n",
    "        gender_right[key] = val"
   ]
  },
  {
   "cell_type": "code",
   "execution_count": 66,
   "metadata": {},
   "outputs": [
    {
     "data": {
      "text/plain": [
       "290"
      ]
     },
     "execution_count": 66,
     "metadata": {},
     "output_type": "execute_result"
    }
   ],
   "source": [
    "len(gender_right)"
   ]
  },
  {
   "cell_type": "code",
   "execution_count": 7,
   "metadata": {
    "collapsed": true
   },
   "outputs": [],
   "source": [
    "\n",
    "def get_cumulative_gender_dict(gender_type_dict):\n",
    "    each_gender_dict = {}\n",
    "    for key, val in gender_type_dict.items():\n",
    "        if 'female' in val.keys():\n",
    "            if 'female' not in each_gender_dict.keys():\n",
    "                each_gender_dict['female'] = []\n",
    "                each_gender_dict['female'].append(int(val['female']))\n",
    "            else:\n",
    "                each_gender_dict['female'].append(int(val['female']))\n",
    "        if 'male' in val.keys():\n",
    "            if 'male' not in each_gender_dict.keys():\n",
    "                each_gender_dict['male'] = []\n",
    "                each_gender_dict['male'].append(int(val['male']))\n",
    "            else:\n",
    "                each_gender_dict['male'].append(int(val['male']))\n",
    "    return each_gender_dict    "
   ]
  },
  {
   "cell_type": "code",
   "execution_count": 8,
   "metadata": {
    "collapsed": true
   },
   "outputs": [],
   "source": [
    "gender_left_dict = get_cumulative_gender_dict(gender_left)\n",
    "gender_right_dict = get_cumulative_gender_dict(gender_right)"
   ]
  },
  {
   "cell_type": "code",
   "execution_count": 9,
   "metadata": {
    "collapsed": true
   },
   "outputs": [],
   "source": [
    "# Population demographics for each category out of age, education, ethnicity and income\n",
    "\n",
    "for each_file in file_list:\n",
    "    json_data = open(each_file).read()\n",
    "    try:\n",
    "        data = json.loads(json_data)\n",
    "        url = data['metrics'].keys()[0]\n",
    "        demographics_dict[url] = {}\n",
    "        for category in demographics_categories:\n",
    "            demographics_dict[url][category] = {}\n",
    "        if data['metrics'][url]['demographics']['age'] != []:\n",
    "            for age_range in age_ranges: \n",
    "                demographics_dict[url]['age'][age_range] = data['metrics'][url]['demographics']['age'][age_range]['score']\n",
    "        if data['metrics'][url]['demographics']['education'] != []:\n",
    "            for education_type in education_types:\n",
    "                demographics_dict[url]['education'][education_type] = data['metrics'][url]['demographics']['education'][education_type].get('score')\n",
    "        if data['metrics'][url]['demographics']['ethnicity'] != []:\n",
    "            for ethnicity_type in ethnicity_types:\n",
    "                demographics_dict[url]['ethnicity'][ethnicity_type] = data['metrics'][url]['demographics']['ethnicity'][ethnicity_type]['score']\n",
    "        if data['metrics'][url]['demographics']['income'] != []:\n",
    "            for income_range in income_ranges:\n",
    "                demographics_dict[url]['income'][income_range] = data['metrics'][url]['demographics']['income'][income_range]['score']\n",
    "    except ValueError, e:\n",
    "        print e, each_file\n",
    "        \n",
    "for key, val in demographics_dict.items():\n",
    "    if val['age'] == {} and val['education'] == {} and val['ethnicity'] == {} and val['income'] == {}:\n",
    "        demographics_dict.pop(key)\n",
    "        "
   ]
  },
  {
   "cell_type": "code",
   "execution_count": 10,
   "metadata": {
    "collapsed": true
   },
   "outputs": [],
   "source": [
    "from partisan_sites_parser import *\n",
    "from referer_parser import *\n",
    "\n",
    "# Finding demographics for hubs and authorities\n",
    "\n",
    "hubs_list = list(set(hubs))\n",
    "hubs_left = left_hubs\n",
    "hubs_right = right_hubs\n",
    "demo_hubs_left = {}\n",
    "demo_hubs_right = {}\n",
    "partisan_websites = sites\n",
    "left_sites = left\n",
    "right_sites = right\n",
    "\n",
    "for key in demographics_dict.keys():\n",
    "    if key not in partisan_websites:\n",
    "        demographics_dict.pop(key)\n",
    "\n",
    "demographics_left = {}\n",
    "demographics_right = {}\n",
    "for key, val in demographics_dict.items():\n",
    "    if key in left:\n",
    "        demographics_left[key] = val\n",
    "    if key in right:\n",
    "        demographics_right[key] = val\n",
    "\n",
    "for key, val in demographics_left.items():\n",
    "    if key in hubs_left:\n",
    "        demo_hubs_left[key] = val\n",
    "\n",
    "for key, val in demographics_right.items():\n",
    "    if key in hubs_right:\n",
    "        demo_hubs_right[key] = val\n"
   ]
  },
  {
   "cell_type": "code",
   "execution_count": 11,
   "metadata": {
    "collapsed": true
   },
   "outputs": [],
   "source": [
    "missing_data = []\n",
    "# Cleaning data with missing values\n",
    "for key, val in demographics_left.items():\n",
    "    for income in val['income'].keys():\n",
    "        if val['income'][income] == '':\n",
    "            missing_data.append(key)\n",
    "    for age in val['age'].keys():\n",
    "        if val['age'][age] == '':\n",
    "            missing_data.append(key)\n",
    "    for edu in val['education'].keys():\n",
    "        if val['education'][edu] == '':\n",
    "            missing_data.append(key)\n",
    "    for eth in val['ethnicity'].keys():\n",
    "        if val['ethnicity'][eth] == '':\n",
    "            missing_data.append(key)"
   ]
  },
  {
   "cell_type": "code",
   "execution_count": 12,
   "metadata": {
    "collapsed": true
   },
   "outputs": [],
   "source": [
    "for key, val in demographics_right.items():\n",
    "    for income in val['income'].keys():\n",
    "        if val['income'][income] == '':\n",
    "            missing_data.append(key)\n",
    "    for age in val['age'].keys():\n",
    "        if val['age'][age] == '':\n",
    "            missing_data.append(key)\n",
    "    for edu in val['education'].keys():\n",
    "        if val['education'][edu] == '':\n",
    "            missing_data.append(key)\n",
    "    for eth in val['ethnicity'].keys():\n",
    "        if val['ethnicity'][eth] == '':\n",
    "            missing_data.append(key)"
   ]
  },
  {
   "cell_type": "code",
   "execution_count": 13,
   "metadata": {},
   "outputs": [
    {
     "data": {
      "text/plain": [
       "278"
      ]
     },
     "execution_count": 13,
     "metadata": {},
     "output_type": "execute_result"
    }
   ],
   "source": [
    "len(set(missing_data))"
   ]
  },
  {
   "cell_type": "code",
   "execution_count": 14,
   "metadata": {
    "collapsed": true
   },
   "outputs": [],
   "source": [
    "# getting each_category dict with different category types as bins\n",
    "def get_demo_category_dict(parent_dict, category, category_types):\n",
    "    demo_category_dict = {}\n",
    "    for each_val in category_types:\n",
    "        demo_category_dict[each_val] = {}\n",
    "    #print demo_category_dict\n",
    "    for key, val in parent_dict.items():\n",
    "        if val[category] != {}:\n",
    "            #print val[category]\n",
    "            for each_key in val[category].keys():\n",
    "                #print each_key\n",
    "                if val[category][each_key] != '':\n",
    "                    demo_category_dict[each_key][key] = val[category][each_key]   \n",
    "    return demo_category_dict"
   ]
  },
  {
   "cell_type": "code",
   "execution_count": 15,
   "metadata": {
    "collapsed": true
   },
   "outputs": [],
   "source": [
    "#Convert each category into dataframes\n",
    "\n",
    "age_left_data = get_demo_category_dict(demographics_left, 'age', age_ranges)\n",
    "age_right_data =  get_demo_category_dict(demographics_right, 'age', age_ranges)\n",
    "education_left_data = get_demo_category_dict(demographics_left, 'education', education_types)\n",
    "education_right_data = get_demo_category_dict(demographics_right, 'education', education_types)\n",
    "ethnicity_left_data = get_demo_category_dict(demographics_left, 'ethnicity', ethnicity_types)\n",
    "ethnicity_right_data = get_demo_category_dict(demographics_right, 'ethnicity', ethnicity_types)\n",
    "income_left_data = get_demo_category_dict(demographics_left, 'income', income_ranges)\n",
    "income_right_data =  get_demo_category_dict(demographics_right, 'income', income_ranges)"
   ]
  },
  {
   "cell_type": "code",
   "execution_count": 16,
   "metadata": {
    "collapsed": true
   },
   "outputs": [],
   "source": [
    "import pandas as pd\n",
    "age_left_df = pd.DataFrame(age_left_data)\n",
    "age_right_df = pd.DataFrame(age_right_data)"
   ]
  },
  {
   "cell_type": "code",
   "execution_count": 17,
   "metadata": {
    "collapsed": true
   },
   "outputs": [],
   "source": [
    "education_left_df = pd.DataFrame(education_left_data)\n",
    "education_right_df = pd.DataFrame(education_right_data)"
   ]
  },
  {
   "cell_type": "code",
   "execution_count": 18,
   "metadata": {
    "collapsed": true
   },
   "outputs": [],
   "source": [
    "ethnicity_left_df = pd.DataFrame(ethnicity_left_data)\n",
    "ethnicity_right_df = pd.DataFrame(ethnicity_right_data)"
   ]
  },
  {
   "cell_type": "code",
   "execution_count": 19,
   "metadata": {
    "collapsed": true
   },
   "outputs": [],
   "source": [
    "income_left_df = pd.DataFrame(income_left_data)\n",
    "income_right_df = pd.DataFrame(income_right_data)"
   ]
  },
  {
   "cell_type": "code",
   "execution_count": 20,
   "metadata": {
    "collapsed": true
   },
   "outputs": [],
   "source": [
    "import numpy as np\n",
    "from numpy import nan\n",
    "\n",
    "def remove_missing_data(dataframe, category_types):\n",
    "    new_dict = {}\n",
    "    for each_key in category_types:\n",
    "        new_dict[each_key] = [int(x) for x in dataframe[each_key].dropna()]\n",
    "    return new_dict\n"
   ]
  },
  {
   "cell_type": "code",
   "execution_count": 21,
   "metadata": {
    "collapsed": true
   },
   "outputs": [],
   "source": [
    "age_left_dict = remove_missing_data(age_left_df, age_ranges)\n",
    "age_right_dict = remove_missing_data(age_right_df, age_ranges)"
   ]
  },
  {
   "cell_type": "code",
   "execution_count": 22,
   "metadata": {
    "collapsed": true
   },
   "outputs": [],
   "source": [
    "education_left_dict = remove_missing_data(education_left_df, education_types)\n",
    "education_right_dict = remove_missing_data(education_right_df, education_types)"
   ]
  },
  {
   "cell_type": "code",
   "execution_count": 23,
   "metadata": {
    "collapsed": true
   },
   "outputs": [],
   "source": [
    "ethnicity_left_dict = remove_missing_data(ethnicity_left_df, ethnicity_types)\n",
    "ethnicity_right_dict = remove_missing_data(ethnicity_right_df, ethnicity_types)"
   ]
  },
  {
   "cell_type": "code",
   "execution_count": 24,
   "metadata": {
    "collapsed": true
   },
   "outputs": [],
   "source": [
    "income_left_dict = remove_missing_data(income_left_df, income_ranges)\n",
    "income_right_dict = remove_missing_data(income_right_df, income_ranges)"
   ]
  },
  {
   "cell_type": "code",
   "execution_count": 25,
   "metadata": {
    "collapsed": true
   },
   "outputs": [],
   "source": [
    "%matplotlib inline"
   ]
  },
  {
   "cell_type": "code",
   "execution_count": 26,
   "metadata": {
    "collapsed": true
   },
   "outputs": [],
   "source": [
    "# Normalizing the datasets by using Random Sampling\n",
    "import numpy as np\n",
    "import pandas as pd\n",
    "import scipy.stats as stats\n",
    "import matplotlib.pyplot as plt\n",
    "import random\n",
    "import math"
   ]
  },
  {
   "cell_type": "code",
   "execution_count": 27,
   "metadata": {
    "collapsed": true
   },
   "outputs": [],
   "source": [
    "def get_point_estimates(distribution):\n",
    "    np.random.seed(10)\n",
    "    point_estimates = []         # Make empty list to hold point estimates\n",
    "    for x in range(500):         # Generate 200 samples\n",
    "        sample = np.random.choice(a=distribution, size=10)\n",
    "        point_estimates.append( sample.mean() )\n",
    "    return point_estimates"
   ]
  },
  {
   "cell_type": "code",
   "execution_count": 56,
   "metadata": {
    "collapsed": true
   },
   "outputs": [],
   "source": [
    "def get_sample_dict(population_dict, category_types):\n",
    "    sample_dict = {}\n",
    "    z_critical = stats.norm.ppf(q = 0.975)\n",
    "    for each_key in category_types:\n",
    "        sample_dict[each_key] = {}\n",
    "        point_estimates = get_point_estimates(population_dict[each_key])\n",
    "        sample_dict[each_key]['mean'] = np.mean(point_estimates)\n",
    "        sample_dict[each_key]['std'] = z_critical * np.std(population_dict[each_key])/math.sqrt(5000)\n",
    "    #print z_critical\n",
    "    return sample_dict"
   ]
  },
  {
   "cell_type": "code",
   "execution_count": 54,
   "metadata": {},
   "outputs": [
    {
     "name": "stdout",
     "output_type": "stream",
     "text": [
      "1.95996398454\n"
     ]
    },
    {
     "data": {
      "text/plain": [
       "131"
      ]
     },
     "execution_count": 54,
     "metadata": {},
     "output_type": "execute_result"
    }
   ],
   "source": [
    "gender_left_sample_dict = get_sample_dict(gender_left_dict, gender_types)\n",
    "len(gender_left_dict['male'])"
   ]
  },
  {
   "cell_type": "code",
   "execution_count": 55,
   "metadata": {},
   "outputs": [
    {
     "name": "stdout",
     "output_type": "stream",
     "text": [
      "1.95996398454\n"
     ]
    }
   ],
   "source": [
    "gender_right_sample_dict = get_sample_dict(gender_right_dict, gender_types)"
   ]
  },
  {
   "cell_type": "code",
   "execution_count": 57,
   "metadata": {
    "collapsed": true
   },
   "outputs": [],
   "source": [
    "gender_left_sample_df = pd.DataFrame(gender_left_sample_dict)\n",
    "gender_right_sample_df = pd.DataFrame(gender_right_sample_dict)"
   ]
  },
  {
   "cell_type": "code",
   "execution_count": 58,
   "metadata": {
    "collapsed": true
   },
   "outputs": [],
   "source": [
    "age_left_sample_dict = get_sample_dict(age_left_dict, age_ranges)\n",
    "age_right_sample_dict =  get_sample_dict(age_right_dict, age_ranges)"
   ]
  },
  {
   "cell_type": "code",
   "execution_count": 59,
   "metadata": {
    "collapsed": true,
    "scrolled": true
   },
   "outputs": [],
   "source": [
    "age_left_sample_df = pd.DataFrame(age_left_sample_dict)\n",
    "age_right_sample_df = pd.DataFrame(age_right_sample_dict)"
   ]
  },
  {
   "cell_type": "code",
   "execution_count": 60,
   "metadata": {},
   "outputs": [
    {
     "data": {
      "text/html": [
       "<div>\n",
       "<style>\n",
       "    .dataframe thead tr:only-child th {\n",
       "        text-align: right;\n",
       "    }\n",
       "\n",
       "    .dataframe thead th {\n",
       "        text-align: left;\n",
       "    }\n",
       "\n",
       "    .dataframe tbody tr th {\n",
       "        vertical-align: top;\n",
       "    }\n",
       "</style>\n",
       "<table border=\"1\" class=\"dataframe\">\n",
       "  <thead>\n",
       "    <tr style=\"text-align: right;\">\n",
       "      <th></th>\n",
       "      <th>18-24</th>\n",
       "      <th>25-34</th>\n",
       "      <th>35-44</th>\n",
       "      <th>45-54</th>\n",
       "      <th>55-64</th>\n",
       "      <th>65+</th>\n",
       "    </tr>\n",
       "  </thead>\n",
       "  <tbody>\n",
       "    <tr>\n",
       "      <th>mean</th>\n",
       "      <td>65.12300</td>\n",
       "      <td>71.092800</td>\n",
       "      <td>85.594800</td>\n",
       "      <td>138.220200</td>\n",
       "      <td>270.971800</td>\n",
       "      <td>541.592800</td>\n",
       "    </tr>\n",
       "    <tr>\n",
       "      <th>std</th>\n",
       "      <td>0.95508</td>\n",
       "      <td>0.847464</td>\n",
       "      <td>0.856576</td>\n",
       "      <td>1.505123</td>\n",
       "      <td>3.471611</td>\n",
       "      <td>15.535024</td>\n",
       "    </tr>\n",
       "  </tbody>\n",
       "</table>\n",
       "</div>"
      ],
      "text/plain": [
       "         18-24      25-34      35-44       45-54       55-64         65+\n",
       "mean  65.12300  71.092800  85.594800  138.220200  270.971800  541.592800\n",
       "std    0.95508   0.847464   0.856576    1.505123    3.471611   15.535024"
      ]
     },
     "execution_count": 60,
     "metadata": {},
     "output_type": "execute_result"
    }
   ],
   "source": [
    "age_left_sample_df"
   ]
  },
  {
   "cell_type": "code",
   "execution_count": 46,
   "metadata": {
    "collapsed": true
   },
   "outputs": [],
   "source": [
    "edu_left_sample_dict = get_sample_dict(education_left_dict, education_types)\n",
    "edu_right_sample_dict = get_sample_dict(education_right_dict, education_types)"
   ]
  },
  {
   "cell_type": "code",
   "execution_count": 47,
   "metadata": {
    "collapsed": true
   },
   "outputs": [],
   "source": [
    "education_columns = ['NoCollege', 'SomeCollege', 'College', 'GraduateSchool']"
   ]
  },
  {
   "cell_type": "code",
   "execution_count": 48,
   "metadata": {
    "collapsed": true
   },
   "outputs": [],
   "source": [
    "edu_left_sample_df = pd.DataFrame(edu_left_sample_dict, columns=education_columns)\n",
    "edu_right_sample_df = pd.DataFrame(edu_right_sample_dict, columns=education_columns)"
   ]
  },
  {
   "cell_type": "code",
   "execution_count": 49,
   "metadata": {
    "collapsed": true
   },
   "outputs": [],
   "source": [
    "eth_left_sample_dict = get_sample_dict(ethnicity_left_dict, ethnicity_types)\n",
    "eth_right_sample_dict = get_sample_dict(ethnicity_right_dict, ethnicity_types)"
   ]
  },
  {
   "cell_type": "code",
   "execution_count": 50,
   "metadata": {
    "collapsed": true
   },
   "outputs": [],
   "source": [
    "ethnicity_columns = ['African','AfricanAmerican','Asian','Caucasian', 'Hispanic', 'MiddleEastern', 'Other' ]"
   ]
  },
  {
   "cell_type": "code",
   "execution_count": 183,
   "metadata": {
    "collapsed": true
   },
   "outputs": [],
   "source": [
    "eth_left_sample_df = pd.DataFrame(eth_left_sample_dict, columns=ethnicity_columns)\n",
    "eth_right_sample_df = pd.DataFrame(eth_right_sample_dict, columns=ethnicity_columns)"
   ]
  },
  {
   "cell_type": "code",
   "execution_count": 188,
   "metadata": {
    "collapsed": true
   },
   "outputs": [],
   "source": [
    "inc_left_sample_dict = get_sample_dict(income_left_dict, income_ranges)\n",
    "inc_right_sample_dict =  get_sample_dict(income_right_dict, income_ranges)"
   ]
  },
  {
   "cell_type": "code",
   "execution_count": 189,
   "metadata": {
    "collapsed": true
   },
   "outputs": [],
   "source": [
    "income_columns = ['0-30k', '30-60k','60-100k', '100k+']"
   ]
  },
  {
   "cell_type": "code",
   "execution_count": 190,
   "metadata": {
    "collapsed": true
   },
   "outputs": [],
   "source": [
    "inc_left_sample_df = pd.DataFrame(inc_left_sample_dict, columns=income_columns)\n",
    "inc_right_sample_df = pd.DataFrame(inc_right_sample_dict, columns=income_columns)"
   ]
  }
 ],
 "metadata": {
  "kernelspec": {
   "display_name": "Python 2",
   "language": "python",
   "name": "python2"
  },
  "language_info": {
   "codemirror_mode": {
    "name": "ipython",
    "version": 2
   },
   "file_extension": ".py",
   "mimetype": "text/x-python",
   "name": "python",
   "nbconvert_exporter": "python",
   "pygments_lexer": "ipython2",
   "version": "2.7.13"
  }
 },
 "nbformat": 4,
 "nbformat_minor": 2
}
