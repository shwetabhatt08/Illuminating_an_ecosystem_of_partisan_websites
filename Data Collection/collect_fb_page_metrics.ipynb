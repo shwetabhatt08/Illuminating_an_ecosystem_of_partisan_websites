{
 "cells": [
  {
   "cell_type": "code",
   "execution_count": 1,
   "metadata": {
    "collapsed": true
   },
   "outputs": [],
   "source": [
    "import pandas\n",
    "import pandas as pd\n",
    "import numpy as np\n",
    "import operator\n",
    "import glob\n",
    "from os.path import expanduser as ospath\n",
    "from urlparse import urlparse\n",
    "import os\n",
    "import requests\n",
    "from requests_toolbelt.utils import dump\n",
    "import unicodedata\n",
    "import facebook\n",
    "from collections import Counter\n",
    "import json\n",
    "import time\n",
    " \n",
    "\n",
    "json_data = open('data/fb_status_fan_count.json').read()\n",
    "active_pages = json.loads(json_data)\n",
    "active_ids = []\n",
    "\n",
    "for key, val in active_pages.items():\n",
    "    active_ids.append(val['id'])\n",
    "\n",
    "page_metrics_dict = {}\n"
   ]
  },
  {
   "cell_type": "code",
   "execution_count": 10,
   "metadata": {
    "collapsed": true
   },
   "outputs": [],
   "source": [
    "# token generated from Facebook Graph API explorer\n",
    "token = ''\n",
    "graph = facebook.GraphAPI(access_token=token, version='2.9')"
   ]
  },
  {
   "cell_type": "code",
   "execution_count": 7,
   "metadata": {
    "collapsed": true
   },
   "outputs": [],
   "source": [
    "#get id,name,category,verification_status,website,link,fan_count,start_info\n",
    "import json\n",
    "\n",
    "def get_page_metrics(page_list, file_name):\n",
    "    count = 0\n",
    "    for each_page in page_list:\n",
    "        try:\n",
    "            page = graph.get_object(id= str(each_page), fields='id,name,category,verification_status,website,link,fan_count,start_info')\n",
    "            page_metrics_dict[each_page] = page\n",
    "            time.sleep(2) \n",
    "            print count\n",
    "            count +=1\n",
    "        except:\n",
    "            print each_page\n",
    "    \n",
    "    with open(file_name, 'w') as f:\n",
    "        json.dump(page_metrics_dict, f)\n"
   ]
  },
  {
   "cell_type": "code",
   "execution_count": null,
   "metadata": {
    "collapsed": true
   },
   "outputs": [],
   "source": [
    "get_page_metrics(mainstream_pages, 'fb_mainstream_pages.json')"
   ]
  },
  {
   "cell_type": "code",
   "execution_count": null,
   "metadata": {
    "collapsed": true
   },
   "outputs": [],
   "source": [
    "#get pages that like a particular page\n",
    "import requests\n",
    "import json\n",
    "pages_liked = {}\n",
    "#this_page = graph.get_object(id='1485438831785542', fields='likes?pretty=0&limit=500')\n",
    "\n",
    "def get_pages_liked(page_ids, folder_name)\n",
    "    count = 0\n",
    "    for each_id in page_ids:\n",
    "        page = requests.get('https://graph.facebook.com/%s/likes?pretty=0&limit=500&access_token=EAACEdEose0cBAGVkINZBMaZAFMHYU5yhm4mIiSAlGNpJAvnuSLrG6JIpBv12s0QbpUNqcfnwvZAs3hZBklQfYXMHlMAJ5fzUWf65kkYA51cyeZApgGaqHfJ9nBMKZAYquPKRwBNh0KP41Uix9CFIiYBaPnUJ8AOXjvsvWIvoYodFI2U8tLUXEWQlevUkK1NCUzwZC2OlqYCXwZDZD'%(str(each_id)))\n",
    "        data = page.json()\n",
    "        with open(folder_name+''/'+str(each_id)+'.json', 'w') as f:\n",
    "            json.dump(data, f)\n",
    "        time.sleep(1)\n",
    "        print count\n",
    "        count+=1"
   ]
  },
  {
   "cell_type": "code",
   "execution_count": null,
   "metadata": {
    "collapsed": true
   },
   "outputs": [],
   "source": [
    "#get the ids of the posts in which the pages have been tagged\n",
    "\n",
    "import requests\n",
    "followers = {}\n",
    "\n",
    "failed = []\n",
    "\n",
    "count = 0\n",
    "for each_id in active_ids:\n",
    "    followers = {}\n",
    "    resp_page = requests.get('https://graph.facebook.com/v2.9/%s/tagged?pretty=0&limit=100&access_token=EAACEdEose0cBACBIGJrEoRFTWESoG9oqta6u96ZAxEVjx6KHUhLZCRfr45ns3gBvBz6zZCPEfef8KSXqE0CWqzWByKP6qi89KicK51G4HxAXYiDxLJtrr9pdbQyJ1KFQeeLpoBcv96LB88UivwQyDM4t5cDh0qUImc7VF5OLGUDt7MiL37FdeqAoBR1hXlBwlUrMasLPAZDZD'%(str(each_id)))\n",
    "    page_data = resp_page.json()\n",
    "    if page_data.has_key('data'):\n",
    "        for each_page in page_data['data']:\n",
    "            followers[each_page['id']] = each_page['tagged_time']\n",
    "        with open('current_followers/'+str(each_id)+'.json', 'w') as f:\n",
    "            json.dump(followers, f)\n",
    "        time.sleep(1)\n",
    "        print count\n",
    "        count+=1\n",
    "    else:\n",
    "        failed.append(each_id)\n",
    "\n"
   ]
  },
  {
   "cell_type": "code",
   "execution_count": null,
   "metadata": {
    "collapsed": true
   },
   "outputs": [],
   "source": []
  },
  {
   "cell_type": "code",
   "execution_count": null,
   "metadata": {
    "collapsed": true
   },
   "outputs": [],
   "source": []
  }
 ],
 "metadata": {
  "kernelspec": {
   "display_name": "Python 2",
   "language": "python",
   "name": "python2"
  },
  "language_info": {
   "codemirror_mode": {
    "name": "ipython",
    "version": 2
   },
   "file_extension": ".py",
   "mimetype": "text/x-python",
   "name": "python",
   "nbconvert_exporter": "python",
   "pygments_lexer": "ipython2",
   "version": "2.7.13"
  }
 },
 "nbformat": 4,
 "nbformat_minor": 2
}
