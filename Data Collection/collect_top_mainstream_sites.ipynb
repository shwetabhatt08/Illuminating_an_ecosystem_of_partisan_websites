{
 "cells": [
  {
   "cell_type": "code",
   "execution_count": 118,
   "metadata": {
    "collapsed": true
   },
   "outputs": [],
   "source": [
    "from bs4 import BeautifulSoup\n",
    "import requests\n",
    "import urllib\n",
    "import pandas\n",
    "import pandas as pandas\n",
    "import unicodedata   \n",
    "from time import sleep\n",
    "import json\n",
    "\n",
    "\n",
    "\n",
    "# Fill in your details here to be posted to the login form.\n",
    "payload = {\n",
    "    'inUserName': '<username>',\n",
    "    'inUserPass': '<password>'\n",
    "}\n",
    "\n",
    "top_mainstream_sites = []\n",
    "url_list = []\n",
    "mainstream_sites = []\n",
    "\n",
    "for i in range (0, 10):\n",
    "    url_list.append('http://www.alexa.com/topsites/category;%s/News' %(str(i)))"
   ]
  },
  {
   "cell_type": "code",
   "execution_count": null,
   "metadata": {
    "collapsed": true
   },
   "outputs": [],
   "source": [
    "#send get request to access each page \n",
    "from requests_toolbelt.utils import dump\n",
    "    page = s.get(\"http://www.alexa.com/topsites/category;9/News\")\n",
    "    #data = page.text\n",
    "    data = dump.dump_all(page)\n",
    "    print(data.decode('utf-8'))\n",
    "    soup = BeautifulSoup(data, 'html.parser')\n",
    "    top_sites = soup.find_all(class_='td DescriptionCell')\n",
    "    for each_site in top_sites:\n",
    "        siteinfo = each_site.get_text()\n",
    "       "
   ]
  },
  {
   "cell_type": "code",
   "execution_count": null,
   "metadata": {
    "collapsed": true
   },
   "outputs": [],
   "source": [
    "# copy the accessed page as txt files for string formatting\n",
    "for i in range(0,20):\n",
    "    filename = \"/Users/shwetabhatt/shweta_data/%s.txt\" %(str(i))\n",
    "    with open(filename, 'r') as myfile:\n",
    "        data=myfile.read().replace('\\n', '')\n",
    "        soup = BeautifulSoup(data, 'html.parser')\n",
    "        top_sites = soup.find_all(class_='td DescriptionCell')\n",
    "        for each_site in top_sites:\n",
    "            xx = each_site.find_all(\"a\")\n",
    "            siteinfo = xx[0]\n",
    "            print siteinfo"
   ]
  },
  {
   "cell_type": "code",
   "execution_count": 70,
   "metadata": {},
   "outputs": [
    {
     "data": {
      "text/plain": [
       "500"
      ]
     },
     "execution_count": 70,
     "metadata": {},
     "output_type": "execute_result"
    }
   ],
   "source": [
    "len(top_mainstream_sites)"
   ]
  }
 ],
 "metadata": {
  "kernelspec": {
   "display_name": "Python 2",
   "language": "python",
   "name": "python2"
  },
  "language_info": {
   "codemirror_mode": {
    "name": "ipython",
    "version": 2
   },
   "file_extension": ".py",
   "mimetype": "text/x-python",
   "name": "python",
   "nbconvert_exporter": "python",
   "pygments_lexer": "ipython2",
   "version": "2.7.13"
  }
 },
 "nbformat": 4,
 "nbformat_minor": 2
}
