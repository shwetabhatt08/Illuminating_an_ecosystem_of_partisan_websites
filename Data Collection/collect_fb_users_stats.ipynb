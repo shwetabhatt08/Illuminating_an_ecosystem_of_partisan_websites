{
 "cells": [
  {
   "cell_type": "code",
   "execution_count": 2,
   "metadata": {
    "collapsed": true
   },
   "outputs": [],
   "source": [
    "import pandas\n",
    "import pandas as pd\n",
    "import numpy as np\n",
    "import operator\n",
    "import glob\n",
    "from os.path import expanduser as ospath\n",
    "from urlparse import urlparse\n",
    "import os\n",
    "import requests\n",
    "from requests_toolbelt.utils import dump\n",
    "import unicodedata\n",
    "import facebook\n",
    "from collections import Counter\n",
    "import json\n",
    "import time\n",
    "import facebook\n"
   ]
  },
  {
   "cell_type": "code",
   "execution_count": 3,
   "metadata": {
    "collapsed": true
   },
   "outputs": [],
   "source": [
    "df = pandas.read_csv('data/fb_Pages_2.csv')"
   ]
  },
  {
   "cell_type": "code",
   "execution_count": 4,
   "metadata": {
    "collapsed": true
   },
   "outputs": [],
   "source": [
    "top_followed_pages = list(df.sort_values('fan_count', ascending=False).head(50)['name'])"
   ]
  },
  {
   "cell_type": "code",
   "execution_count": 6,
   "metadata": {
    "collapsed": true
   },
   "outputs": [],
   "source": [
    "map_df = pandas.read_csv('data/fb_pages_mapping.csv')"
   ]
  },
  {
   "cell_type": "code",
   "execution_count": 7,
   "metadata": {
    "collapsed": true
   },
   "outputs": [],
   "source": [
    "top_followed_page_ids = list(map_df[map_df['page_name'].isin(top_followed_pages)]['id'])"
   ]
  },
  {
   "cell_type": "code",
   "execution_count": 9,
   "metadata": {
    "collapsed": true
   },
   "outputs": [],
   "source": [
    "dir_name = 'data/statuses'\n",
    "json_pattern = os.path.join(dir_name,'*.csv')\n",
    "file_list = glob.glob(json_pattern)"
   ]
  },
  {
   "cell_type": "code",
   "execution_count": 10,
   "metadata": {
    "collapsed": true
   },
   "outputs": [],
   "source": [
    "top_hub_ids = ['27088225427', '519305544814653', '95475020353', '253546571389025', '440106476051475', '147772245840', '188464111175168', '131682593971195', '1672814509645693']\n"
   ]
  },
  {
   "cell_type": "code",
   "execution_count": 11,
   "metadata": {
    "collapsed": true
   },
   "outputs": [],
   "source": [
    "top_ranked_ids = ['200137333331078', '1640832309490921', '144344708930358', '64639136366', '32109457015', '363572153995471', '119049414803510', '135403221037', '186589878469568', '135665053303678', '148345978571352', '222920264405712', '208385689205703', '249114388493918' ]\n"
   ]
  },
  {
   "cell_type": "code",
   "execution_count": 12,
   "metadata": {
    "collapsed": true
   },
   "outputs": [],
   "source": [
    "top_followed_files = []\n",
    "\n",
    "for each_id in top_followed_page_ids:\n",
    "    top_followed_files.append('data/statuses/'+ str(each_id)+'_facebook_statuses.csv')\n",
    "        \n",
    "top_hub_files = []\n",
    "for each_id in top_hub_ids:\n",
    "    top_hub_files.append('data/statuses/'+ str(each_id)+'_facebook_statuses.csv')\n",
    "    \n",
    "top_ranked_files = []\n",
    "for each_id in top_ranked_ids:\n",
    "    top_ranked_files.append('data/statuses/'+ str(each_id)+'_facebook_statuses.csv')"
   ]
  },
  {
   "cell_type": "code",
   "execution_count": 14,
   "metadata": {
    "collapsed": true
   },
   "outputs": [],
   "source": [
    "def compress_and_save(resp, f_name, d_type='json'):\n",
    "    if d_type == 'json':\n",
    "        resp = json.dumps(resp)\n",
    "        f_name = f_name + '.json'\n",
    "    else:\n",
    "        f_name = f_name + '.txt.gz'\n",
    "#     resp = resp.encode('utf-8').encode('zlib_codec')\n",
    "    with open( f_name, 'w') as f:\n",
    "        f.write (resp)"
   ]
  },
  {
   "cell_type": "code",
   "execution_count": 16,
   "metadata": {},
   "outputs": [
    {
     "name": "stdout",
     "output_type": "stream",
     "text": [
      "519305544814653\n",
      "100\n",
      "346937065399354\n",
      "100\n",
      "145380305523723\n",
      "100\n",
      "160389977329803\n",
      "100\n",
      "169204449790211\n",
      "100\n",
      "136264019722601\n",
      "100\n",
      "107705785934333\n",
      "100\n",
      "114364638621903\n",
      "100\n",
      "58158120046\n",
      "100\n",
      "123624513983\n",
      "100\n"
     ]
    }
   ],
   "source": [
    "import requests\n",
    "import json\n",
    "# add the token obtained from Facebook Graph API\n",
    "token = ''\n",
    "for each_file in top_followed_files:\n",
    "    dir_name = 'data/User_followers/'\n",
    "    sub_dir_list = [x[0] for x in os.walk(dir_name)]\n",
    "    # extract the page id from file name\n",
    "    page_id = each_file.split(\"/\")[2].split(\"_\")[0] \n",
    "    if page_id not in sub_dir_list:\n",
    "        file_df = pandas.read_csv(each_file)\n",
    "        top_post_list =  list(file_df.sort_values(['num_reactions'], ascending=False).head(100)['status_id'])\n",
    "        page_id = each_file.split('/')[2].split('_')[0]\n",
    "        count = 0\n",
    "        for each_post in top_post_list:\n",
    "            try:\n",
    "                page = requests.get('https://graph.facebook.com/%s/likes?pretty=0&limit=500000&access_token=%s'%(str(each_post),token))\n",
    "                data = page.json()\n",
    "                path = '<path to directory>'+ page_id +\"/\"\n",
    "                if not os.path.exists(path):\n",
    "                    os.makedirs(path)\n",
    "                compress_and_save(data, path + each_post)\n",
    "                time.sleep(1)\n",
    "                count+=1\n",
    "            except:\n",
    "                pass\n",
    "    # print count of posts\n",
    "    print count"
   ]
  },
  {
   "cell_type": "code",
   "execution_count": null,
   "metadata": {
    "collapsed": true
   },
   "outputs": [],
   "source": []
  }
 ],
 "metadata": {
  "kernelspec": {
   "display_name": "Python 2",
   "language": "python",
   "name": "python2"
  },
  "language_info": {
   "codemirror_mode": {
    "name": "ipython",
    "version": 2
   },
   "file_extension": ".py",
   "mimetype": "text/x-python",
   "name": "python",
   "nbconvert_exporter": "python",
   "pygments_lexer": "ipython2",
   "version": "2.7.13"
  }
 },
 "nbformat": 4,
 "nbformat_minor": 2
}
